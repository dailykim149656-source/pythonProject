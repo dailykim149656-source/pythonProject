{
 "cells": [
  {
   "cell_type": "code",
   "execution_count": 2,
   "id": "ccc43fb4",
   "metadata": {},
   "outputs": [
    {
     "name": "stdout",
     "output_type": "stream",
     "text": [
      "1\n"
     ]
    }
   ],
   "source": [
    "a = 1\n",
    "\n",
    "def vartest(a):\n",
    "    a = a+1\n",
    "\n",
    "vartest(a)\n",
    "print(a)"
   ]
  },
  {
   "cell_type": "code",
   "execution_count": 3,
   "id": "5f706ad7",
   "metadata": {},
   "outputs": [
    {
     "name": "stdout",
     "output_type": "stream",
     "text": [
      "1\n"
     ]
    }
   ],
   "source": [
    "a = 1\n",
    "\n",
    "def vartest(b):\n",
    "    b = b+1\n",
    "\n",
    "vartest(a)\n",
    "print(a)"
   ]
  },
  {
   "cell_type": "code",
   "execution_count": 1,
   "id": "8d9d0dba",
   "metadata": {},
   "outputs": [
    {
     "ename": "NameError",
     "evalue": "name 'a' is not defined",
     "output_type": "error",
     "traceback": [
      "\u001b[31m---------------------------------------------------------------------------\u001b[39m",
      "\u001b[31mNameError\u001b[39m                                 Traceback (most recent call last)",
      "\u001b[36mCell\u001b[39m\u001b[36m \u001b[39m\u001b[32mIn[1]\u001b[39m\u001b[32m, line 5\u001b[39m\n\u001b[32m      2\u001b[39m     a = a+\u001b[32m1\u001b[39m\n\u001b[32m      4\u001b[39m vartest(\u001b[32m3\u001b[39m)\n\u001b[32m----> \u001b[39m\u001b[32m5\u001b[39m \u001b[38;5;28mprint\u001b[39m(\u001b[43ma\u001b[49m)\n",
      "\u001b[31mNameError\u001b[39m: name 'a' is not defined"
     ]
    }
   ],
   "source": [
    "def vartest(a):\n",
    "    a = a+1\n",
    "\n",
    "vartest(3)\n",
    "print(a)"
   ]
  },
  {
   "cell_type": "code",
   "execution_count": 9,
   "id": "c5525d67",
   "metadata": {},
   "outputs": [
    {
     "name": "stdout",
     "output_type": "stream",
     "text": [
      "1\n",
      "1\n"
     ]
    }
   ],
   "source": [
    "a = 1\n",
    "\n",
    "def vartest(a):\n",
    "    a = a + 1\n",
    "    return a\n",
    "\n",
    "print(a)\n",
    "vartest(a)\n",
    "print(a)"
   ]
  },
  {
   "cell_type": "code",
   "execution_count": 13,
   "id": "e4db0534",
   "metadata": {},
   "outputs": [
    {
     "name": "stdout",
     "output_type": "stream",
     "text": [
      "6\n"
     ]
    }
   ],
   "source": [
    "a = 1\n",
    "\n",
    "def vartest(b):\n",
    "    global a\n",
    "    a = a + 5\n",
    "    return a\n",
    "\n",
    "vartest(a)\n",
    "print(a)"
   ]
  },
  {
   "cell_type": "code",
   "execution_count": null,
   "id": "66efd59f",
   "metadata": {},
   "outputs": [],
   "source": [
    "zip(*iterable)"
   ]
  },
  {
   "cell_type": "code",
   "execution_count": 14,
   "id": "73e0e5f3",
   "metadata": {},
   "outputs": [
    {
     "name": "stdout",
     "output_type": "stream",
     "text": [
      "[(52, 19, 52), (255, 0, 255), (39, 227, 39), (132, 132, 187)]\n"
     ]
    }
   ],
   "source": [
    "r = (52, 255,39,132)\n",
    "g = (19,0,227,132)\n",
    "b = (52,255,39,187)\n",
    "\n",
    "img = list(zip(r,g,b))\n",
    "print(img)"
   ]
  },
  {
   "cell_type": "code",
   "execution_count": 15,
   "id": "63936113",
   "metadata": {},
   "outputs": [],
   "source": [
    "fruits = ['apple', 'banana', 'cherry', 'date']"
   ]
  },
  {
   "cell_type": "code",
   "execution_count": 16,
   "id": "e10e8d29",
   "metadata": {},
   "outputs": [
    {
     "name": "stdout",
     "output_type": "stream",
     "text": [
      "0 apple\n",
      "1 banana\n",
      "2 cherry\n",
      "3 date\n"
     ]
    }
   ],
   "source": [
    "a = 0\n",
    "for i in fruits:\n",
    "    print(a, i)\n",
    "    a+=1"
   ]
  },
  {
   "cell_type": "code",
   "execution_count": 18,
   "id": "e45e5713",
   "metadata": {},
   "outputs": [],
   "source": [
    "f = ('apple', 'banana', 'cherry', 'date')"
   ]
  },
  {
   "cell_type": "code",
   "execution_count": 19,
   "id": "60fabd05",
   "metadata": {},
   "outputs": [
    {
     "data": {
      "text/plain": [
       "<enumerate at 0x1a213b8e0c0>"
      ]
     },
     "execution_count": 19,
     "metadata": {},
     "output_type": "execute_result"
    }
   ],
   "source": [
    "enumerate(f)"
   ]
  },
  {
   "cell_type": "code",
   "execution_count": 21,
   "id": "aba10804",
   "metadata": {},
   "outputs": [
    {
     "data": {
      "text/plain": [
       "{1: 'apple', 2: 'banana', 3: 'cherry', 4: 'date'}"
      ]
     },
     "execution_count": 21,
     "metadata": {},
     "output_type": "execute_result"
    }
   ],
   "source": [
    "dict(enumerate(f, 1))"
   ]
  },
  {
   "cell_type": "code",
   "execution_count": 22,
   "id": "7031da22",
   "metadata": {},
   "outputs": [
    {
     "data": {
      "text/plain": [
       "('apple', 'banana', 'cherry', 'date')"
      ]
     },
     "execution_count": 22,
     "metadata": {},
     "output_type": "execute_result"
    }
   ],
   "source": [
    "f"
   ]
  },
  {
   "cell_type": "code",
   "execution_count": null,
   "id": "ab772fa4",
   "metadata": {},
   "outputs": [
    {
     "name": "stdout",
     "output_type": "stream",
     "text": [
      "[2, 3, 4, 5, 6]\n"
     ]
    }
   ],
   "source": [
    "mylist = [1, 2, 3, 4, 5]\n",
    "result = []\n",
    "for i in mylist:\n",
    "    result.append(i + 1)\n",
    "\n",
    "print(result)"
   ]
  },
  {
   "cell_type": "code",
   "execution_count": 27,
   "id": "3c332e18",
   "metadata": {},
   "outputs": [
    {
     "data": {
      "text/plain": [
       "[2, 3, 4, 5, 6]"
      ]
     },
     "execution_count": 27,
     "metadata": {},
     "output_type": "execute_result"
    }
   ],
   "source": [
    "mylist = [1, 2, 3, 4, 5]\n",
    "\n",
    "def add_one(n):\n",
    "    return n+1\n",
    "\n",
    "result = list(map(add_one,mylist))\n",
    "result"
   ]
  },
  {
   "cell_type": "code",
   "execution_count": 28,
   "id": "9f66df46",
   "metadata": {},
   "outputs": [
    {
     "ename": "TypeError",
     "evalue": "'list' object is not callable",
     "output_type": "error",
     "traceback": [
      "\u001b[31m---------------------------------------------------------------------------\u001b[39m",
      "\u001b[31mTypeError\u001b[39m                                 Traceback (most recent call last)",
      "\u001b[36mCell\u001b[39m\u001b[36m \u001b[39m\u001b[32mIn[28]\u001b[39m\u001b[32m, line 2\u001b[39m\n\u001b[32m      1\u001b[39m \u001b[38;5;28;01mfor\u001b[39;00m i \u001b[38;5;129;01min\u001b[39;00m \u001b[38;5;28mrange\u001b[39m(\u001b[38;5;28mlen\u001b[39m(mylist)):\n\u001b[32m----> \u001b[39m\u001b[32m2\u001b[39m     add_one(\u001b[43mmylist\u001b[49m\u001b[43m(\u001b[49m\u001b[43mi\u001b[49m\u001b[43m)\u001b[49m)\n",
      "\u001b[31mTypeError\u001b[39m: 'list' object is not callable"
     ]
    }
   ],
   "source": [
    "for i in range(len(mylist)):\n",
    "    add_one(mylist(i))"
   ]
  },
  {
   "cell_type": "code",
   "execution_count": 29,
   "id": "63c7894e",
   "metadata": {},
   "outputs": [
    {
     "data": {
      "text/plain": [
       "[3, -6, 100, 25]"
      ]
     },
     "execution_count": 29,
     "metadata": {},
     "output_type": "execute_result"
    }
   ],
   "source": [
    "mylist = [3.14, -5.6, 100.4, 25.0]\n",
    "\n",
    "result = list(map(round,mylist))\n",
    "result"
   ]
  },
  {
   "cell_type": "code",
   "execution_count": null,
   "id": "a52a166a",
   "metadata": {},
   "outputs": [
    {
     "data": {
      "text/plain": [
       "[8, 7]"
      ]
     },
     "execution_count": 30,
     "metadata": {},
     "output_type": "execute_result"
    }
   ],
   "source": [
    "a = [8, 3, 2, 10, 15, 7, 1, 0, 11]\n",
    "result = []\n",
    "for i in a:\n",
    "    if i > 5 and i < 10:\n",
    "        result.append(i)\n",
    "\n",
    "result"
   ]
  },
  {
   "cell_type": "code",
   "execution_count": 34,
   "id": "c51be062",
   "metadata": {},
   "outputs": [],
   "source": [
    "def f(x):\n",
    "    return x > 5 and x < 10"
   ]
  },
  {
   "cell_type": "code",
   "execution_count": 35,
   "id": "a6326adf",
   "metadata": {},
   "outputs": [
    {
     "data": {
      "text/plain": [
       "[8, 7]"
      ]
     },
     "execution_count": 35,
     "metadata": {},
     "output_type": "execute_result"
    }
   ],
   "source": [
    "list(filter(f,a))"
   ]
  },
  {
   "cell_type": "code",
   "execution_count": 33,
   "id": "1720db81",
   "metadata": {},
   "outputs": [],
   "source": [
    "a = [8, 3, 2, 10, 15, 7, 1, 0, 11]"
   ]
  },
  {
   "cell_type": "markdown",
   "id": "db48a80e",
   "metadata": {},
   "source": [
    "익명함수 lambda\n",
    "\n",
    "한 번만 쓸 함수를 굳이 definition해서 메모리 잡아먹을 필요 없기에, 한번만 사용하기 위해 임시로 만드는 함수.\n",
    "\n",
    "lambda 매개변수 : 결과"
   ]
  },
  {
   "cell_type": "code",
   "execution_count": 36,
   "id": "0f3719dc",
   "metadata": {},
   "outputs": [
    {
     "data": {
      "text/plain": [
       "[8, 7]"
      ]
     },
     "execution_count": 36,
     "metadata": {},
     "output_type": "execute_result"
    }
   ],
   "source": [
    "list(filter(lambda x : x > 5 and x < 10 , a))"
   ]
  },
  {
   "cell_type": "code",
   "execution_count": null,
   "id": "fc1b1468",
   "metadata": {},
   "outputs": [
    {
     "name": "stdout",
     "output_type": "stream",
     "text": [
      "[1, 4, 9, 16]\n"
     ]
    }
   ],
   "source": [
    "numbers = [1,2,3,4,5]\n",
    "squared = list(map(lambda x : x**2 , numbers))\n",
    "print(squared)"
   ]
  },
  {
   "cell_type": "code",
   "execution_count": 47,
   "id": "58dd6de3",
   "metadata": {},
   "outputs": [
    {
     "name": "stdout",
     "output_type": "stream",
     "text": [
      "[2, 4]\n"
     ]
    }
   ],
   "source": [
    "numbers = [1,2,3,4,5]\n",
    "even_numbers = list(filter(lambda x : x % 2 == 0, numbers))\n",
    "print(even_numbers)"
   ]
  },
  {
   "cell_type": "code",
   "execution_count": 44,
   "id": "00e7fb18",
   "metadata": {},
   "outputs": [
    {
     "name": "stdout",
     "output_type": "stream",
     "text": [
      "[(5, 1), (1, 2), (3, 4)]\n"
     ]
    }
   ],
   "source": [
    "points = [(1, 2), (3, 4), (5, 1)]\n",
    "sorted_points = sorted(points, key=lambda x: x[1]) \n",
    "print(sorted_points)"
   ]
  },
  {
   "cell_type": "code",
   "execution_count": 46,
   "id": "1a9b645e",
   "metadata": {},
   "outputs": [
    {
     "data": {
      "text/plain": [
       "[5, 4, 3, 2, 1]"
      ]
     },
     "execution_count": 46,
     "metadata": {},
     "output_type": "execute_result"
    }
   ],
   "source": [
    "numbers.sort(reverse=True)\n",
    "numbers"
   ]
  },
  {
   "cell_type": "code",
   "execution_count": 48,
   "id": "b2b36a2a",
   "metadata": {},
   "outputs": [
    {
     "data": {
      "text/plain": [
       "[1, 2, 3, 4, 5]"
      ]
     },
     "execution_count": 48,
     "metadata": {},
     "output_type": "execute_result"
    }
   ],
   "source": [
    "sorted(numbers)"
   ]
  },
  {
   "cell_type": "code",
   "execution_count": 50,
   "id": "97f11d6d",
   "metadata": {},
   "outputs": [],
   "source": [
    "my_numbers=sorted(numbers, reverse=True)"
   ]
  },
  {
   "cell_type": "code",
   "execution_count": 51,
   "id": "7d8019a9",
   "metadata": {},
   "outputs": [
    {
     "data": {
      "text/plain": [
       "[5, 4, 3, 2, 1]"
      ]
     },
     "execution_count": 51,
     "metadata": {},
     "output_type": "execute_result"
    }
   ],
   "source": [
    "my_numbers"
   ]
  },
  {
   "cell_type": "code",
   "execution_count": 52,
   "id": "e5068ef5",
   "metadata": {},
   "outputs": [
    {
     "data": {
      "text/plain": [
       "['apple', 'banana', 'cherry', 'date']"
      ]
     },
     "execution_count": 52,
     "metadata": {},
     "output_type": "execute_result"
    }
   ],
   "source": [
    "fruits"
   ]
  },
  {
   "cell_type": "code",
   "execution_count": 53,
   "id": "c7494bf1",
   "metadata": {},
   "outputs": [
    {
     "data": {
      "text/plain": [
       "['date', 'apple', 'banana', 'cherry']"
      ]
     },
     "execution_count": 53,
     "metadata": {},
     "output_type": "execute_result"
    }
   ],
   "source": [
    "myfruits = sorted(fruits,key=len)\n",
    "myfruits"
   ]
  },
  {
   "cell_type": "code",
   "execution_count": 65,
   "id": "3cc6f913",
   "metadata": {},
   "outputs": [
    {
     "data": {
      "text/plain": [
       "[4, 4, 6, 2, 2, 1, 7]"
      ]
     },
     "execution_count": 65,
     "metadata": {},
     "output_type": "execute_result"
    }
   ],
   "source": [
    "#등수구하기 \n",
    "\n",
    " \n",
    "'''\n",
    "영어 점수와 수학 점수의 평균 점수를 기준으로 학생들의 등수를 매기려고 합니다.\n",
    "영어 점수와 수학 점수를 담은 2차원 리스트 score가 주어질 때,\n",
    "영어 점수와 수학 점수의 평균을 기준으로 매긴 등수를 담은 리스트를 return하도록 함수를 만들어주세요 \n",
    "\n",
    " '''\n",
    "\n",
    "\n",
    "#[[80, 70], [90, 50], [40, 70], [50, 80]] -> [1, 2, 4, 3] \n",
    "\n",
    "#[[80, 70], [70, 80], [30, 50], [90, 100], [100, 90], [100, 100], [10, 30]] -> [4, 4, 6, 2, 2, 1, 7] \n",
    "\n",
    "score = [[80, 70], [90, 50], [40, 70], [50, 80]]\n",
    "\n",
    "def rank(score):\n",
    "\n",
    "    result = []\n",
    "    avg = []\n",
    "\n",
    "    for i,j in score:\n",
    "        avg.append((i + j)/2)\n",
    "\n",
    "    avg_sort = sorted(avg,reverse=True)\n",
    "\n",
    "    for i in avg:\n",
    "        result.append(avg_sort.index(i) + 1)\n",
    "\n",
    "    return result\n",
    "\n",
    "rank([[80, 70], [70, 80], [30, 50], [90, 100], [100, 90], [100, 100], [10, 30]])"
   ]
  },
  {
   "cell_type": "code",
   "execution_count": null,
   "id": "7f17d7cf",
   "metadata": {},
   "outputs": [],
   "source": [
    "# 평균값이 몇등인지\n",
    " \n",
    "scores = [[80, 70], [90, 50], [40, 70], [50, 80]] # [1, 2, 4, 3]\n",
    " \n",
    "def rank(score) :\n",
    "    avg = [(i+j)/2 for i,j in score]           #평균값 리스트\n",
    "    avgRank = sorted(avg.copy(), reverse=True) #평균값 순위 리스트\n",
    "    avg = [avgRank.index(i)+1 for i in avg]    #평균값이 평간값 순위 리스트의 몇번 째 인덱스에 존재하는지\n",
    " \n",
    "    return avg\n",
    "\n",
    "rankList = rank(scores)\n",
    "print(rankList)"
   ]
  },
  {
   "cell_type": "code",
   "execution_count": null,
   "id": "991bfe7b",
   "metadata": {},
   "outputs": [],
   "source": [
    "def isprime(arr):\n",
    "    result = []\n",
    "    for i in arr:\n",
    "        if n < 2:\n",
    "            result.append(Fasle)\n",
    "            continue\n",
    "        is_p = True\n",
    "\n",
    "\n",
    "\n",
    "\n",
    "\n"
   ]
  },
  {
   "cell_type": "code",
   "execution_count": null,
   "id": "b20da47e",
   "metadata": {},
   "outputs": [
    {
     "data": {
      "text/plain": [
       "[True, True, False, True, False, True, False, False]"
      ]
     },
     "execution_count": 66,
     "metadata": {},
     "output_type": "execute_result"
    }
   ],
   "source": [
    "def isprime(lst):\n",
    "    result = []\n",
    "    for n in lst:\n",
    "        if n < 2:\n",
    "            result.append(False)\n",
    "            continue\n",
    "        is_p = True\n",
    "        for i in range(2, int(n**0.5) + 1):     #n = a*b에서 a, b의 최댓값은 n의 제곱근이기에 이 값까지만 계산.\n",
    "            if n % i == 0:\n",
    "                is_p = False\n",
    "                break\n",
    "        result.append(is_p)\n",
    "    return result\n",
    "\n",
    "isprime([2,3,4,5,6,7,8,9])"
   ]
  },
  {
   "cell_type": "code",
   "execution_count": 67,
   "id": "a014f72c",
   "metadata": {},
   "outputs": [],
   "source": [
    "import random"
   ]
  },
  {
   "cell_type": "code",
   "execution_count": 68,
   "id": "e0d1f982",
   "metadata": {},
   "outputs": [
    {
     "data": {
      "text/plain": [
       "81"
      ]
     },
     "execution_count": 68,
     "metadata": {},
     "output_type": "execute_result"
    }
   ],
   "source": [
    "random.randint(1,100)"
   ]
  },
  {
   "cell_type": "code",
   "execution_count": null,
   "id": "7e96a1b6",
   "metadata": {},
   "outputs": [
    {
     "data": {
      "text/plain": [
       "4"
      ]
     },
     "execution_count": 71,
     "metadata": {},
     "output_type": "execute_result"
    }
   ],
   "source": [
    "from random import randint, randrange, sample, shuffle\n",
    "\n",
    "randint(1,100)\n",
    "random.randrange(1,5)"
   ]
  },
  {
   "cell_type": "code",
   "execution_count": 80,
   "id": "42a4e7a6",
   "metadata": {},
   "outputs": [
    {
     "ename": "ModuleNotFoundError",
     "evalue": "No module named 'numpy'",
     "output_type": "error",
     "traceback": [
      "\u001b[31m---------------------------------------------------------------------------\u001b[39m",
      "\u001b[31mModuleNotFoundError\u001b[39m                       Traceback (most recent call last)",
      "\u001b[36mCell\u001b[39m\u001b[36m \u001b[39m\u001b[32mIn[80]\u001b[39m\u001b[32m, line 3\u001b[39m\n\u001b[32m      1\u001b[39m \u001b[38;5;28;01mfrom\u001b[39;00m\u001b[38;5;250m \u001b[39m\u001b[34;01mrandom\u001b[39;00m\u001b[38;5;250m \u001b[39m\u001b[38;5;28;01mimport\u001b[39;00m *\n\u001b[32m      2\u001b[39m \u001b[38;5;28;01mfrom\u001b[39;00m\u001b[38;5;250m \u001b[39m\u001b[34;01mmath\u001b[39;00m\u001b[38;5;250m \u001b[39m\u001b[38;5;28;01mimport\u001b[39;00m *\n\u001b[32m----> \u001b[39m\u001b[32m3\u001b[39m \u001b[38;5;28;01mfrom\u001b[39;00m\u001b[38;5;250m \u001b[39m\u001b[34;01mnumpy\u001b[39;00m\u001b[38;5;250m \u001b[39m\u001b[38;5;28;01mimport\u001b[39;00m *\n\u001b[32m      5\u001b[39m randint(\u001b[32m1\u001b[39m,\u001b[32m100\u001b[39m)\n\u001b[32m      6\u001b[39m randrange(\u001b[32m1\u001b[39m,\u001b[32m5\u001b[39m)\n",
      "\u001b[31mModuleNotFoundError\u001b[39m: No module named 'numpy'"
     ]
    }
   ],
   "source": [
    "from random import *\n",
    "from math import *\n",
    "from numpy import *\n",
    "\n",
    "randint(1,100)\n",
    "randrange(1,5)\n",
    "sample([1,2,3],1)"
   ]
  },
  {
   "cell_type": "code",
   "execution_count": 1,
   "id": "aa9551a6",
   "metadata": {},
   "outputs": [
    {
     "name": "stdout",
     "output_type": "stream",
     "text": [
      "Collecting numpy\n",
      "  Downloading numpy-2.3.3-cp311-cp311-win_amd64.whl.metadata (60 kB)\n",
      "     ---------------------------------------- 0.0/60.9 kB ? eta -:--:--\n",
      "     ------ --------------------------------- 10.2/60.9 kB ? eta -:--:--\n",
      "     ------------------- ------------------ 30.7/60.9 kB 325.1 kB/s eta 0:00:01\n",
      "     -------------------------------------- 60.9/60.9 kB 460.9 kB/s eta 0:00:00\n",
      "Downloading numpy-2.3.3-cp311-cp311-win_amd64.whl (13.1 MB)\n",
      "   ---------------------------------------- 0.0/13.1 MB ? eta -:--:--\n",
      "    --------------------------------------- 0.2/13.1 MB 6.9 MB/s eta 0:00:02\n",
      "   - -------------------------------------- 0.5/13.1 MB 6.7 MB/s eta 0:00:02\n",
      "   -- ------------------------------------- 0.8/13.1 MB 7.4 MB/s eta 0:00:02\n",
      "   --- ------------------------------------ 1.2/13.1 MB 7.5 MB/s eta 0:00:02\n",
      "   ---- ----------------------------------- 1.5/13.1 MB 7.8 MB/s eta 0:00:02\n",
      "   ----- ---------------------------------- 1.8/13.1 MB 7.7 MB/s eta 0:00:02\n",
      "   ------ --------------------------------- 2.1/13.1 MB 7.5 MB/s eta 0:00:02\n",
      "   ------- -------------------------------- 2.4/13.1 MB 7.7 MB/s eta 0:00:02\n",
      "   -------- ------------------------------- 2.8/13.1 MB 7.7 MB/s eta 0:00:02\n",
      "   --------- ------------------------------ 3.1/13.1 MB 7.9 MB/s eta 0:00:02\n",
      "   ---------- ----------------------------- 3.4/13.1 MB 7.7 MB/s eta 0:00:02\n",
      "   ----------- ---------------------------- 3.7/13.1 MB 7.8 MB/s eta 0:00:02\n",
      "   ------------ --------------------------- 4.0/13.1 MB 7.7 MB/s eta 0:00:02\n",
      "   ------------- -------------------------- 4.4/13.1 MB 7.7 MB/s eta 0:00:02\n",
      "   -------------- ------------------------- 4.7/13.1 MB 7.9 MB/s eta 0:00:02\n",
      "   --------------- ------------------------ 5.0/13.1 MB 7.8 MB/s eta 0:00:02\n",
      "   ---------------- ----------------------- 5.3/13.1 MB 7.9 MB/s eta 0:00:01\n",
      "   ----------------- ---------------------- 5.7/13.1 MB 7.9 MB/s eta 0:00:01\n",
      "   ------------------ --------------------- 5.9/13.1 MB 7.9 MB/s eta 0:00:01\n",
      "   ------------------- -------------------- 6.2/13.1 MB 7.8 MB/s eta 0:00:01\n",
      "   -------------------- ------------------- 6.6/13.1 MB 7.8 MB/s eta 0:00:01\n",
      "   --------------------- ------------------ 7.0/13.1 MB 7.8 MB/s eta 0:00:01\n",
      "   ---------------------- ----------------- 7.3/13.1 MB 7.8 MB/s eta 0:00:01\n",
      "   ----------------------- ---------------- 7.7/13.1 MB 7.9 MB/s eta 0:00:01\n",
      "   ------------------------ --------------- 8.0/13.1 MB 7.9 MB/s eta 0:00:01\n",
      "   ------------------------- -------------- 8.4/13.1 MB 7.9 MB/s eta 0:00:01\n",
      "   -------------------------- ------------- 8.7/13.1 MB 7.8 MB/s eta 0:00:01\n",
      "   --------------------------- ------------ 9.0/13.1 MB 7.9 MB/s eta 0:00:01\n",
      "   ---------------------------- ----------- 9.3/13.1 MB 7.9 MB/s eta 0:00:01\n",
      "   ----------------------------- ---------- 9.7/13.1 MB 7.8 MB/s eta 0:00:01\n",
      "   ------------------------------ --------- 10.0/13.1 MB 7.9 MB/s eta 0:00:01\n",
      "   ------------------------------- -------- 10.3/13.1 MB 8.0 MB/s eta 0:00:01\n",
      "   -------------------------------- ------- 10.6/13.1 MB 8.0 MB/s eta 0:00:01\n",
      "   --------------------------------- ------ 10.9/13.1 MB 8.0 MB/s eta 0:00:01\n",
      "   ---------------------------------- ----- 11.3/13.1 MB 8.0 MB/s eta 0:00:01\n",
      "   ----------------------------------- ---- 11.6/13.1 MB 8.0 MB/s eta 0:00:01\n",
      "   ------------------------------------ --- 11.9/13.1 MB 8.0 MB/s eta 0:00:01\n",
      "   ------------------------------------- -- 12.2/13.1 MB 7.9 MB/s eta 0:00:01\n",
      "   -------------------------------------- - 12.5/13.1 MB 7.9 MB/s eta 0:00:01\n",
      "   ---------------------------------------  12.8/13.1 MB 7.9 MB/s eta 0:00:01\n",
      "   ---------------------------------------  13.1/13.1 MB 8.0 MB/s eta 0:00:01\n",
      "   ---------------------------------------- 13.1/13.1 MB 7.8 MB/s eta 0:00:00\n",
      "Installing collected packages: numpy\n",
      "Successfully installed numpy-2.3.3\n",
      "Note: you may need to restart the kernel to use updated packages.\n"
     ]
    },
    {
     "name": "stderr",
     "output_type": "stream",
     "text": [
      "\n",
      "[notice] A new release of pip is available: 24.0 -> 25.2\n",
      "[notice] To update, run: python.exe -m pip install --upgrade pip\n"
     ]
    }
   ],
   "source": [
    "pip install numpy\n"
   ]
  },
  {
   "cell_type": "code",
   "execution_count": 11,
   "id": "9b7fab82",
   "metadata": {},
   "outputs": [
    {
     "name": "stdout",
     "output_type": "stream",
     "text": [
      "[11, 14, 24, 25, 26, 31]\n"
     ]
    }
   ],
   "source": [
    "#행운 번호 추첨기\n",
    "\n",
    "import random\n",
    "result = []\n",
    "\n",
    "while len(result) < 6:\n",
    "    temp = random.randint(1, 45)\n",
    "    if temp not in result:\n",
    "        result.append(temp)\n",
    "\n",
    "print(sorted(result))"
   ]
  },
  {
   "cell_type": "code",
   "execution_count": 8,
   "id": "36a77642",
   "metadata": {},
   "outputs": [],
   "source": [
    "import random as r\n"
   ]
  },
  {
   "cell_type": "markdown",
   "id": "e2fe4926",
   "metadata": {},
   "source": [
    "### 사용자 정의 모듈"
   ]
  },
  {
   "cell_type": "code",
   "execution_count": 18,
   "id": "805faadb",
   "metadata": {},
   "outputs": [
    {
     "name": "stdout",
     "output_type": "stream",
     "text": [
      "8\n",
      "2\n"
     ]
    }
   ],
   "source": [
    "import mymodule as mm\n",
    "\n",
    "print(mm.my_add(5,3))\n",
    "print(mm.my_sub(5,3))"
   ]
  },
  {
   "cell_type": "code",
   "execution_count": 17,
   "id": "b5dbca88",
   "metadata": {},
   "outputs": [
    {
     "data": {
      "text/plain": [
       "'__main__'"
      ]
     },
     "execution_count": 17,
     "metadata": {},
     "output_type": "execute_result"
    }
   ],
   "source": [
    "__name__"
   ]
  },
  {
   "cell_type": "code",
   "execution_count": 39,
   "id": "67742b7e",
   "metadata": {},
   "outputs": [],
   "source": [
    "class Person:\n",
    "    def __init__(self, name, age):\n",
    "        self.name = name\n",
    "        self.age = age\n",
    "        \n",
    "    def walk(self):\n",
    "        print(f'{self.name}이 걸어가요.')\n"
   ]
  },
  {
   "cell_type": "code",
   "execution_count": 22,
   "id": "168e1906",
   "metadata": {},
   "outputs": [],
   "source": [
    "person1 = Person(\"박지민\", 31)"
   ]
  },
  {
   "cell_type": "code",
   "execution_count": 24,
   "id": "97f58697",
   "metadata": {},
   "outputs": [
    {
     "name": "stdout",
     "output_type": "stream",
     "text": [
      "<class '__main__.Person'>\n"
     ]
    }
   ],
   "source": [
    "print(type(person1))"
   ]
  },
  {
   "cell_type": "code",
   "execution_count": 26,
   "id": "e7125487",
   "metadata": {},
   "outputs": [
    {
     "name": "stdout",
     "output_type": "stream",
     "text": [
      "박지민이 걸어가요.\n"
     ]
    }
   ],
   "source": [
    "person1.walk()"
   ]
  },
  {
   "cell_type": "code",
   "execution_count": null,
   "id": "1062b66d",
   "metadata": {},
   "outputs": [],
   "source": [
    "class NewPerson(Person):        #클래스 상속. 상속받은 클래스의 내용을 다 쓸 수 있음.\n",
    "    def fly(self):\n",
    "        print(f\"{self.name}이 하늘을 날아요.\")          #메서드 추가 가능.\n",
    "\n",
    "    def walk(self):\n",
    "        print(f'{self.name}이 너무나도 잘 걸어가요.')   #메서드 재정의가 가능. 매서드 오버라이딩"
   ]
  },
  {
   "cell_type": "code",
   "execution_count": 47,
   "id": "b5b4cc19",
   "metadata": {},
   "outputs": [],
   "source": [
    "person3 = NewPerson(\"정호석\", 33)"
   ]
  },
  {
   "cell_type": "code",
   "execution_count": 48,
   "id": "fa22b97d",
   "metadata": {},
   "outputs": [
    {
     "name": "stdout",
     "output_type": "stream",
     "text": [
      "정호석이 너무나도 잘 걸어가요.\n"
     ]
    }
   ],
   "source": [
    "person3.walk()"
   ]
  },
  {
   "cell_type": "code",
   "execution_count": 49,
   "id": "4218f7bf",
   "metadata": {},
   "outputs": [
    {
     "name": "stdout",
     "output_type": "stream",
     "text": [
      "정호석이 하늘을 날아요.\n"
     ]
    }
   ],
   "source": [
    "person3.fly()"
   ]
  },
  {
   "cell_type": "code",
   "execution_count": 1,
   "id": "582f132d",
   "metadata": {},
   "outputs": [
    {
     "name": "stdout",
     "output_type": "stream",
     "text": [
      "mymodule 안에서의 __name__ : mymodule\n"
     ]
    }
   ],
   "source": [
    "import mymodule as mm"
   ]
  },
  {
   "cell_type": "code",
   "execution_count": 2,
   "id": "53a2a20c",
   "metadata": {},
   "outputs": [
    {
     "data": {
      "text/plain": [
       "3"
      ]
     },
     "execution_count": 2,
     "metadata": {},
     "output_type": "execute_result"
    }
   ],
   "source": [
    "mm.my_add(1,2)"
   ]
  },
  {
   "cell_type": "code",
   "execution_count": 3,
   "id": "612e919b",
   "metadata": {},
   "outputs": [],
   "source": [
    "hero = mm.Character(\"전사\")"
   ]
  },
  {
   "cell_type": "code",
   "execution_count": null,
   "id": "feca899f",
   "metadata": {},
   "outputs": [
    {
     "name": "stdout",
     "output_type": "stream",
     "text": [
      "저는 전사입니다.\n"
     ]
    }
   ],
   "source": [
    "hero.speak() # Character.speak(hero)"
   ]
  },
  {
   "cell_type": "code",
   "execution_count": 6,
   "id": "84ce58fa",
   "metadata": {},
   "outputs": [],
   "source": [
    "healer = mm.Character(\"힐러\")"
   ]
  },
  {
   "cell_type": "code",
   "execution_count": 7,
   "id": "bad32cb3",
   "metadata": {},
   "outputs": [
    {
     "name": "stdout",
     "output_type": "stream",
     "text": [
      "저는 힐러입니다.\n"
     ]
    }
   ],
   "source": [
    "healer.speak()"
   ]
  },
  {
   "cell_type": "code",
   "execution_count": 29,
   "id": "e4ec9b07",
   "metadata": {},
   "outputs": [],
   "source": [
    "### 결제시스템\n",
    "#신용카드, 포인트결제\n",
    "\n",
    "def pay_credit_payment(card_info, amount):\n",
    "    '''신용카드 결제 로직'''\n",
    "    print(f\"{card_info['card_number']}카드로 {amount}원 결제합니다.\")\n",
    "    print('결제완료')\n",
    "\n",
    "def pay_with_point(point_wallet, amount):\n",
    "    '''포인트 결제 로직'''\n",
    "    if point_wallet['balance'] >= amount:\n",
    "        point_wallet['balance'] -= amount\n",
    "        print(f'포인트 {amount}점을 사용해서 결제했습니다.')\n",
    "    else:\n",
    "        print(\"포인트가 부족하여 결제가 되지 않았습니다.\")\n",
    "\n"
   ]
  },
  {
   "cell_type": "code",
   "execution_count": 24,
   "id": "fdbf1f7b",
   "metadata": {},
   "outputs": [],
   "source": [
    "credit_card = {\n",
    "    'type' : 'credit_card',\n",
    "    'phone' : '010-1234-5678',\n",
    "    'cvc' : 123\n",
    "}\n",
    "\n",
    "my_point = {\n",
    "    'type' : 'point_wallet',\n",
    "    'balance' : 50000\n",
    "}\n",
    "\n"
   ]
  },
  {
   "cell_type": "code",
   "execution_count": 20,
   "id": "f8c81d92",
   "metadata": {},
   "outputs": [],
   "source": [
    "def payment(payment_method, amount):\n",
    "    payment_type = payment_method['type']\n",
    "\n",
    "    if payment_type == 'credit_card':\n",
    "        pay_credit_payment(payment_method, amount)\n",
    "    elif payment_type == 'point_wallet':\n",
    "        pay_with_point(payment_method, amount)"
   ]
  },
  {
   "cell_type": "code",
   "execution_count": 22,
   "id": "7691b716",
   "metadata": {},
   "outputs": [
    {
     "name": "stdout",
     "output_type": "stream",
     "text": [
      "포인트 3000점을 사용해서 결제했습니다.\n"
     ]
    }
   ],
   "source": [
    "payment(my_point, 3000)"
   ]
  },
  {
   "cell_type": "code",
   "execution_count": null,
   "id": "cf687383",
   "metadata": {},
   "outputs": [],
   "source": [
    "class PaymentMethod:\n",
    "    \"\"\"결제 시스템: 신용카드, 포인트 결제\"\"\"\n",
    "\n",
    "    def pay(self, amount):\n",
    "        print(f\"{amount}원 결제\")"
   ]
  },
  {
   "cell_type": "code",
   "execution_count": 30,
   "id": "10981e68",
   "metadata": {},
   "outputs": [],
   "source": [
    "class CreditCard(PaymentMethod):\n",
    "    def __init__(self, card_number, cvc):\n",
    "        self.card_number = card_number\n",
    "        self.cvc =cvc\n",
    "\n",
    "    def pay(self, amount):\n",
    "        print(f\"{[self.card_number]}카드로 {amount}원 결제합니다.\")\n",
    "        #서버 결제 요청\n",
    "        print('결제완료')\n",
    "\n",
    "class PointWallet(PaymentMethod):\n",
    "    def __init__(self, balance):\n",
    "        self.balance = balance\n",
    "\n",
    "    def pay(self, amount):\n",
    "        if self.balance >= amount:\n",
    "            self.balance -= amount\n",
    "            print(f'포인트 {amount}점을 사용해서 결제했습니다.')\n",
    "        else:\n",
    "            print(\"포인트가 부족하여 결제가 되지 않았습니다.\")"
   ]
  },
  {
   "cell_type": "code",
   "execution_count": 32,
   "id": "fca672ec",
   "metadata": {},
   "outputs": [],
   "source": [
    "def process_payment(payment_method, amount):\n",
    "    payment_method.pay(amount)\n",
    "\n",
    "card_obj =CreditCard(\"4444-4444-xxxx\", 444)\n",
    "point_obj = PointWallet(50000)\n",
    "\n"
   ]
  },
  {
   "cell_type": "code",
   "execution_count": 33,
   "id": "7cc31c90",
   "metadata": {},
   "outputs": [
    {
     "name": "stdout",
     "output_type": "stream",
     "text": [
      "['4444-4444-xxxx']카드로 1000원 결제합니다.\n",
      "결제완료\n",
      "포인트 5000점을 사용해서 결제했습니다.\n"
     ]
    }
   ],
   "source": [
    "process_payment(card_obj, 1000)\n",
    "process_payment(point_obj, 5000)"
   ]
  },
  {
   "cell_type": "code",
   "execution_count": 34,
   "id": "c73e34c3",
   "metadata": {},
   "outputs": [],
   "source": [
    "import numpy"
   ]
  },
  {
   "cell_type": "code",
   "execution_count": 35,
   "id": "7ce4df89",
   "metadata": {},
   "outputs": [
    {
     "name": "stdout",
     "output_type": "stream",
     "text": [
      "Collecting beautifulsoup4\n",
      "  Downloading beautifulsoup4-4.13.5-py3-none-any.whl.metadata (3.8 kB)\n",
      "Collecting soupsieve>1.2 (from beautifulsoup4)\n",
      "  Downloading soupsieve-2.8-py3-none-any.whl.metadata (4.6 kB)\n",
      "Requirement already satisfied: typing-extensions>=4.0.0 in c:\\users\\el86\\appdata\\roaming\\python\\python311\\site-packages (from beautifulsoup4) (4.15.0)\n",
      "Downloading beautifulsoup4-4.13.5-py3-none-any.whl (105 kB)\n",
      "   ---------------------------------------- 0.0/105.1 kB ? eta -:--:--\n",
      "   --- ------------------------------------ 10.2/105.1 kB ? eta -:--:--\n",
      "   ----------------------- ---------------- 61.4/105.1 kB 1.1 MB/s eta 0:00:01\n",
      "   ---------------------------------------- 105.1/105.1 kB 1.0 MB/s eta 0:00:00\n",
      "Downloading soupsieve-2.8-py3-none-any.whl (36 kB)\n",
      "Installing collected packages: soupsieve, beautifulsoup4\n",
      "Successfully installed beautifulsoup4-4.13.5 soupsieve-2.8\n"
     ]
    },
    {
     "name": "stderr",
     "output_type": "stream",
     "text": [
      "\n",
      "[notice] A new release of pip is available: 24.0 -> 25.2\n",
      "[notice] To update, run: python.exe -m pip install --upgrade pip\n"
     ]
    }
   ],
   "source": [
    "!pip install beautifulsoup4"
   ]
  },
  {
   "cell_type": "code",
   "execution_count": null,
   "id": "a2c06468",
   "metadata": {},
   "outputs": [],
   "source": []
  }
 ],
 "metadata": {
  "kernelspec": {
   "display_name": "Python 3",
   "language": "python",
   "name": "python3"
  },
  "language_info": {
   "codemirror_mode": {
    "name": "ipython",
    "version": 3
   },
   "file_extension": ".py",
   "mimetype": "text/x-python",
   "name": "python",
   "nbconvert_exporter": "python",
   "pygments_lexer": "ipython3",
   "version": "3.11.8"
  }
 },
 "nbformat": 4,
 "nbformat_minor": 5
}
