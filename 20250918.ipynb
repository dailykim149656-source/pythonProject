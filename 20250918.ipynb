{
 "cells": [
  {
   "cell_type": "markdown",
   "id": "8b2bb2ad",
   "metadata": {},
   "source": [
    "##2025-09-18"
   ]
  },
  {
   "cell_type": "markdown",
   "id": "1318f4d2",
   "metadata": {},
   "source": [
    "오늘은 github, git, vscode에 대해 학습했다.\n",
    "\n",
    "\n",
    "\n",
    "코파일럿에게 각 툴의 설명을 부탁해봤다.\n",
    "\n",
    "\n",
    "\n",
    "🧠 Git\n",
    "\n",
    "버전 관리 시스템\n",
    "코드 변경 이력을 저장하고 관리함\n",
    "로컬 저장소 기반\n",
    "내 컴퓨터에서 작업 후 원격 저장소로 푸시 가능\n",
    "주요 명령어\n",
    "git init, git add, git commit, git push, git pull 등\n",
    "협업에 최적화\n",
    "여러 개발자가 동시에 작업하고 병합 가능\n",
    "🌐 GitHub\n",
    "\n",
    "Git 기반의 원격 저장소 플랫폼\n",
    "Git으로 관리한 코드를 웹에 저장하고 공유\n",
    "협업 기능 제공\n",
    "Pull Request, Issue, Wiki 등으로 팀 작업 지원\n",
    "공개/비공개 저장소 선택 가능\n",
    "오픈소스 또는 개인 프로젝트 모두 가능\n",
    "포트폴리오로 활용 가능\n",
    "개발자 이력서에 자주 포함됨\n",
    "🛠️ VSCode (Visual Studio Code)\n",
    "\n",
    "\n",
    "마이크로소프트에서 만든 무료 코드 편집기\n",
    "가볍고 빠르며 다양한 언어 지원\n",
    "확장성 뛰어남\n",
    "GitHub, Git 연동, 디버깅, 터미널 등 통합 가능\n",
    "Git 내장 기능 제공\n",
    "커밋, 푸시, 브랜치 관리 등을 GUI로 수행 가능\n",
    "개발자 친화적 UI/UX\n",
    "테마, 단축키, 플러그인으로 커스터마이징 가능\n",
    "강의 진행 내용을 간략히 순서대로 정리하겠다.\n",
    "\n",
    "git\n",
    "\n",
    "win11 기준 원하는 설치 경로에서 우클릭 후 추가옵션 표시 클릭하여 open git bash here 선택.\n",
    "\n",
    "<불러오기>\n",
    "git clone 링크 .\n",
    "\n",
    ">>동기화 시켜서 다운로드. 처음 디렉토리 세팅할 때만 실행하고, 그 이후로는 pull로 동기화 진행.\n",
    "\n",
    "git pull\n",
    "\n",
    ">>이미 동기화 된 상태에서 새로 업데이트 되었을 때, 깃헙에서 불러오는 기능.\n",
    "\n",
    "<저장하기>\n",
    "\n",
    "git add .\n",
    "\n",
    ">>staging area에 업데이트\n",
    "\n",
    "git commit -m \"message\"\n",
    "\n",
    ">>local repository에 업데이트\n",
    "\n",
    "git push\n",
    "\n",
    ">>remote repository에 업데이트\n",
    "\n",
    "\n",
    "\n",
    "vs code에서 이후 편집시 지정된 경로를 불러오면 github에 업로드 가능.\n",
    "\n",
    "git을 사용하지 않고 repository를 로컬에 동기화 시키는 방법도 있다.\n",
    "\n",
    "vs code에서 explore에서 바로 clone repository를 선택 후 github과 연동시켜서 원하는 로컬 위치를 등록시킨다.\n",
    "\n",
    "그 이후 원하는 repository를 선택하면 복제된 이후에 로컬에서 작업이 가능해진다.\n",
    "\n",
    "\n",
    "\n",
    "이렇게 작업한 것들 중 클로드에게 바이브코딩을 맡겨서 1인용 모노폴리 게임을 간단하게 만들어봤다.\n",
    "\n",
    "\n",
    " \n",
    "https://dailykim149656-source.github.io/portfolio/monopoly_game.html\n",
    "\n",
    "이렇게 기록을 남기는게 중요하다고 한다. 대시보드 분석 및 시각화 등을 웹페이지를 업로드해서 공유가 가능하기에 보여주기에도 편리하다."
   ]
  },
  {
   "cell_type": "markdown",
   "id": "003c2b19",
   "metadata": {},
   "source": [
    "포트폴리오 사이트도 만들었다. 이 사이트는 perplexity로 만들어봤는데, 깔끔한 것 같다. 이미지가 없어서 밋밋한데 요건 추가하는 방법도 고민해 봐야겠다. 그리고 중간중간 말을 지어내서 작성해서 내 상황이랑 안 맞는 내용은 직접 수정해야할 것 같다.\n",
    "\n",
    ">https://dailykim149656-source.github.io/portfolio/"
   ]
  },
  {
   "cell_type": "markdown",
   "id": "5be2c8d4",
   "metadata": {},
   "source": [
    "블로그에도 글을 작성했습니다.\n",
    ">>https://116mylife.blogspot.com/2025/09/ms-ai-school-8-4.html"
   ]
  }
 ],
 "metadata": {
  "kernelspec": {
   "display_name": "Python 3",
   "language": "python",
   "name": "python3"
  },
  "language_info": {
   "codemirror_mode": {
    "name": "ipython",
    "version": 3
   },
   "file_extension": ".py",
   "mimetype": "text/x-python",
   "name": "python",
   "nbconvert_exporter": "python",
   "pygments_lexer": "ipython3",
   "version": "3.11.8"
  }
 },
 "nbformat": 4,
 "nbformat_minor": 5
}
