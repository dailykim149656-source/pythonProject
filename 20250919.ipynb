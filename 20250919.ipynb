{
 "cells": [
  {
   "cell_type": "markdown",
   "id": "aa353126",
   "metadata": {},
   "source": [
    "##2025-09-19"
   ]
  },
  {
   "cell_type": "code",
   "execution_count": null,
   "id": "8a934c21",
   "metadata": {},
   "outputs": [],
   "source": [
    "print(\"안녕 이제 파이썬을 시작하려고 해\")"
   ]
  },
  {
   "cell_type": "code",
   "execution_count": null,
   "id": "6e86fc16",
   "metadata": {},
   "outputs": [],
   "source": [
    "\"123\" #String"
   ]
  },
  {
   "cell_type": "code",
   "execution_count": null,
   "id": "eb6c2b4c",
   "metadata": {},
   "outputs": [],
   "source": [
    "'123' #String"
   ]
  },
  {
   "cell_type": "code",
   "execution_count": null,
   "id": "1b11d7fc",
   "metadata": {},
   "outputs": [],
   "source": [
    "123 #integer"
   ]
  },
  {
   "cell_type": "code",
   "execution_count": null,
   "id": "593bceae",
   "metadata": {},
   "outputs": [],
   "source": [
    "12.3 #float"
   ]
  },
  {
   "cell_type": "code",
   "execution_count": null,
   "id": "7c3a42f6",
   "metadata": {},
   "outputs": [],
   "source": [
    "True False #boolean"
   ]
  },
  {
   "cell_type": "code",
   "execution_count": null,
   "id": "2a783fed",
   "metadata": {},
   "outputs": [],
   "source": [
    "heoll # nameerror"
   ]
  },
  {
   "cell_type": "code",
   "execution_count": null,
   "id": "6b72f4ae",
   "metadata": {},
   "outputs": [],
   "source": [
    "\"hello' # syntaxerror"
   ]
  },
  {
   "cell_type": "code",
   "execution_count": null,
   "id": "904c91b2",
   "metadata": {},
   "outputs": [],
   "source": [
    "prinht(\"hello\" # syntaxerror"
   ]
  },
  {
   "cell_type": "code",
   "execution_count": null,
   "id": "a307f881",
   "metadata": {},
   "outputs": [],
   "source": [
    "type(\"hello world\")"
   ]
  },
  {
   "cell_type": "markdown",
   "id": "85bdf510",
   "metadata": {},
   "source": [
    "#연산자"
   ]
  },
  {
   "cell_type": "code",
   "execution_count": null,
   "id": "a664612d",
   "metadata": {},
   "outputs": [],
   "source": [
    "+, -, *, /, //, %, **"
   ]
  },
  {
   "cell_type": "code",
   "execution_count": 2,
   "id": "a90869cd",
   "metadata": {},
   "outputs": [],
   "source": [
    "num1 = 2\n",
    "num2 = 4"
   ]
  },
  {
   "cell_type": "code",
   "execution_count": 3,
   "id": "20f1a0af",
   "metadata": {},
   "outputs": [
    {
     "data": {
      "text/plain": [
       "6"
      ]
     },
     "execution_count": 3,
     "metadata": {},
     "output_type": "execute_result"
    }
   ],
   "source": [
    "num1+ num2"
   ]
  },
  {
   "cell_type": "code",
   "execution_count": 4,
   "id": "52cbf4fd",
   "metadata": {},
   "outputs": [
    {
     "data": {
      "text/plain": [
       "0.5"
      ]
     },
     "execution_count": 4,
     "metadata": {},
     "output_type": "execute_result"
    }
   ],
   "source": [
    "num1/num2"
   ]
  },
  {
   "cell_type": "code",
   "execution_count": 5,
   "id": "f2342ef3",
   "metadata": {},
   "outputs": [
    {
     "data": {
      "text/plain": [
       "0"
      ]
     },
     "execution_count": 5,
     "metadata": {},
     "output_type": "execute_result"
    }
   ],
   "source": [
    "num1//num2"
   ]
  },
  {
   "cell_type": "code",
   "execution_count": 6,
   "id": "b8ed1b58",
   "metadata": {},
   "outputs": [
    {
     "name": "stdout",
     "output_type": "stream",
     "text": [
      "이름은 박지민 입니다.\n"
     ]
    }
   ],
   "source": [
    "name = input(\"이름을 입력하세요.\")\n",
    "print(\"이름은\",name,\"입니다.\")"
   ]
  },
  {
   "cell_type": "code",
   "execution_count": 12,
   "id": "1d45ce52",
   "metadata": {},
   "outputs": [
    {
     "name": "stdout",
     "output_type": "stream",
     "text": [
      "8\n",
      "-2\n",
      "15\n",
      "0.6\n"
     ]
    }
   ],
   "source": [
    "#미션1\n",
    "#사용자로부터 숫자 입력을 받아서 더하기 빼기 곱하기 나누기 연산 결과를 출력해주세요.\n",
    "num1 = int(input(\"숫자를 입력하세요.\"))\n",
    "num2 = int(input(\"숫자를 한 번 더 입력하세요.\"))\n",
    "print(num1+num2)\n",
    "print(num1-num2)\n",
    "print(num1*num2)\n",
    "print(num1/num2)\n"
   ]
  },
  {
   "cell_type": "code",
   "execution_count": null,
   "id": "395f6a8c",
   "metadata": {},
   "outputs": [],
   "source": [
    "mynumber\n",
    "my_number\n",
    "myNumber\n",
    "__number"
   ]
  },
  {
   "cell_type": "code",
   "execution_count": null,
   "id": "6d4a8bc7",
   "metadata": {},
   "outputs": [],
   "source": [
    "#int = 100 #이러면 int의 정의가 바뀌면서 앞으로 int를 활용한 문법 자체가 바뀜.\n",
    "\n",
    "\"\"\"주석 멀티라인\"\"\"\n",
    "'''주석 멀티라인'''"
   ]
  },
  {
   "cell_type": "code",
   "execution_count": 14,
   "id": "f39b3e12",
   "metadata": {},
   "outputs": [
    {
     "name": "stdout",
     "output_type": "stream",
     "text": [
      "'낮말'은 새가 듣고 '밤말'은 쥐가 듣는다.\n"
     ]
    }
   ],
   "source": [
    "print(\"'낮말'은 새가 듣고 '밤말'은 쥐가 듣는다.\")"
   ]
  },
  {
   "cell_type": "code",
   "execution_count": 16,
   "id": "b80eb26f",
   "metadata": {},
   "outputs": [
    {
     "name": "stdout",
     "output_type": "stream",
     "text": [
      "'낮말'은 새가 듣고 '밤말'은 쥐가 듣는다.\n"
     ]
    }
   ],
   "source": [
    "print('\\'낮말\\'은 새가 듣고 \\'밤말\\'은 쥐가 듣는다.')"
   ]
  },
  {
   "cell_type": "code",
   "execution_count": 26,
   "id": "690a153c",
   "metadata": {},
   "outputs": [
    {
     "name": "stdout",
     "output_type": "stream",
     "text": [
      "hellohellohellohello,hello,hello,hello"
     ]
    }
   ],
   "source": [
    "#print를 사용하면 줄바꿈을 하겠다는 의미다. 안하려면, end 매개변수를 변경해준다. default 값은 \"\\n\"\n",
    "print(\"hello\", end=\"\")\n",
    "print(\"hello\", end=\"\")\n",
    "print(\"hello\", end=\"\")\n",
    "#sep을 \",\"로 설정하면 이렇게도 가능.\n",
    "print(\"hello\",\"hello\",\"hello\",\"hello\", end=\"\", sep=\",\")"
   ]
  },
  {
   "cell_type": "code",
   "execution_count": 32,
   "id": "4f9d5842",
   "metadata": {},
   "outputs": [
    {
     "name": "stdout",
     "output_type": "stream",
     "text": [
      "7 + 3 = 10\n",
      "7 + 3 = 10\n",
      "더하기의 결과: {num1} + {num2} = {num1+num2}\n",
      "더하기의 결과: 7 + 3 = 10\n"
     ]
    }
   ],
   "source": [
    "# f-string\n",
    "num1 = 7\n",
    "num2 = 3\n",
    "\n",
    "print(num1, \"+\", num2, \"=\", num1+num2)\n",
    "print(f\"{num1} + {num2} = {num1+num2}\")\n",
    "print(\"더하기의 결과: {num1} + {num2} = {num1+num2}\")\n",
    "print(f\"더하기의 결과: {num1} + {num2} = {num1+num2}\")"
   ]
  },
  {
   "cell_type": "code",
   "execution_count": 36,
   "id": "e83f2a44",
   "metadata": {},
   "outputs": [
    {
     "data": {
      "text/plain": [
       "False"
      ]
     },
     "execution_count": 36,
     "metadata": {},
     "output_type": "execute_result"
    }
   ],
   "source": [
    "bool(0)"
   ]
  },
  {
   "cell_type": "code",
   "execution_count": 34,
   "id": "95a37e13",
   "metadata": {},
   "outputs": [
    {
     "data": {
      "text/plain": [
       "True"
      ]
     },
     "execution_count": 34,
     "metadata": {},
     "output_type": "execute_result"
    }
   ],
   "source": [
    "bool(1)"
   ]
  },
  {
   "cell_type": "code",
   "execution_count": 35,
   "id": "b39bf3fd",
   "metadata": {},
   "outputs": [
    {
     "data": {
      "text/plain": [
       "True"
      ]
     },
     "execution_count": 35,
     "metadata": {},
     "output_type": "execute_result"
    }
   ],
   "source": [
    "bool(100)"
   ]
  },
  {
   "cell_type": "code",
   "execution_count": 37,
   "id": "90b5b785",
   "metadata": {},
   "outputs": [
    {
     "data": {
      "text/plain": [
       "True"
      ]
     },
     "execution_count": 37,
     "metadata": {},
     "output_type": "execute_result"
    }
   ],
   "source": [
    "bool(-1)"
   ]
  },
  {
   "cell_type": "code",
   "execution_count": 38,
   "id": "2ab555d4",
   "metadata": {},
   "outputs": [
    {
     "data": {
      "text/plain": [
       "True"
      ]
     },
     "execution_count": 38,
     "metadata": {},
     "output_type": "execute_result"
    }
   ],
   "source": [
    "bool(1.1)"
   ]
  },
  {
   "cell_type": "code",
   "execution_count": 39,
   "id": "550b6ced",
   "metadata": {},
   "outputs": [
    {
     "data": {
      "text/plain": [
       "False"
      ]
     },
     "execution_count": 39,
     "metadata": {},
     "output_type": "execute_result"
    }
   ],
   "source": [
    "bool('')"
   ]
  },
  {
   "cell_type": "code",
   "execution_count": 41,
   "id": "a258d6b8",
   "metadata": {},
   "outputs": [
    {
     "data": {
      "text/plain": [
       "True"
      ]
     },
     "execution_count": 41,
     "metadata": {},
     "output_type": "execute_result"
    }
   ],
   "source": [
    "bool('Null')"
   ]
  },
  {
   "cell_type": "code",
   "execution_count": 43,
   "id": "97314873",
   "metadata": {},
   "outputs": [
    {
     "data": {
      "text/plain": [
       "False"
      ]
     },
     "execution_count": 43,
     "metadata": {},
     "output_type": "execute_result"
    }
   ],
   "source": [
    "bool(None)"
   ]
  },
  {
   "cell_type": "code",
   "execution_count": 11,
   "id": "53e8ef9c",
   "metadata": {},
   "outputs": [
    {
     "name": "stdout",
     "output_type": "stream",
     "text": [
      "★★★김밥 지옥 영수증★★★\n",
      "-------------------------\n",
      "메뉴    개수    금액    총액\n",
      "-------------------------\n",
      "김밥    1   3000원   3000원\n",
      "떡볶이  2   3500원   7000원\n",
      "라면    3   2500원   7500원\n",
      "-------------------------\n",
      "지불하실 금액은 17500원 입니다.\n"
     ]
    }
   ],
   "source": [
    "#분식집 주문 프로그램\n",
    "kb = 3000\n",
    "tbk = 3500\n",
    "rm = 2500\n",
    "\n",
    "kb_in = int(input(\"김밥주문개수: \"))\n",
    "tbk_in = int(input(\"떡볶이주문개수: \"))\n",
    "rm_in = int(input(\"라면주문개수: \"))\n",
    "\n",
    "kb_prc = kb*kb_in\n",
    "tbk_prc = tbk*tbk_in\n",
    "rm_prc = rm*rm_in\n",
    "\n",
    "print(\n",
    "    f\"★★★김밥 지옥 영수증★★★\\n\"\n",
    "    f\"-------------------------\\n\"\n",
    "    f\"메뉴    개수    금액    총액\\n\"\n",
    "    f\"-------------------------\\n\"\n",
    "    f\"김밥    {kb_in}   {kb}원   {kb_prc}원\\n\"\n",
    "    f\"떡볶이  {tbk_in}   {tbk}원   {tbk_prc}원\\n\"\n",
    "    f\"라면    {rm_in}   {rm}원   {rm_prc}원\\n\"\n",
    "    f\"-------------------------\\n\"\n",
    "    f\"지불하실 금액은 {kb_prc + tbk_prc + rm_prc}원 입니다.\"\n",
    ")\n"
   ]
  },
  {
   "cell_type": "markdown",
   "id": "adf889e3",
   "metadata": {},
   "source": [
    "### 조건문\n",
    "\n",
    "if"
   ]
  },
  {
   "cell_type": "code",
   "execution_count": null,
   "id": "b0708b57",
   "metadata": {},
   "outputs": [],
   "source": [
    "#조건에 따라 명령어의 실행 여부가 달라짐\n",
    "\n",
    "if 조건:\n",
    "    실행할 명령\n",
    "\n",
    "조건문 밖 명령"
   ]
  },
  {
   "cell_type": "code",
   "execution_count": null,
   "id": "3de2130b",
   "metadata": {},
   "outputs": [
    {
     "name": "stdout",
     "output_type": "stream",
     "text": [
      "스테이크를 먹는다.\n",
      "커피를 마신다.\n",
      "택시를 탄다.\n",
      "조건문 종료\n"
     ]
    }
   ],
   "source": [
    "money = True\n",
    "\n",
    "if money:\n",
    "    print(\"스테이크를 먹는다.\")\n",
    "    print(\"커피를 마신다.\")\n",
    "    print(\"택시를 탄다.\")\n",
    "    print(\"조건문 종료\")\n",
    "    #들여쓰기를 안하면 error발생 "
   ]
  },
  {
   "cell_type": "code",
   "execution_count": null,
   "id": "2cc3a13d",
   "metadata": {},
   "outputs": [],
   "source": [
    "#조건에 따라 명령어의 실행 여부가 달라짐\n",
    "\n",
    "if 조건1:\n",
    "    실행할 명령1\n",
    "elif 조건2:\n",
    "    실행할 명령2\n",
    "elif 조건3:\n",
    "    실행할 명령3\n",
    "elif 조건4:\n",
    "    실행할 명령4\n",
    "else:\n",
    "    실행할 명령5\n",
    "\n",
    "조건문 밖 명령"
   ]
  },
  {
   "cell_type": "code",
   "execution_count": null,
   "id": "e3fbedf5",
   "metadata": {},
   "outputs": [],
   "source": [
    "#짝수 홀수 구분\n",
    "\n",
    "# num % 2 == 0 # 짝수\n",
    "# num % 2 !== 0 # 홀수\n",
    "\n",
    "num = 3\n",
    "\n",
    "if num % 2 == 0:\n",
    "    print(\"짝수\")\n",
    "else:\n",
    "    print(\"홀수\")\n",
    "    "
   ]
  },
  {
   "cell_type": "code",
   "execution_count": 15,
   "id": "04bbbac2",
   "metadata": {},
   "outputs": [
    {
     "name": "stdout",
     "output_type": "stream",
     "text": [
      "참아쉬워요\n"
     ]
    }
   ],
   "source": [
    "eng = 80\n",
    "math = 100\n",
    "\n",
    "if eng >= 90 & math >= 90:\n",
    "    print(\"참잘했어요\")\n",
    "elif eng >= 90 or math >= 90:\n",
    "    print(\"참아쉬워요\")\n",
    "else:\n",
    "    print(\"노력하세요\")"
   ]
  },
  {
   "cell_type": "code",
   "execution_count": 14,
   "id": "62adb1b9",
   "metadata": {},
   "outputs": [
    {
     "name": "stdout",
     "output_type": "stream",
     "text": [
      "노력하세요\n"
     ]
    }
   ],
   "source": [
    "eng = 80\n",
    "math = 100\n",
    "\n",
    "if eng >= 90:\n",
    "    if math >= 90:\n",
    "        print(\"참잘했어요\")\n",
    "    print(\"참아쉬워요\")\n",
    "else:\n",
    "    print(\"노력하세요\")"
   ]
  },
  {
   "cell_type": "code",
   "execution_count": 17,
   "id": "73cfbe7b",
   "metadata": {},
   "outputs": [
    {
     "name": "stdout",
     "output_type": "stream",
     "text": [
      "홀홀홀\n"
     ]
    }
   ],
   "source": [
    "#홀짝 구분하기\n",
    "num = int(input(\"숫자를 입력하세요: \"))\n",
    "\n",
    "if num % 2 == 0:\n",
    "    print(\"짝짝짝\")\n",
    "else:\n",
    "    print(\"홀홀홀\")"
   ]
  },
  {
   "cell_type": "code",
   "execution_count": null,
   "id": "9a2d49fc",
   "metadata": {},
   "outputs": [
    {
     "name": "stdout",
     "output_type": "stream",
     "text": [
      "B\n"
     ]
    }
   ],
   "source": [
    "grade = int(input(\"점수를 입력하세요: \"))\n",
    "\n",
    "if grade >= 90:         # 점수가 90점 이상이면 A\n",
    "    print(\"A\")\n",
    "elif 80 <= grade:       # 점수가 80점 이상이면 B\n",
    "    print(\"B\")\n",
    "elif 70 <= grade:       # 점수가 70점 이상이면 C\n",
    "    print(\"C\")\n",
    "elif 60 <= grade:       # 점수가 60점 이상이면 D\n",
    "    print(\"D\")\n",
    "else:                   # 점수가 60점 미만이면 F\n",
    "    print(\"F\")"
   ]
  },
  {
   "cell_type": "markdown",
   "id": "7f0bc104",
   "metadata": {},
   "source": [
    "점점 조건이 많아질수록 느려짐. 이를 위해 빨리 처리할 수 있는 조건부터 입력하는 게 좋다."
   ]
  },
  {
   "cell_type": "markdown",
   "id": "d9170ba6",
   "metadata": {},
   "source": [
    "### 반복문\n",
    "\n",
    "for, while"
   ]
  },
  {
   "cell_type": "code",
   "execution_count": null,
   "id": "b193f8f3",
   "metadata": {},
   "outputs": [],
   "source": [
    "for 변수 in 이터러블(바구니):\n",
    "    반복할 문장\n"
   ]
  },
  {
   "cell_type": "code",
   "execution_count": null,
   "id": "81040cda",
   "metadata": {},
   "outputs": [
    {
     "name": "stdout",
     "output_type": "stream",
     "text": [
      "1번째 Hello\n",
      "3번째 Hello\n",
      "5번째 Hello\n",
      "7번째 Hello\n",
      "9번째 Hello\n"
     ]
    }
   ],
   "source": [
    "for i in range(1, 10 + 1, 2): # start, end, step\n",
    "    print(f\"{i}번째 Hello\")"
   ]
  },
  {
   "cell_type": "code",
   "execution_count": 26,
   "id": "55919886",
   "metadata": {},
   "outputs": [
    {
     "name": "stdout",
     "output_type": "stream",
     "text": [
      "10번째 Hello\n",
      "9번째 Hello\n",
      "8번째 Hello\n",
      "7번째 Hello\n",
      "6번째 Hello\n",
      "5번째 Hello\n",
      "4번째 Hello\n",
      "3번째 Hello\n",
      "2번째 Hello\n",
      "1번째 Hello\n"
     ]
    }
   ],
   "source": [
    "for i in range(10, 0, -1): # start, end, step\n",
    "    print(f\"{i}번째 Hello\")"
   ]
  },
  {
   "cell_type": "code",
   "execution_count": 35,
   "id": "4da8ad1d",
   "metadata": {},
   "outputs": [
    {
     "name": "stdout",
     "output_type": "stream",
     "text": [
      "1\n",
      "2\n",
      "3\n",
      "4\n",
      "5\n",
      "6\n",
      "7\n",
      "8\n",
      "9\n",
      "10\n",
      "55\n"
     ]
    }
   ],
   "source": [
    "# for 반복문과 range() 함수를 사용해서 1부터 10까지의 합을 출력해주세요\n",
    "tot=0\n",
    "for i in range(1, 10 + 1):\n",
    "    print(i)\n",
    "    tot += i\n",
    "print(tot)"
   ]
  },
  {
   "cell_type": "code",
   "execution_count": 34,
   "id": "1f72815c",
   "metadata": {},
   "outputs": [
    {
     "name": "stdout",
     "output_type": "stream",
     "text": [
      "1\n",
      "2\n",
      "3\n",
      "4\n",
      "5\n",
      "6\n",
      "7\n",
      "8\n",
      "9\n",
      "10\n",
      "3628800\n"
     ]
    }
   ],
   "source": [
    "# for 반복문과 range() 함수를 사용해서 1부터 10까지의 곱을 출력해주세요\n",
    "tot = 1\n",
    "for i in range(1, 10 + 1):\n",
    "    print(i)\n",
    "    tot *= i\n",
    "print(tot)"
   ]
  },
  {
   "cell_type": "code",
   "execution_count": 31,
   "id": "d831f20a",
   "metadata": {},
   "outputs": [
    {
     "name": "stdout",
     "output_type": "stream",
     "text": [
      "3 * 1 = 3\n",
      "3 * 2 = 6\n",
      "3 * 3 = 9\n",
      "3 * 4 = 12\n",
      "3 * 5 = 15\n",
      "3 * 6 = 18\n",
      "3 * 7 = 21\n",
      "3 * 8 = 24\n",
      "3 * 9 = 27\n"
     ]
    }
   ],
   "source": [
    "# for 반복문과 range() 함수를 사용해서 사용자로부터 입력받은 숫자에 해당하는 구구단을 출력해주세요\n",
    "\n",
    "n = int(input(\"원하는 단수를 입력하세요: \"))\n",
    "\n",
    "for i in range(1, 9 + 1):\n",
    "    print(f\"{n} * {i} = {n*i}\")"
   ]
  },
  {
   "cell_type": "code",
   "execution_count": null,
   "id": "4177f256",
   "metadata": {},
   "outputs": [],
   "source": [
    "while 조건:\n",
    "    반복할 문장들"
   ]
  },
  {
   "cell_type": "code",
   "execution_count": 37,
   "id": "8a2a1c9f",
   "metadata": {},
   "outputs": [
    {
     "name": "stdout",
     "output_type": "stream",
     "text": [
      "Hello\n",
      "Hello\n",
      "Hello\n",
      "Hello\n",
      "Hello\n"
     ]
    }
   ],
   "source": [
    "#Hello 5번 출력\n",
    "\n",
    "i = 0\n",
    "while i < 5:\n",
    "    print(\"Hello\")\n",
    "    i += 1"
   ]
  },
  {
   "cell_type": "code",
   "execution_count": 41,
   "id": "6e03c34b",
   "metadata": {},
   "outputs": [
    {
     "name": "stdout",
     "output_type": "stream",
     "text": [
      "10\n"
     ]
    }
   ],
   "source": [
    "#while문을 사용해서 1부터 사용자가 입력한 정수값까지의 합을 구하시오.\n",
    "n = int(input(\"숫자를 입력하세용: \"))\n",
    "\n",
    "sum = 0\n",
    "i = 1\n",
    "while i <= n:\n",
    "    sum += i\n",
    "    i += 1\n",
    "\n",
    "print(sum) "
   ]
  },
  {
   "cell_type": "code",
   "execution_count": 42,
   "id": "77444ed9",
   "metadata": {},
   "outputs": [
    {
     "name": "stdout",
     "output_type": "stream",
     "text": [
      "24\n"
     ]
    }
   ],
   "source": [
    "#while문을 사용해서 1부터 사용자가 입력한 정수값까지의 곱을 구하시오.\n",
    "n = int(input(\"숫자를 입력하세요: \"))\n",
    "\n",
    "sum = 1\n",
    "i = 1\n",
    "while i <= n:\n",
    "    sum *= i\n",
    "    i += 1\n",
    "\n",
    "print(sum) "
   ]
  },
  {
   "cell_type": "code",
   "execution_count": 45,
   "id": "48a7d3f9",
   "metadata": {},
   "outputs": [
    {
     "name": "stdout",
     "output_type": "stream",
     "text": [
      "4 * 1 = 4\n",
      "4 * 2 = 8\n",
      "4 * 3 = 12\n",
      "4 * 4 = 16\n",
      "4 * 5 = 20\n",
      "4 * 6 = 24\n",
      "4 * 7 = 28\n",
      "4 * 8 = 32\n",
      "4 * 9 = 36\n"
     ]
    }
   ],
   "source": [
    "# while문을 사용해서 사용자로부터 입력받은 숫자에 해당하는 구구단을 출력해주세요\n",
    "\n",
    "n = int(input(\"단수를 입력하세요: \"))\n",
    "sum = 1\n",
    "i = 1\n",
    "while i <= 9:\n",
    "    print(f\"{n} * {i} = {n*i}\")\n",
    "    i += 1"
   ]
  },
  {
   "cell_type": "code",
   "execution_count": 49,
   "id": "1aceff61",
   "metadata": {},
   "outputs": [],
   "source": [
    "prompt = \"\"\"\n",
    "1. Add\n",
    "2. Del\n",
    "3. List\n",
    "4. Quit\n",
    "\n",
    "Enter number: \"\"\""
   ]
  },
  {
   "cell_type": "code",
   "execution_count": 52,
   "id": "290fc394",
   "metadata": {},
   "outputs": [
    {
     "name": "stdout",
     "output_type": "stream",
     "text": [
      "\n",
      "1. Add\n",
      "2. Del\n",
      "3. List\n",
      "4. Quit\n",
      "\n",
      "Enter number: \n",
      "\n",
      "1. Add\n",
      "2. Del\n",
      "3. List\n",
      "4. Quit\n",
      "\n",
      "Enter number: \n",
      "\n",
      "1. Add\n",
      "2. Del\n",
      "3. List\n",
      "4. Quit\n",
      "\n",
      "Enter number: \n",
      "\n",
      "1. Add\n",
      "2. Del\n",
      "3. List\n",
      "4. Quit\n",
      "\n",
      "Enter number: \n",
      "\n",
      "1. Add\n",
      "2. Del\n",
      "3. List\n",
      "4. Quit\n",
      "\n",
      "Enter number: \n",
      "\n",
      "1. Add\n",
      "2. Del\n",
      "3. List\n",
      "4. Quit\n",
      "\n",
      "Enter number: \n",
      "\n",
      "1. Add\n",
      "2. Del\n",
      "3. List\n",
      "4. Quit\n",
      "\n",
      "Enter number: \n"
     ]
    }
   ],
   "source": [
    "number = 0\n",
    "while number != 4:\n",
    "    print(prompt)\n",
    "    number = int(input('원하는 메뉴의 번호를 입력하세요: '))\n"
   ]
  },
  {
   "cell_type": "markdown",
   "id": "24a2903e",
   "metadata": {},
   "source": [
    "### break, continue"
   ]
  },
  {
   "cell_type": "code",
   "execution_count": null,
   "id": "8853dcbc",
   "metadata": {},
   "outputs": [
    {
     "name": "stdout",
     "output_type": "stream",
     "text": [
      "정수: 6, 합계: 21\n",
      "21\n"
     ]
    }
   ],
   "source": [
    "# 1부터 10까지 더하되, 합이 20 이상이 되는 때의 정수값을 찾고싶어\n",
    "\n",
    "sum = 0\n",
    "for i in range(1, 10 + 1):\n",
    "    sum += i\n",
    "    if sum >= 20:\n",
    "        print(f\"정수: {i}, 합계: {sum}\")\n",
    "        break\n",
    "print(sum)"
   ]
  },
  {
   "cell_type": "code",
   "execution_count": null,
   "id": "e839c5d4",
   "metadata": {},
   "outputs": [],
   "source": [
    "number = 0\n",
    "while True:\n",
    "    print(prompt)\n",
    "    number = int(input('원하는 메뉴의 번호를 입력하세요: '))\n",
    "    if number == 4:\n",
    "        break"
   ]
  },
  {
   "cell_type": "code",
   "execution_count": 55,
   "id": "d9e236a1",
   "metadata": {},
   "outputs": [
    {
     "name": "stdout",
     "output_type": "stream",
     "text": [
      "1 2 4 5 7 8 "
     ]
    }
   ],
   "source": [
    "for i in range(10):\n",
    "    if i % 3 == 0:\n",
    "        continue\n",
    "    print(i, end=\" \")"
   ]
  },
  {
   "cell_type": "code",
   "execution_count": 61,
   "id": "1f30a562",
   "metadata": {},
   "outputs": [
    {
     "name": "stdout",
     "output_type": "stream",
     "text": [
      "너무 작아요\n",
      "너무 작아요\n",
      "너무 작아요\n",
      "너무 작아요\n",
      "너무 작아요\n",
      "너무 작아요\n",
      "너무 커요\n",
      "너무 커요\n",
      "너무 커요\n",
      "너무 커요\n",
      "너무 커요\n",
      "정답입니다. 12번만에 맞추셨네요.\n"
     ]
    }
   ],
   "source": [
    "#숫자 맞추기 게임을 만들어 주세요\n",
    "import random\n",
    "answer = random.randint(1,100)\n",
    "i = 1\n",
    "\n",
    "while True:\n",
    "    my_num = int(input(\"1부터 100 사이의 숫자를 맞춰주세요\"))\n",
    "    if my_num != answer:\n",
    "        if my_num > answer:\n",
    "            print(\"너무 커요\")\n",
    "        else:\n",
    "            print(\"너무 작아요\")\n",
    "    else:\n",
    "        print(f\"정답입니다. {i}번만에 맞추셨네요.\")\n",
    "        break\n",
    "    i += 1\n"
   ]
  },
  {
   "cell_type": "code",
   "execution_count": 24,
   "id": "be154c54",
   "metadata": {},
   "outputs": [
    {
     "name": "stdout",
     "output_type": "stream",
     "text": [
      "10번 안에 숫자를 맞춰보세요!\n",
      "너무 커요\n",
      "너무 커요\n",
      "너무 커요\n",
      "너무 커요\n",
      "너무 작아요\n",
      "너무 작아요\n",
      "너무 작아요\n",
      "정답입니다. 8번만에 맞추셨네요.\n"
     ]
    }
   ],
   "source": [
    "import random\n",
    "\n",
    "answer = random.randint(1, 100)\n",
    "print(\"10번 안에 숫자를 맞춰보세요!\")\n",
    "\n",
    "for i in range(1, 11):\n",
    "    num = int(input(f\"[{i}/10] 1부터 100 사이의 숫자를 입력해주세요: \"))\n",
    "\n",
    "    if not (1 <= num <= 100):\n",
    "        print(\"숫자가 범위 밖에 있어요. 다시 입력해주실래요?\")\n",
    "        continue  # 시도 횟수는 올라가지만 정답 체크는 건너뜀\n",
    "\n",
    "    if num == answer:\n",
    "        print(f\"정답입니다. {i}번만에 맞추셨네요.\")\n",
    "        break\n",
    "\n",
    "    print(\"너무 커요\" if num > answer else \"너무 작아요\")\n",
    "else:\n",
    "    print(\"아쉽습니다ㅠ 정답은\", answer, \"이었습니다.\")"
   ]
  },
  {
   "cell_type": "code",
   "execution_count": 1,
   "id": "d08f2df6",
   "metadata": {},
   "outputs": [
    {
     "name": "stdout",
     "output_type": "stream",
     "text": [
      "1 2 4 7 8 11 13 14 16 17 19 "
     ]
    }
   ],
   "source": [
    "#20보다 작은 정수 중에서 3의 배수와 5의 배수를 제외하고 출력해봅시다.\n",
    "#단, 무한 반복 while true 구문 이용\n",
    "\n",
    "i = 1\n",
    "while True:   \n",
    "    \n",
    "    if i == 20:\n",
    "        break\n",
    "    if i % 3 == 0 or i % 5 == 0:\n",
    "        i += 1\n",
    "        continue\n",
    "    \n",
    "    print(i, end=' ')\n",
    "    i += 1"
   ]
  },
  {
   "cell_type": "code",
   "execution_count": 26,
   "id": "56a0aa2b",
   "metadata": {},
   "outputs": [
    {
     "name": "stdout",
     "output_type": "stream",
     "text": [
      "\n",
      "<<2단>>\n",
      "2 * 1 = 2\t2 * 2 = 4\t2 * 3 = 6\t2 * 4 = 8\t2 * 5 = 10\t2 * 6 = 12\t2 * 7 = 14\t2 * 8 = 16\t2 * 9 = 18\t\n",
      "<<3단>>\n",
      "3 * 1 = 3\t3 * 2 = 6\t3 * 3 = 9\t3 * 4 = 12\t3 * 5 = 15\t3 * 6 = 18\t3 * 7 = 21\t3 * 8 = 24\t3 * 9 = 27\t\n",
      "<<4단>>\n",
      "4 * 1 = 4\t4 * 2 = 8\t4 * 3 = 12\t4 * 4 = 16\t4 * 5 = 20\t4 * 6 = 24\t4 * 7 = 28\t4 * 8 = 32\t4 * 9 = 36\t\n",
      "<<5단>>\n",
      "5 * 1 = 5\t5 * 2 = 10\t5 * 3 = 15\t5 * 4 = 20\t5 * 5 = 25\t5 * 6 = 30\t5 * 7 = 35\t5 * 8 = 40\t5 * 9 = 45\t\n",
      "<<6단>>\n",
      "6 * 1 = 6\t6 * 2 = 12\t6 * 3 = 18\t6 * 4 = 24\t6 * 5 = 30\t6 * 6 = 36\t6 * 7 = 42\t6 * 8 = 48\t6 * 9 = 54\t\n",
      "<<7단>>\n",
      "7 * 1 = 7\t7 * 2 = 14\t7 * 3 = 21\t7 * 4 = 28\t7 * 5 = 35\t7 * 6 = 42\t7 * 7 = 49\t7 * 8 = 56\t7 * 9 = 63\t\n",
      "<<8단>>\n",
      "8 * 1 = 8\t8 * 2 = 16\t8 * 3 = 24\t8 * 4 = 32\t8 * 5 = 40\t8 * 6 = 48\t8 * 7 = 56\t8 * 8 = 64\t8 * 9 = 72\t\n",
      "<<9단>>\n",
      "9 * 1 = 9\t9 * 2 = 18\t9 * 3 = 27\t9 * 4 = 36\t9 * 5 = 45\t9 * 6 = 54\t9 * 7 = 63\t9 * 8 = 72\t9 * 9 = 81\t"
     ]
    }
   ],
   "source": [
    "#구구단 전체(2단부터 9단까지)를 출력 \n",
    "\n",
    "for n in range(2, 9 + 1):\n",
    "    print(f\"\\n<<{n}단>>\")\n",
    "    for i in range(1, 9 + 1):\n",
    "        print(f\"{n} * {i} = {n*i}\", end = \"\\t\")"
   ]
  },
  {
   "cell_type": "code",
   "execution_count": 23,
   "id": "0c32442a",
   "metadata": {},
   "outputs": [
    {
     "name": "stdout",
     "output_type": "stream",
     "text": [
      "         *\n",
      "        ***\n",
      "       *****\n",
      "      *******\n",
      "     *********\n",
      "    ***********\n",
      "   *************\n",
      "  ***************\n",
      " *****************\n",
      "*******************\n"
     ]
    }
   ],
   "source": [
    "# 별 트리 만들기\n",
    "\n",
    "floor = int(input(\"몇단 트리를 만들 건지 알려주세요: \"))\n",
    "\n",
    "star = 1\n",
    "\n",
    "for i in range(1, floor + 1):\n",
    "    print(\" \"*(floor-i)+\"*\"*star)\n",
    "    star += 2"
   ]
  },
  {
   "cell_type": "code",
   "execution_count": null,
   "id": "30670a79",
   "metadata": {},
   "outputs": [],
   "source": []
  },
  {
   "cell_type": "code",
   "execution_count": null,
   "id": "3d5dcfc9",
   "metadata": {},
   "outputs": [],
   "source": []
  }
 ],
 "metadata": {
  "kernelspec": {
   "display_name": "Python 3",
   "language": "python",
   "name": "python3"
  },
  "language_info": {
   "codemirror_mode": {
    "name": "ipython",
    "version": 3
   },
   "file_extension": ".py",
   "mimetype": "text/x-python",
   "name": "python",
   "nbconvert_exporter": "python",
   "pygments_lexer": "ipython3",
   "version": "3.11.8"
  }
 },
 "nbformat": 4,
 "nbformat_minor": 5
}
