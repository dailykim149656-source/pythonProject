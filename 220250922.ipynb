{
 "cells": [
  {
   "cell_type": "code",
   "execution_count": null,
   "id": "4ba2c475",
   "metadata": {},
   "outputs": [],
   "source": [
    "n = 10\n",
    "for i in range(1, n + 1):\n",
    "    for j in range(n-i):\n",
    "        print(' ',end='')\n",
    "    for j in range(2 * i - 1):\n",
    "        print('*', end='')\n",
    "    print()"
   ]
  },
  {
   "cell_type": "code",
   "execution_count": null,
   "id": "37009e5b",
   "metadata": {},
   "outputs": [],
   "source": [
    "n = 10\n",
    "for i in range(1, n + 1):\n",
    "    spaces = ' '* (n-i)\n",
    "    stars = '*' *  (2 * i - 1)\n",
    "    print(spaces + stars)"
   ]
  },
  {
   "cell_type": "markdown",
   "id": "a1e510a2",
   "metadata": {},
   "source": [
    "for, while에서의 탈출 -->break\n",
    "중첩반복문에서의 탈출?"
   ]
  },
  {
   "cell_type": "code",
   "execution_count": 19,
   "id": "8ff45fbd",
   "metadata": {},
   "outputs": [
    {
     "name": "stdout",
     "output_type": "stream",
     "text": [
      "i = 0, j = 0\n",
      "i = 0, j = 1\n",
      "i = 0, j = 2\n",
      "i = 0, j = 3\n",
      "i = 0, j = 4\n",
      "i = 1, j = 0\n",
      "i = 1, j = 1\n",
      "i = 1, j = 2\n",
      "i = 1, j = 3\n",
      "i = 1, j = 4\n",
      "i = 2, j = 0\n",
      "i = 2, j = 1\n",
      "i = 2, j = 2\n",
      "i = 2, j = 3\n",
      "6\n",
      "1\n"
     ]
    }
   ],
   "source": [
    "number = 0\n",
    "break_all =False\n",
    "\n",
    "for i in range(5):\n",
    "    for j in range(5):\n",
    "        print(f\"i = {i}, j = {j}\")\n",
    "        if i == 2 and j == 3:\n",
    "            break_all = True\n",
    "            break\n",
    "    if break_all:    \n",
    "        break\n",
    "        #반복을 멈추려면?\n",
    "\n",
    "number = i * j\n",
    "print(number) # 6\n",
    "print(number // 6)"
   ]
  },
  {
   "cell_type": "code",
   "execution_count": 49,
   "id": "641111c2",
   "metadata": {},
   "outputs": [
    {
     "name": "stdout",
     "output_type": "stream",
     "text": [
      "         *\n",
      "        ***\n",
      "       *****\n",
      "      *******\n",
      "     *********\n",
      "    ***********\n",
      "   *************\n",
      "  ***************\n",
      " *****************\n",
      "******************\n"
     ]
    }
   ],
   "source": [
    "star = int(input(\"트리에서 별을 몇개 사용할지 알려주세요: \"))\n",
    "floor_max = int(input(\"트리의 최대 층수를 몇층으로 할지 알려주세요: \"))\n",
    "\n",
    "#입력한 최대 층수가 너무 커서 여백이 생기는 걸 방지하기 위한 최대 층수 최적화 코드\n",
    "floor = 0\n",
    "while (floor)**2 <= star and floor + 1 <= floor_max:\n",
    "    floor += 1\n",
    "\n",
    "n = 1\n",
    "\n",
    "for i in range(1, floor + 1):\n",
    "    if star >= n:\n",
    "        print(\" \" * (floor - i) + \"*\" * n)\n",
    "        star = star - n\n",
    "    else:\n",
    "        print(\" \" * (floor - i) + \"*\" * star)\n",
    "        break\n",
    "    n += 2"
   ]
  },
  {
   "cell_type": "code",
   "execution_count": null,
   "id": "bf0b5c21",
   "metadata": {},
   "outputs": [
    {
     "data": {
      "text/plain": [
       "'nohtyP ,olleH'"
      ]
     },
     "execution_count": 60,
     "metadata": {},
     "output_type": "execute_result"
    }
   ],
   "source": [
    "my_str = \"Hello, Python\"\n",
    "#인덱싱\n",
    "my_str[7]\n",
    "#음수 인덱싱\n",
    "my_str[-1]\n",
    "#슬라이싱\n",
    "my_str[7:11]\n",
    "#규칙성 슬라이싱, 음수도 가능.\n",
    "my_str[::-1]"
   ]
  },
  {
   "cell_type": "code",
   "execution_count": 62,
   "id": "c84c7fb4",
   "metadata": {},
   "outputs": [
    {
     "name": "stdout",
     "output_type": "stream",
     "text": [
      "H\n",
      "e\n",
      "l\n",
      "l\n",
      "o\n",
      ",\n",
      " \n",
      "P\n",
      "y\n",
      "t\n",
      "h\n",
      "o\n",
      "n\n"
     ]
    }
   ],
   "source": [
    "for i in my_str:\n",
    "    print(i)"
   ]
  },
  {
   "cell_type": "code",
   "execution_count": 73,
   "id": "21652ddd",
   "metadata": {},
   "outputs": [
    {
     "name": "stdout",
     "output_type": "stream",
     "text": [
      "H\n",
      "e\n",
      "l\n",
      "l\n",
      "o\n",
      ",\n",
      " \n",
      "P\n",
      "y\n",
      "t\n",
      "h\n",
      "o\n",
      "n\n"
     ]
    }
   ],
   "source": [
    "for i in range(len(my_str)):\n",
    "    print(my_str[i])"
   ]
  },
  {
   "cell_type": "code",
   "execution_count": 69,
   "id": "8d6c00bb",
   "metadata": {},
   "outputs": [
    {
     "data": {
      "text/plain": [
       "'hello, python'"
      ]
     },
     "execution_count": 69,
     "metadata": {},
     "output_type": "execute_result"
    }
   ],
   "source": [
    "#문자열 데이터의 기능들. 메서드.\n",
    "\n",
    "my_str.lower() #소문자화"
   ]
  },
  {
   "cell_type": "code",
   "execution_count": 70,
   "id": "c9e3ff78",
   "metadata": {},
   "outputs": [
    {
     "data": {
      "text/plain": [
       "'HELLO, PYTHON'"
      ]
     },
     "execution_count": 70,
     "metadata": {},
     "output_type": "execute_result"
    }
   ],
   "source": [
    "my_str.upper() #대문자화"
   ]
  },
  {
   "cell_type": "code",
   "execution_count": null,
   "id": "1f4dd997",
   "metadata": {},
   "outputs": [
    {
     "name": "stdout",
     "output_type": "stream",
     "text": [
      "['Hello', ' Python']\n"
     ]
    }
   ],
   "source": [
    "words = my_str.split(\",\") #기준자를 기준으로 문자열을 리스트로 만들기\n",
    "print(words)"
   ]
  },
  {
   "cell_type": "markdown",
   "id": "dc5b56a4",
   "metadata": {},
   "source": [
    "리스트 : 복수의 다양한 데이터를 저장하는 "
   ]
  },
  {
   "cell_type": "code",
   "execution_count": null,
   "id": "95b0db82",
   "metadata": {},
   "outputs": [],
   "source": [
    "numbers = [1,2,3,4,5]"
   ]
  },
  {
   "cell_type": "code",
   "execution_count": 31,
   "id": "89057c33",
   "metadata": {},
   "outputs": [],
   "source": [
    "fruits = ['apple', 'banana', 'mango']"
   ]
  },
  {
   "cell_type": "code",
   "execution_count": 32,
   "id": "4f78f204",
   "metadata": {},
   "outputs": [
    {
     "data": {
      "text/plain": [
       "3"
      ]
     },
     "execution_count": 32,
     "metadata": {},
     "output_type": "execute_result"
    }
   ],
   "source": [
    "len(fruits)"
   ]
  },
  {
   "cell_type": "code",
   "execution_count": null,
   "id": "13cb1a36",
   "metadata": {},
   "outputs": [],
   "source": [
    "mixed = [1, \"apple\", True, [10, 20, 30]]"
   ]
  },
  {
   "cell_type": "code",
   "execution_count": 75,
   "id": "501b4601",
   "metadata": {},
   "outputs": [
    {
     "data": {
      "text/plain": [
       "[1, 2, 3, 4, 5, 6, 7, 8, 9, 10]"
      ]
     },
     "execution_count": 75,
     "metadata": {},
     "output_type": "execute_result"
    }
   ],
   "source": [
    "numbers1 = [1,2,3,4,5]\n",
    "numbers2 = [6,7,8,9,10]\n",
    "numbers1+numbers2"
   ]
  },
  {
   "cell_type": "code",
   "execution_count": 76,
   "id": "63016f99",
   "metadata": {},
   "outputs": [
    {
     "data": {
      "text/plain": [
       "[1, 2, 3, 4, 5, 1, 2, 3, 4, 5, 1, 2, 3, 4, 5]"
      ]
     },
     "execution_count": 76,
     "metadata": {},
     "output_type": "execute_result"
    }
   ],
   "source": [
    "numbers1*3"
   ]
  },
  {
   "cell_type": "code",
   "execution_count": 27,
   "id": "cf1101cf",
   "metadata": {},
   "outputs": [],
   "source": [
    "fruits.append(\"cherry\")"
   ]
  },
  {
   "cell_type": "code",
   "execution_count": 13,
   "id": "cf6db7c6",
   "metadata": {},
   "outputs": [
    {
     "data": {
      "text/plain": [
       "['apple', 'kiwi', 'mango', 'orange', 'date', 'cherry']"
      ]
     },
     "execution_count": 13,
     "metadata": {},
     "output_type": "execute_result"
    }
   ],
   "source": [
    "fruits"
   ]
  },
  {
   "cell_type": "code",
   "execution_count": 4,
   "id": "eb3bef49",
   "metadata": {},
   "outputs": [],
   "source": [
    "fruits.insert(2, 'kiwi')"
   ]
  },
  {
   "cell_type": "code",
   "execution_count": 5,
   "id": "a66b0763",
   "metadata": {},
   "outputs": [
    {
     "data": {
      "text/plain": [
       "['apple', 'banana', 'kiwi', 'mango', 'cherry']"
      ]
     },
     "execution_count": 5,
     "metadata": {},
     "output_type": "execute_result"
    }
   ],
   "source": [
    "fruits"
   ]
  },
  {
   "cell_type": "code",
   "execution_count": 22,
   "id": "6af841e1",
   "metadata": {},
   "outputs": [],
   "source": [
    "fruits.extend(['orange', 'date'])"
   ]
  },
  {
   "cell_type": "code",
   "execution_count": 7,
   "id": "2eb35233",
   "metadata": {},
   "outputs": [
    {
     "data": {
      "text/plain": [
       "['apple', 'banana', 'kiwi', 'mango', 'cherry', 'orange', 'date']"
      ]
     },
     "execution_count": 7,
     "metadata": {},
     "output_type": "execute_result"
    }
   ],
   "source": [
    "fruits"
   ]
  },
  {
   "cell_type": "code",
   "execution_count": 8,
   "id": "2f9cd5fa",
   "metadata": {},
   "outputs": [
    {
     "data": {
      "text/plain": [
       "'banana'"
      ]
     },
     "execution_count": 8,
     "metadata": {},
     "output_type": "execute_result"
    }
   ],
   "source": [
    "fruits.pop(1)"
   ]
  },
  {
   "cell_type": "code",
   "execution_count": 9,
   "id": "31dadbd4",
   "metadata": {},
   "outputs": [
    {
     "data": {
      "text/plain": [
       "['apple', 'kiwi', 'mango', 'cherry', 'orange', 'date']"
      ]
     },
     "execution_count": 9,
     "metadata": {},
     "output_type": "execute_result"
    }
   ],
   "source": [
    "fruits"
   ]
  },
  {
   "cell_type": "code",
   "execution_count": null,
   "id": "b83cb798",
   "metadata": {},
   "outputs": [],
   "source": [
    "fruits.remove('cherry') #리스트의 제일 앞의 cherry부터 삭제된다."
   ]
  },
  {
   "cell_type": "code",
   "execution_count": 30,
   "id": "e572465f",
   "metadata": {},
   "outputs": [
    {
     "data": {
      "text/plain": [
       "['apple',\n",
       " 'kiwi',\n",
       " 'mango',\n",
       " 'orange',\n",
       " 'date',\n",
       " 'cherry',\n",
       " 'cherry',\n",
       " 'orange',\n",
       " 'date',\n",
       " 'cherry']"
      ]
     },
     "execution_count": 30,
     "metadata": {},
     "output_type": "execute_result"
    }
   ],
   "source": [
    "fruits"
   ]
  },
  {
   "cell_type": "code",
   "execution_count": 23,
   "id": "2aef7214",
   "metadata": {},
   "outputs": [
    {
     "data": {
      "text/plain": [
       "4"
      ]
     },
     "execution_count": 23,
     "metadata": {},
     "output_type": "execute_result"
    }
   ],
   "source": [
    "fruits.count('cherry')"
   ]
  },
  {
   "cell_type": "code",
   "execution_count": 35,
   "id": "2408ad4e",
   "metadata": {},
   "outputs": [],
   "source": [
    "numbers = [1,2,5,4,3]"
   ]
  },
  {
   "cell_type": "code",
   "execution_count": 36,
   "id": "60ef2fd0",
   "metadata": {},
   "outputs": [
    {
     "data": {
      "text/plain": [
       "[1, 2, 5, 4, 3]"
      ]
     },
     "execution_count": 36,
     "metadata": {},
     "output_type": "execute_result"
    }
   ],
   "source": [
    "numbers"
   ]
  },
  {
   "cell_type": "code",
   "execution_count": 37,
   "id": "ca64cd20",
   "metadata": {},
   "outputs": [],
   "source": [
    "numbers.sort()"
   ]
  },
  {
   "cell_type": "code",
   "execution_count": 38,
   "id": "935b9d8d",
   "metadata": {},
   "outputs": [
    {
     "data": {
      "text/plain": [
       "[1, 2, 3, 4, 5]"
      ]
     },
     "execution_count": 38,
     "metadata": {},
     "output_type": "execute_result"
    }
   ],
   "source": [
    "numbers"
   ]
  },
  {
   "cell_type": "code",
   "execution_count": 39,
   "id": "35e26371",
   "metadata": {},
   "outputs": [],
   "source": [
    "numbers.sort(reverse=True)"
   ]
  },
  {
   "cell_type": "code",
   "execution_count": 40,
   "id": "b7694dd6",
   "metadata": {},
   "outputs": [
    {
     "data": {
      "text/plain": [
       "[5, 4, 3, 2, 1]"
      ]
     },
     "execution_count": 40,
     "metadata": {},
     "output_type": "execute_result"
    }
   ],
   "source": [
    "numbers"
   ]
  },
  {
   "cell_type": "code",
   "execution_count": 41,
   "id": "4edf0d3e",
   "metadata": {},
   "outputs": [
    {
     "data": {
      "text/plain": [
       "['apple', 'banana', 'mango']"
      ]
     },
     "execution_count": 41,
     "metadata": {},
     "output_type": "execute_result"
    }
   ],
   "source": [
    "fruits"
   ]
  },
  {
   "cell_type": "code",
   "execution_count": 42,
   "id": "05abd893",
   "metadata": {},
   "outputs": [],
   "source": [
    "fruits.reverse()"
   ]
  },
  {
   "cell_type": "code",
   "execution_count": 43,
   "id": "2a4764c2",
   "metadata": {},
   "outputs": [
    {
     "data": {
      "text/plain": [
       "['mango', 'banana', 'apple']"
      ]
     },
     "execution_count": 43,
     "metadata": {},
     "output_type": "execute_result"
    }
   ],
   "source": [
    "fruits"
   ]
  },
  {
   "cell_type": "code",
   "execution_count": 44,
   "id": "e2a81d59",
   "metadata": {},
   "outputs": [
    {
     "name": "stdout",
     "output_type": "stream",
     "text": [
      "mango\n",
      "banana\n",
      "apple\n"
     ]
    }
   ],
   "source": [
    "for i in fruits:\n",
    "    print(i)"
   ]
  },
  {
   "cell_type": "code",
   "execution_count": 45,
   "id": "4796b96d",
   "metadata": {},
   "outputs": [
    {
     "name": "stdout",
     "output_type": "stream",
     "text": [
      "0번째 과일: mango\n",
      "1번째 과일: banana\n",
      "2번째 과일: apple\n"
     ]
    }
   ],
   "source": [
    "for i in range(len(fruits)):\n",
    "    print(f\"{i}번째 과일: {fruits[i]}\")"
   ]
  },
  {
   "cell_type": "code",
   "execution_count": 46,
   "id": "7bb9a5ad",
   "metadata": {},
   "outputs": [],
   "source": [
    "numbers = [10, 20, 30, 40, 50]"
   ]
  },
  {
   "cell_type": "code",
   "execution_count": 47,
   "id": "dd230abf",
   "metadata": {},
   "outputs": [
    {
     "data": {
      "text/plain": [
       "5"
      ]
     },
     "execution_count": 47,
     "metadata": {},
     "output_type": "execute_result"
    }
   ],
   "source": [
    "len(numbers)"
   ]
  },
  {
   "cell_type": "code",
   "execution_count": 48,
   "id": "5e725106",
   "metadata": {},
   "outputs": [
    {
     "data": {
      "text/plain": [
       "50"
      ]
     },
     "execution_count": 48,
     "metadata": {},
     "output_type": "execute_result"
    }
   ],
   "source": [
    "max(numbers)"
   ]
  },
  {
   "cell_type": "code",
   "execution_count": 49,
   "id": "b647dc60",
   "metadata": {},
   "outputs": [
    {
     "data": {
      "text/plain": [
       "150"
      ]
     },
     "execution_count": 49,
     "metadata": {},
     "output_type": "execute_result"
    }
   ],
   "source": [
    "sum(numbers)"
   ]
  },
  {
   "cell_type": "code",
   "execution_count": 50,
   "id": "4872950e",
   "metadata": {},
   "outputs": [
    {
     "data": {
      "text/plain": [
       "30.0"
      ]
     },
     "execution_count": 50,
     "metadata": {},
     "output_type": "execute_result"
    }
   ],
   "source": [
    "#평균은\n",
    "sum(numbers)/len(numbers)"
   ]
  },
  {
   "cell_type": "code",
   "execution_count": 51,
   "id": "9b9ca900",
   "metadata": {},
   "outputs": [],
   "source": [
    "numbers = [1,2,3,4,5,6,7,8,9]"
   ]
  },
  {
   "cell_type": "code",
   "execution_count": 58,
   "id": "d6b6ed98",
   "metadata": {},
   "outputs": [],
   "source": [
    "#반복문을 이용해서 리스트를 생성할 수 있음. ->리스트 컴프리헨션\n",
    "numbers = [i for i in range(10)]"
   ]
  },
  {
   "cell_type": "code",
   "execution_count": 59,
   "id": "10d8f9c0",
   "metadata": {},
   "outputs": [
    {
     "data": {
      "text/plain": [
       "[0, 1, 2, 3, 4, 5, 6, 7, 8, 9]"
      ]
     },
     "execution_count": 59,
     "metadata": {},
     "output_type": "execute_result"
    }
   ],
   "source": [
    "numbers"
   ]
  },
  {
   "cell_type": "code",
   "execution_count": 61,
   "id": "211e5458",
   "metadata": {},
   "outputs": [
    {
     "data": {
      "text/plain": [
       "[0, 1, 2, 3, 4, 5, 6, 7, 8, 9]"
      ]
     },
     "execution_count": 61,
     "metadata": {},
     "output_type": "execute_result"
    }
   ],
   "source": [
    "num_list = []\n",
    "for i in range(10):\n",
    "    num_list.append(i)\n",
    "\n",
    "num_list"
   ]
  },
  {
   "cell_type": "code",
   "execution_count": 62,
   "id": "a4010f05",
   "metadata": {},
   "outputs": [
    {
     "data": {
      "text/plain": [
       "[1, 4, 9, 16, 25, 36, 49, 64, 81, 100]"
      ]
     },
     "execution_count": 62,
     "metadata": {},
     "output_type": "execute_result"
    }
   ],
   "source": [
    "numbers = [i**2 for i in range(1, 10 + 1)]\n",
    "numbers"
   ]
  },
  {
   "cell_type": "code",
   "execution_count": 64,
   "id": "2434ae19",
   "metadata": {},
   "outputs": [
    {
     "data": {
      "text/plain": [
       "[2, 4, 6, 8, 10]"
      ]
     },
     "execution_count": 64,
     "metadata": {},
     "output_type": "execute_result"
    }
   ],
   "source": [
    "num_list = []\n",
    "for i in range(1, 10 + 1):\n",
    "    if i % 2 == 0:\n",
    "        num_list.append(i)\n",
    "\n",
    "num_list"
   ]
  },
  {
   "cell_type": "code",
   "execution_count": 66,
   "id": "eb041ed8",
   "metadata": {},
   "outputs": [
    {
     "data": {
      "text/plain": [
       "[2, 4, 6, 8, 10]"
      ]
     },
     "execution_count": 66,
     "metadata": {},
     "output_type": "execute_result"
    }
   ],
   "source": [
    "numbers = [i for i in range(1, 10 + 1) if i % 2 == 0]\n",
    "numbers"
   ]
  },
  {
   "cell_type": "code",
   "execution_count": 67,
   "id": "596769b3",
   "metadata": {},
   "outputs": [
    {
     "name": "stdout",
     "output_type": "stream",
     "text": [
      "a\n"
     ]
    }
   ],
   "source": [
    "if \"바보\" == '바보':\n",
    "    print(\"a\")"
   ]
  },
  {
   "cell_type": "code",
   "execution_count": 71,
   "id": "de4ccf30",
   "metadata": {},
   "outputs": [
    {
     "name": "stdout",
     "output_type": "stream",
     "text": [
      "1번째 학생은 90점으로 합격입니다.\n",
      "2번째 학생은 25점으로 불합격입니다.\n",
      "3번째 학생은 67점으로 합격입니다.\n",
      "4번째 학생은 45점으로 불합격입니다.\n",
      "5번째 학생은 80점으로 합격입니다.\n"
     ]
    }
   ],
   "source": [
    "#총 5명의 학생이 시험을 보았는데, 시험점수가 60점 이상이면 합격, 아니면 불합격. \n",
    "\n",
    "marks =[90, 25, 67, 45, 80]     #학생들의 시험 점수 리스트.\n",
    "\n",
    "for i in range(len(marks)):\n",
    "    if marks[i] >=60:\n",
    "        print(f\"{i+1}번째 학생은 {marks[i]}점으로 합격입니다.\")\n",
    "    else:\n",
    "        print(f\"{i+1}번째 학생은 {marks[i]}점으로 불합격입니다.\")"
   ]
  },
  {
   "cell_type": "code",
   "execution_count": 70,
   "id": "fa628d27",
   "metadata": {},
   "outputs": [
    {
     "name": "stdout",
     "output_type": "stream",
     "text": [
      "1번째 학생은 90점으로 합격입니다.\n",
      "2번째 학생은 25점으로 불합격입니다.\n",
      "3번째 학생은 67점으로 합격입니다.\n",
      "4번째 학생은 45점으로 불합격입니다.\n",
      "5번째 학생은 80점으로 합격입니다.\n"
     ]
    }
   ],
   "source": [
    "#총 5명의 학생이 시험을 보았는데, 시험점수가 60점 이상이면 합격, 아니면 불합격. \n",
    "\n",
    "marks =[90, 25, 67, 45, 80]     #학생들의 시험 점수 리스트.\n",
    "number = 0\n",
    "for i in marks:\n",
    "    number += 1\n",
    "    if i >=60:\n",
    "        print(f\"{number}번째 학생은 {i}점으로 합격입니다.\")\n",
    "    else:\n",
    "        print(f\"{number}번째 학생은 {i}점으로 불합격입니다.\")"
   ]
  },
  {
   "cell_type": "code",
   "execution_count": 79,
   "id": "133fb6b5",
   "metadata": {},
   "outputs": [
    {
     "name": "stdout",
     "output_type": "stream",
     "text": [
      "끝말잇기 게임\n",
      "시작\n",
      "가나다\n",
      "다람쥐\n",
      "앙\n",
      "땡!!!!!\n"
     ]
    }
   ],
   "source": [
    "#끝말잇기 게임 만듫기. 혼자 하는거\n",
    "print(\"끝말잇기 게임\")\n",
    "print(\"시작\")\n",
    "var = \"가나다\"\n",
    "\n",
    "print(var)\n",
    "\n",
    "start = var[-1]\n",
    "while True:\n",
    "    var = input(\"단어를 입력해 주세요: \")\n",
    "    print(var)\n",
    "    if start == var[0]:\n",
    "        start = var[-1]\n",
    "        continue\n",
    "    else:\n",
    "        print(\"땡!!!!!\")\n",
    "        break\n"
   ]
  },
  {
   "cell_type": "code",
   "execution_count": 86,
   "id": "1764900c",
   "metadata": {},
   "outputs": [
    {
     "ename": "IndexError",
     "evalue": "list index out of range",
     "output_type": "error",
     "traceback": [
      "\u001b[31m---------------------------------------------------------------------------\u001b[39m",
      "\u001b[31mIndexError\u001b[39m                                Traceback (most recent call last)",
      "\u001b[36mCell\u001b[39m\u001b[36m \u001b[39m\u001b[32mIn[86]\u001b[39m\u001b[32m, line 11\u001b[39m\n\u001b[32m      8\u001b[39m \u001b[38;5;28;01mfor\u001b[39;00m i \u001b[38;5;129;01min\u001b[39;00m \u001b[38;5;28mrange\u001b[39m(\u001b[38;5;28mlen\u001b[39m(numbers)):\n\u001b[32m     10\u001b[39m     \u001b[38;5;28;01mfor\u001b[39;00m j \u001b[38;5;129;01min\u001b[39;00m \u001b[38;5;28mrange\u001b[39m(\u001b[38;5;28mlen\u001b[39m(\u001b[38;5;28mlist\u001b[39m)):\n\u001b[32m---> \u001b[39m\u001b[32m11\u001b[39m         \u001b[38;5;28;01mif\u001b[39;00m \u001b[43mnumbers\u001b[49m\u001b[43m[\u001b[49m\u001b[43mi\u001b[49m\u001b[43m]\u001b[49m == \u001b[38;5;28mlist\u001b[39m[j]:\n\u001b[32m     12\u001b[39m             numbers.pop(i)\n\u001b[32m     13\u001b[39m     \u001b[38;5;28mlist\u001b[39m.append(numbers[i])\n",
      "\u001b[31mIndexError\u001b[39m: list index out of range"
     ]
    }
   ],
   "source": [
    "#numbers = [1,1,3,3,0,1,1] -> [1,3,0,2]\n",
    "#numbers = [4,4,4,3,3] -> [4,3]\n",
    "\n",
    "numbers = [1,1,3,3,0,1,1]\n",
    "\n",
    "list = [numbers[0]]\n",
    "\n",
    "for i in range(len(numbers)):\n",
    "\n",
    "    for j in range(len(list)):\n",
    "        if numbers[i] == list[j]:\n",
    "            numbers.pop(i)\n",
    "    list.append(numbers[i])\n",
    "\n",
    "print(numbers)\n",
    "\n"
   ]
  },
  {
   "cell_type": "code",
   "execution_count": 88,
   "id": "be006703",
   "metadata": {},
   "outputs": [
    {
     "name": "stdout",
     "output_type": "stream",
     "text": [
      "[1, 3, 0, 1]\n"
     ]
    }
   ],
   "source": [
    "#numbers = [1,1,3,3,0,1,1] -> [1,3,0,2]\n",
    "#numbers = [4,4,4,3,3] -> [4,3]\n",
    "\n",
    "numbers = [1,1,3,3,0,1,1]\n",
    "\n",
    "list = []\n",
    "comp = numbers[0]\n",
    "list.append(comp)\n",
    "\n",
    "for i in numbers:\n",
    "    if comp != i:\n",
    "        comp = i\n",
    "        list.append(comp)\n",
    "\n",
    "print(list)\n",
    "\n"
   ]
  },
  {
   "cell_type": "markdown",
   "id": "8485dd2f",
   "metadata": {},
   "source": [
    "딕셔너리"
   ]
  },
  {
   "cell_type": "code",
   "execution_count": 90,
   "id": "cb349250",
   "metadata": {},
   "outputs": [],
   "source": [
    "student = {'name' : \"Jimin\", 'age' : 29, 'hobby' : \"game\"}"
   ]
  },
  {
   "cell_type": "code",
   "execution_count": 91,
   "id": "11ab561b",
   "metadata": {},
   "outputs": [
    {
     "data": {
      "text/plain": [
       "dict"
      ]
     },
     "execution_count": 91,
     "metadata": {},
     "output_type": "execute_result"
    }
   ],
   "source": [
    "type(student)"
   ]
  },
  {
   "cell_type": "code",
   "execution_count": null,
   "id": "577c9343",
   "metadata": {},
   "outputs": [],
   "source": [
    "mylist =[]\n",
    "mylist = list()\n",
    "\n",
    "mydict = {}\n",
    "mydict = dict()\n"
   ]
  },
  {
   "cell_type": "code",
   "execution_count": null,
   "id": "2f2a4373",
   "metadata": {},
   "outputs": [],
   "source": [
    "person = {'name' : 'crs', 'age' : 31}"
   ]
  },
  {
   "cell_type": "code",
   "execution_count": 107,
   "id": "13c451b4",
   "metadata": {},
   "outputs": [],
   "source": [
    "student = {'name' : \"Jimin\", 'age' : 29, 'hobby' : \"game\"}"
   ]
  },
  {
   "cell_type": "code",
   "execution_count": 92,
   "id": "8267749e",
   "metadata": {},
   "outputs": [],
   "source": [
    "student = {'name' : \"Jimin\", 'age' : 29, 'hobby' : \"game\", 'name' : '망개'}"
   ]
  },
  {
   "cell_type": "code",
   "execution_count": 93,
   "id": "0fc1747a",
   "metadata": {},
   "outputs": [
    {
     "data": {
      "text/plain": [
       "{'name': '망개', 'age': 29, 'hobby': 'game'}"
      ]
     },
     "execution_count": 93,
     "metadata": {},
     "output_type": "execute_result"
    }
   ],
   "source": [
    "student"
   ]
  },
  {
   "cell_type": "markdown",
   "id": "cde07a7a",
   "metadata": {},
   "source": [
    "키값을 중복하면 마지막에 할당한 값을 key 값에 덮어씌워버림."
   ]
  },
  {
   "cell_type": "code",
   "execution_count": 94,
   "id": "9ba59981",
   "metadata": {},
   "outputs": [
    {
     "data": {
      "text/plain": [
       "'망개'"
      ]
     },
     "execution_count": 94,
     "metadata": {},
     "output_type": "execute_result"
    }
   ],
   "source": [
    "student['name']"
   ]
  },
  {
   "cell_type": "code",
   "execution_count": 95,
   "id": "63b72d8e",
   "metadata": {},
   "outputs": [
    {
     "data": {
      "text/plain": [
       "dict_keys(['name', 'age', 'hobby'])"
      ]
     },
     "execution_count": 95,
     "metadata": {},
     "output_type": "execute_result"
    }
   ],
   "source": [
    "student.keys()"
   ]
  },
  {
   "cell_type": "code",
   "execution_count": 96,
   "id": "edf03d37",
   "metadata": {},
   "outputs": [
    {
     "data": {
      "text/plain": [
       "dict_items([('name', '망개'), ('age', 29), ('hobby', 'game')])"
      ]
     },
     "execution_count": 96,
     "metadata": {},
     "output_type": "execute_result"
    }
   ],
   "source": [
    "student.items()"
   ]
  },
  {
   "cell_type": "code",
   "execution_count": 97,
   "id": "20b13f35",
   "metadata": {},
   "outputs": [
    {
     "data": {
      "text/plain": [
       "dict_values(['망개', 29, 'game'])"
      ]
     },
     "execution_count": 97,
     "metadata": {},
     "output_type": "execute_result"
    }
   ],
   "source": [
    "student.values()"
   ]
  },
  {
   "cell_type": "code",
   "execution_count": 98,
   "id": "b4f8eb8d",
   "metadata": {},
   "outputs": [
    {
     "name": "stdout",
     "output_type": "stream",
     "text": [
      "name\n",
      "age\n",
      "hobby\n"
     ]
    }
   ],
   "source": [
    "for i in student.keys():\n",
    "    print(i)"
   ]
  },
  {
   "cell_type": "code",
   "execution_count": 99,
   "id": "ab6f8275",
   "metadata": {},
   "outputs": [
    {
     "name": "stdout",
     "output_type": "stream",
     "text": [
      "('name', '망개')\n",
      "('age', 29)\n",
      "('hobby', 'game')\n"
     ]
    }
   ],
   "source": [
    "for i in student.items():\n",
    "    print(i)"
   ]
  },
  {
   "cell_type": "code",
   "execution_count": 100,
   "id": "8bc99208",
   "metadata": {},
   "outputs": [
    {
     "name": "stdout",
     "output_type": "stream",
     "text": [
      "망개\n",
      "29\n",
      "game\n"
     ]
    }
   ],
   "source": [
    "for i in student.values():\n",
    "    print(i)"
   ]
  },
  {
   "cell_type": "code",
   "execution_count": 108,
   "id": "a42e78b0",
   "metadata": {},
   "outputs": [
    {
     "data": {
      "text/plain": [
       "'Jimin'"
      ]
     },
     "execution_count": 108,
     "metadata": {},
     "output_type": "execute_result"
    }
   ],
   "source": [
    "student.get(\"name\")"
   ]
  },
  {
   "cell_type": "markdown",
   "id": "dd553cc6",
   "metadata": {},
   "source": [
    "리스트는 순서가 있으나, 딕셔너리는 순서가 없음."
   ]
  },
  {
   "cell_type": "code",
   "execution_count": 103,
   "id": "69119544",
   "metadata": {},
   "outputs": [
    {
     "ename": "TypeError",
     "evalue": "pop expected at least 1 argument, got 0",
     "output_type": "error",
     "traceback": [
      "\u001b[31m---------------------------------------------------------------------------\u001b[39m",
      "\u001b[31mTypeError\u001b[39m                                 Traceback (most recent call last)",
      "\u001b[36mCell\u001b[39m\u001b[36m \u001b[39m\u001b[32mIn[103]\u001b[39m\u001b[32m, line 1\u001b[39m\n\u001b[32m----> \u001b[39m\u001b[32m1\u001b[39m \u001b[43mstudent\u001b[49m\u001b[43m.\u001b[49m\u001b[43mpop\u001b[49m\u001b[43m(\u001b[49m\u001b[43m)\u001b[49m\n",
      "\u001b[31mTypeError\u001b[39m: pop expected at least 1 argument, got 0"
     ]
    }
   ],
   "source": [
    "student.pop()"
   ]
  },
  {
   "cell_type": "code",
   "execution_count": 101,
   "id": "7fa398eb",
   "metadata": {},
   "outputs": [
    {
     "data": {
      "text/plain": [
       "29"
      ]
     },
     "execution_count": 101,
     "metadata": {},
     "output_type": "execute_result"
    }
   ],
   "source": [
    "student.pop('age')"
   ]
  },
  {
   "cell_type": "code",
   "execution_count": 109,
   "id": "bd2e7554",
   "metadata": {},
   "outputs": [
    {
     "data": {
      "text/plain": [
       "{'name': 'Jimin', 'age': 29, 'hobby': 'game'}"
      ]
     },
     "execution_count": 109,
     "metadata": {},
     "output_type": "execute_result"
    }
   ],
   "source": [
    "student"
   ]
  },
  {
   "cell_type": "code",
   "execution_count": null,
   "id": "36cf7144",
   "metadata": {},
   "outputs": [
    {
     "data": {
      "text/plain": [
       "('hobby', 'game')"
      ]
     },
     "execution_count": 105,
     "metadata": {},
     "output_type": "execute_result"
    }
   ],
   "source": [
    "student.popitem() #이 명령어는 오류 안생김."
   ]
  },
  {
   "cell_type": "markdown",
   "id": "a88fadde",
   "metadata": {},
   "source": [
    "in 연산자"
   ]
  },
  {
   "cell_type": "code",
   "execution_count": 110,
   "id": "2f677e45",
   "metadata": {},
   "outputs": [
    {
     "data": {
      "text/plain": [
       "['mango', 'banana', 'apple']"
      ]
     },
     "execution_count": 110,
     "metadata": {},
     "output_type": "execute_result"
    }
   ],
   "source": [
    "fruits"
   ]
  },
  {
   "cell_type": "code",
   "execution_count": 111,
   "id": "f6421617",
   "metadata": {},
   "outputs": [
    {
     "data": {
      "text/plain": [
       "True"
      ]
     },
     "execution_count": 111,
     "metadata": {},
     "output_type": "execute_result"
    }
   ],
   "source": [
    "'apple' in fruits"
   ]
  },
  {
   "cell_type": "code",
   "execution_count": 112,
   "id": "6ac9666c",
   "metadata": {},
   "outputs": [
    {
     "data": {
      "text/plain": [
       "False"
      ]
     },
     "execution_count": 112,
     "metadata": {},
     "output_type": "execute_result"
    }
   ],
   "source": [
    "'aaaaaa' in fruits"
   ]
  },
  {
   "cell_type": "code",
   "execution_count": 113,
   "id": "3dd92278",
   "metadata": {},
   "outputs": [
    {
     "data": {
      "text/plain": [
       "{'name': 'Jimin', 'age': 29, 'hobby': 'game'}"
      ]
     },
     "execution_count": 113,
     "metadata": {},
     "output_type": "execute_result"
    }
   ],
   "source": [
    "student"
   ]
  },
  {
   "cell_type": "code",
   "execution_count": 114,
   "id": "a77bd5b1",
   "metadata": {},
   "outputs": [
    {
     "data": {
      "text/plain": [
       "True"
      ]
     },
     "execution_count": 114,
     "metadata": {},
     "output_type": "execute_result"
    }
   ],
   "source": [
    "'name' in student"
   ]
  },
  {
   "cell_type": "code",
   "execution_count": null,
   "id": "abb7291f",
   "metadata": {},
   "outputs": [
    {
     "data": {
      "text/plain": [
       "False"
      ]
     },
     "execution_count": 115,
     "metadata": {},
     "output_type": "execute_result"
    }
   ],
   "source": [
    "29 in student #student.keys()와 거의 동일."
   ]
  },
  {
   "cell_type": "code",
   "execution_count": 117,
   "id": "b4e741c7",
   "metadata": {},
   "outputs": [
    {
     "data": {
      "text/plain": [
       "True"
      ]
     },
     "execution_count": 117,
     "metadata": {},
     "output_type": "execute_result"
    }
   ],
   "source": [
    "29 in student.values()"
   ]
  },
  {
   "cell_type": "code",
   "execution_count": 118,
   "id": "ac1b0d39",
   "metadata": {},
   "outputs": [
    {
     "data": {
      "text/plain": [
       "False"
      ]
     },
     "execution_count": 118,
     "metadata": {},
     "output_type": "execute_result"
    }
   ],
   "source": [
    "29 in student.items()"
   ]
  },
  {
   "cell_type": "code",
   "execution_count": 120,
   "id": "3f334cc8",
   "metadata": {},
   "outputs": [
    {
     "name": "stdout",
     "output_type": "stream",
     "text": [
      "name Jimin\n",
      "age 29\n",
      "hobby game\n"
     ]
    }
   ],
   "source": [
    "for i in student.items():\n",
    "    print(i[0], i[1]) "
   ]
  },
  {
   "cell_type": "code",
   "execution_count": 121,
   "id": "2c47f845",
   "metadata": {},
   "outputs": [
    {
     "name": "stdout",
     "output_type": "stream",
     "text": [
      "name Jimin\n",
      "age 29\n",
      "hobby game\n"
     ]
    }
   ],
   "source": [
    "for i, j in student.items():\n",
    "    print(i, j) "
   ]
  },
  {
   "cell_type": "code",
   "execution_count": 127,
   "id": "e6321489",
   "metadata": {},
   "outputs": [
    {
     "data": {
      "text/plain": [
       "'\\n입출력 예 \\n\\nletter  result \\n\\n\".... . .-.. .-.. ---\"  \"hello\" \\n\\n\".--. -.-- - .... --- -.\"   \"python\"\\n'"
      ]
     },
     "execution_count": 127,
     "metadata": {},
     "output_type": "execute_result"
    }
   ],
   "source": [
    "'''모스부호  \n",
    "\n",
    " \n",
    "\n",
    "문자열 letter가 주어질 때, letter를 영어 소문자로 바꾼 문자열을 출력 하도록 코드작성 \n",
    "'''\n",
    "\n",
    "morse = { \n",
    "\n",
    "    '.-':'a','-...':'b','-.-.':'c','-..':'d','.':'e','..-.':'f', \n",
    "    '--.':'g','....':'h','..':'i','.---':'j','-.-':'k','.-..':'l', \n",
    "    '--':'m','-.':'n','---':'o','.--.':'p','--.-':'q','.-.':'r', \n",
    "    '...':'s','-':'t','..-':'u','...-':'v','.--':'w','-..-':'x', \n",
    "    '-.--':'y','--..':'z' \n",
    "\n",
    "} \n",
    "\n",
    " \n",
    "'''\n",
    "입출력 예 \n",
    "\n",
    "letter  result \n",
    "\n",
    "\".... . .-.. .-.. ---\"  \"hello\" \n",
    "\n",
    "\".--. -.-- - .... --- -.\"   \"python\"\n",
    "'''\n",
    "\n"
   ]
  },
  {
   "cell_type": "code",
   "execution_count": 137,
   "id": "8f189aa2",
   "metadata": {},
   "outputs": [
    {
     "name": "stdout",
     "output_type": "stream",
     "text": [
      "hello\n"
     ]
    }
   ],
   "source": [
    "morse = { \n",
    "\n",
    "    '.-':'a','-...':'b','-.-.':'c','-..':'d','.':'e','..-.':'f', \n",
    "    '--.':'g','....':'h','..':'i','.---':'j','-.-':'k','.-..':'l', \n",
    "    '--':'m','-.':'n','---':'o','.--.':'p','--.-':'q','.-.':'r', \n",
    "    '...':'s','-':'t','..-':'u','...-':'v','.--':'w','-..-':'x', \n",
    "    '-.--':'y','--..':'z' \n",
    "\n",
    "} \n",
    "\n",
    "letter = \".... . .-.. .-.. ---\" \n",
    "answer = ''\n",
    "\n",
    "letter = letter.split()\n",
    "\n",
    "for i in letter:\n",
    "    if i in morse:\n",
    "        answer += morse[i]\n",
    "\n",
    "print(answer)\n",
    "\n",
    "#코드 구현\n",
    "\n",
    "#hello\n",
    "\n"
   ]
  },
  {
   "cell_type": "code",
   "execution_count": 151,
   "id": "8c501757",
   "metadata": {},
   "outputs": [
    {
     "name": "stdout",
     "output_type": "stream",
     "text": [
      ".... . .-.. .-.. --- \n"
     ]
    }
   ],
   "source": [
    "morse = { \n",
    "\n",
    "    '.-':'a','-...':'b','-.-.':'c','-..':'d','.':'e','..-.':'f', \n",
    "    '--.':'g','....':'h','..':'i','.---':'j','-.-':'k','.-..':'l', \n",
    "    '--':'m','-.':'n','---':'o','.--.':'p','--.-':'q','.-.':'r', \n",
    "    '...':'s','-':'t','..-':'u','...-':'v','.--':'w','-..-':'x', \n",
    "    '-.--':'y','--..':'z' \n",
    "\n",
    "} \n",
    "\n",
    "letter = \"hello\" \n",
    "answer = ''\n",
    "\n",
    "for i in letter:\n",
    "    for j, k in morse.items():\n",
    "        if k == i:\n",
    "            answer += j + ' '\n",
    "            break\n",
    "\n",
    "\n",
    "print(answer)"
   ]
  },
  {
   "cell_type": "markdown",
   "id": "ca3cdef1",
   "metadata": {},
   "source": [
    "###set 자료형\n",
    "\n",
    "중복읋 허용하지 않고, 순서가 없는 데이터"
   ]
  },
  {
   "cell_type": "code",
   "execution_count": 152,
   "id": "62d6d47d",
   "metadata": {},
   "outputs": [],
   "source": [
    "s = {1, 2, 3, 4, 2, 3}"
   ]
  },
  {
   "cell_type": "code",
   "execution_count": 153,
   "id": "1c1690f3",
   "metadata": {},
   "outputs": [
    {
     "data": {
      "text/plain": [
       "set"
      ]
     },
     "execution_count": 153,
     "metadata": {},
     "output_type": "execute_result"
    }
   ],
   "source": [
    "type(s)"
   ]
  },
  {
   "cell_type": "code",
   "execution_count": null,
   "id": "51acf02a",
   "metadata": {},
   "outputs": [
    {
     "data": {
      "text/plain": [
       "{1, 2, 3, 4}"
      ]
     },
     "execution_count": 154,
     "metadata": {},
     "output_type": "execute_result"
    }
   ],
   "source": [
    "s #중복이 자동으로 삭제됨."
   ]
  },
  {
   "cell_type": "code",
   "execution_count": 155,
   "id": "69dbc1a9",
   "metadata": {},
   "outputs": [
    {
     "ename": "TypeError",
     "evalue": "'set' object is not subscriptable",
     "output_type": "error",
     "traceback": [
      "\u001b[31m---------------------------------------------------------------------------\u001b[39m",
      "\u001b[31mTypeError\u001b[39m                                 Traceback (most recent call last)",
      "\u001b[36mCell\u001b[39m\u001b[36m \u001b[39m\u001b[32mIn[155]\u001b[39m\u001b[32m, line 1\u001b[39m\n\u001b[32m----> \u001b[39m\u001b[32m1\u001b[39m \u001b[43ms\u001b[49m\u001b[43m[\u001b[49m\u001b[32;43m0\u001b[39;49m\u001b[43m]\u001b[49m\n",
      "\u001b[31mTypeError\u001b[39m: 'set' object is not subscriptable"
     ]
    }
   ],
   "source": [
    "s[0]"
   ]
  },
  {
   "cell_type": "code",
   "execution_count": 157,
   "id": "c1e4fa64",
   "metadata": {},
   "outputs": [],
   "source": [
    "s.add(5)"
   ]
  },
  {
   "cell_type": "code",
   "execution_count": 158,
   "id": "0b45900b",
   "metadata": {},
   "outputs": [
    {
     "data": {
      "text/plain": [
       "{1, 2, 3, 4, 5}"
      ]
     },
     "execution_count": 158,
     "metadata": {},
     "output_type": "execute_result"
    }
   ],
   "source": [
    "s"
   ]
  },
  {
   "cell_type": "code",
   "execution_count": 159,
   "id": "8633620a",
   "metadata": {},
   "outputs": [],
   "source": [
    "a = {1,2,3,4}\n",
    "b = {3,4,5,6}"
   ]
  },
  {
   "cell_type": "code",
   "execution_count": 160,
   "id": "d91c85c9",
   "metadata": {},
   "outputs": [
    {
     "data": {
      "text/plain": [
       "{1, 2, 3, 4, 5, 6}"
      ]
     },
     "execution_count": 160,
     "metadata": {},
     "output_type": "execute_result"
    }
   ],
   "source": [
    "a|b"
   ]
  },
  {
   "cell_type": "code",
   "execution_count": 161,
   "id": "dc8aabf5",
   "metadata": {},
   "outputs": [
    {
     "data": {
      "text/plain": [
       "{1, 2, 3, 4, 5, 6}"
      ]
     },
     "execution_count": 161,
     "metadata": {},
     "output_type": "execute_result"
    }
   ],
   "source": [
    "a.union(b)"
   ]
  },
  {
   "cell_type": "code",
   "execution_count": 162,
   "id": "394bd0be",
   "metadata": {},
   "outputs": [
    {
     "data": {
      "text/plain": [
       "{3, 4}"
      ]
     },
     "execution_count": 162,
     "metadata": {},
     "output_type": "execute_result"
    }
   ],
   "source": [
    "a & b"
   ]
  },
  {
   "cell_type": "code",
   "execution_count": 163,
   "id": "5dc17361",
   "metadata": {},
   "outputs": [
    {
     "data": {
      "text/plain": [
       "{3, 4}"
      ]
     },
     "execution_count": 163,
     "metadata": {},
     "output_type": "execute_result"
    }
   ],
   "source": [
    "a.intersection(b)"
   ]
  },
  {
   "cell_type": "code",
   "execution_count": 166,
   "id": "c38fd429",
   "metadata": {},
   "outputs": [
    {
     "data": {
      "text/plain": [
       "{1, 2}"
      ]
     },
     "execution_count": 166,
     "metadata": {},
     "output_type": "execute_result"
    }
   ],
   "source": [
    "a - b"
   ]
  },
  {
   "cell_type": "code",
   "execution_count": 167,
   "id": "f413d279",
   "metadata": {},
   "outputs": [
    {
     "data": {
      "text/plain": [
       "{1, 2}"
      ]
     },
     "execution_count": 167,
     "metadata": {},
     "output_type": "execute_result"
    }
   ],
   "source": [
    "a.difference(b)"
   ]
  },
  {
   "cell_type": "markdown",
   "id": "3991b520",
   "metadata": {},
   "source": [
    "튜플\n",
    "\n",
    "여러 형태의 데이터를 넣을 수 있음\n",
    "\n",
    "immutable. 변경 불가능함."
   ]
  },
  {
   "cell_type": "code",
   "execution_count": 168,
   "id": "54aa2667",
   "metadata": {},
   "outputs": [],
   "source": [
    "t1 = ()"
   ]
  },
  {
   "cell_type": "code",
   "execution_count": 169,
   "id": "49ed7309",
   "metadata": {},
   "outputs": [],
   "source": [
    "t2 = (1,2)"
   ]
  },
  {
   "cell_type": "code",
   "execution_count": 170,
   "id": "200108ef",
   "metadata": {},
   "outputs": [
    {
     "data": {
      "text/plain": [
       "tuple"
      ]
     },
     "execution_count": 170,
     "metadata": {},
     "output_type": "execute_result"
    }
   ],
   "source": [
    "type(t2)"
   ]
  },
  {
   "cell_type": "code",
   "execution_count": 171,
   "id": "d20c7e8a",
   "metadata": {},
   "outputs": [
    {
     "data": {
      "text/plain": [
       "1"
      ]
     },
     "execution_count": 171,
     "metadata": {},
     "output_type": "execute_result"
    }
   ],
   "source": [
    "t2[0]"
   ]
  },
  {
   "cell_type": "code",
   "execution_count": 172,
   "id": "2bab5bf0",
   "metadata": {},
   "outputs": [
    {
     "ename": "TypeError",
     "evalue": "'tuple' object does not support item assignment",
     "output_type": "error",
     "traceback": [
      "\u001b[31m---------------------------------------------------------------------------\u001b[39m",
      "\u001b[31mTypeError\u001b[39m                                 Traceback (most recent call last)",
      "\u001b[36mCell\u001b[39m\u001b[36m \u001b[39m\u001b[32mIn[172]\u001b[39m\u001b[32m, line 1\u001b[39m\n\u001b[32m----> \u001b[39m\u001b[32m1\u001b[39m \u001b[43mt2\u001b[49m\u001b[43m[\u001b[49m\u001b[32;43m0\u001b[39;49m\u001b[43m]\u001b[49m = \u001b[32m10\u001b[39m\n",
      "\u001b[31mTypeError\u001b[39m: 'tuple' object does not support item assignment"
     ]
    }
   ],
   "source": [
    "t2[0] = 10"
   ]
  },
  {
   "cell_type": "code",
   "execution_count": 173,
   "id": "5a745734",
   "metadata": {},
   "outputs": [],
   "source": [
    "t3 = ('a', 4, ('ab', 'g'))"
   ]
  },
  {
   "cell_type": "code",
   "execution_count": 174,
   "id": "408b6989",
   "metadata": {},
   "outputs": [],
   "source": [
    "rawdata = ()"
   ]
  },
  {
   "cell_type": "code",
   "execution_count": 175,
   "id": "82796351",
   "metadata": {},
   "outputs": [],
   "source": [
    "t4 = 1, 2, 3, 4"
   ]
  },
  {
   "cell_type": "code",
   "execution_count": 176,
   "id": "b9dad87d",
   "metadata": {},
   "outputs": [
    {
     "data": {
      "text/plain": [
       "tuple"
      ]
     },
     "execution_count": 176,
     "metadata": {},
     "output_type": "execute_result"
    }
   ],
   "source": [
    "type(t4)"
   ]
  },
  {
   "cell_type": "code",
   "execution_count": 188,
   "id": "0708031f",
   "metadata": {},
   "outputs": [
    {
     "name": "stdout",
     "output_type": "stream",
     "text": [
      "['누드초코', '아몬드', '초코', '크런키', '화이트쿠키']\n"
     ]
    }
   ],
   "source": [
    "#빼빼로데이\n",
    "\n",
    "#빼빼로의 종류는 6가지 맛('누드초코', '아몬드', '초코', '크런키', '크림치즈', '화이트쿠키')이 있었습니다.\n",
    "#이벤트 빼빼로는 한가지 맛에 하나만 구매할 수 있습니다.\n",
    "#구매한 빼빼로를 오름차순으로 정렬하여 결과를 나타내 주세요.\n",
    "\n",
    "#입력1\n",
    "#[\"초코\", \"누드초코\", \"크런키\", \"아몬드\", \"초코\", \"누드초코\", \"아몬드\", \"화이트쿠키\", \"초코\", \"초코\"]\n",
    "\n",
    "#출력1\n",
    "#['누드초코', '아몬드', '초코', '크런키', '화이트쿠키']\n",
    "\n",
    "pepero = [\"초코\", \"누드초코\", \"크런키\", \"아몬드\", \"초코\", \"누드초코\", \"아몬드\", \"화이트쿠키\", \"초코\", \"초코\"]\n",
    "\n",
    "#코드작성\n",
    "answer = sorted(set(pepero))\n",
    "print(answer)"
   ]
  },
  {
   "cell_type": "code",
   "execution_count": 195,
   "id": "5fe0fab6",
   "metadata": {},
   "outputs": [
    {
     "data": {
      "text/plain": [
       "7"
      ]
     },
     "execution_count": 195,
     "metadata": {},
     "output_type": "execute_result"
    }
   ],
   "source": [
    "#영단어갯수세기\n",
    "\n",
    "#내가 외운 단어의 개수는 몇개일까요?\n",
    "\n",
    "#입력1\n",
    "#\"culture experience symbol symbol education symbol effect education affair liberty liberty affair\"\n",
    "\n",
    "#출력1\n",
    "#7\n",
    "\n",
    "letter = \"culture experience symbol symbol education symbol effect education affair liberty liberty affair\"\n",
    "\n",
    "len(set(letter.split()))"
   ]
  },
  {
   "cell_type": "markdown",
   "id": "418a4b22",
   "metadata": {},
   "source": [
    "### 함수"
   ]
  },
  {
   "cell_type": "code",
   "execution_count": 196,
   "id": "c5c3eb54",
   "metadata": {},
   "outputs": [
    {
     "data": {
      "text/plain": [
       "['ArithmeticError',\n",
       " 'AssertionError',\n",
       " 'AttributeError',\n",
       " 'BaseException',\n",
       " 'BaseExceptionGroup',\n",
       " 'BlockingIOError',\n",
       " 'BrokenPipeError',\n",
       " 'BufferError',\n",
       " 'BytesWarning',\n",
       " 'ChildProcessError',\n",
       " 'ConnectionAbortedError',\n",
       " 'ConnectionError',\n",
       " 'ConnectionRefusedError',\n",
       " 'ConnectionResetError',\n",
       " 'DeprecationWarning',\n",
       " 'EOFError',\n",
       " 'Ellipsis',\n",
       " 'EncodingWarning',\n",
       " 'EnvironmentError',\n",
       " 'Exception',\n",
       " 'ExceptionGroup',\n",
       " 'False',\n",
       " 'FileExistsError',\n",
       " 'FileNotFoundError',\n",
       " 'FloatingPointError',\n",
       " 'FutureWarning',\n",
       " 'GeneratorExit',\n",
       " 'IOError',\n",
       " 'ImportError',\n",
       " 'ImportWarning',\n",
       " 'IndentationError',\n",
       " 'IndexError',\n",
       " 'InterruptedError',\n",
       " 'IsADirectoryError',\n",
       " 'KeyError',\n",
       " 'KeyboardInterrupt',\n",
       " 'LookupError',\n",
       " 'MemoryError',\n",
       " 'ModuleNotFoundError',\n",
       " 'NameError',\n",
       " 'None',\n",
       " 'NotADirectoryError',\n",
       " 'NotImplemented',\n",
       " 'NotImplementedError',\n",
       " 'OSError',\n",
       " 'OverflowError',\n",
       " 'PendingDeprecationWarning',\n",
       " 'PermissionError',\n",
       " 'ProcessLookupError',\n",
       " 'RecursionError',\n",
       " 'ReferenceError',\n",
       " 'ResourceWarning',\n",
       " 'RuntimeError',\n",
       " 'RuntimeWarning',\n",
       " 'StopAsyncIteration',\n",
       " 'StopIteration',\n",
       " 'SyntaxError',\n",
       " 'SyntaxWarning',\n",
       " 'SystemError',\n",
       " 'SystemExit',\n",
       " 'TabError',\n",
       " 'TimeoutError',\n",
       " 'True',\n",
       " 'TypeError',\n",
       " 'UnboundLocalError',\n",
       " 'UnicodeDecodeError',\n",
       " 'UnicodeEncodeError',\n",
       " 'UnicodeError',\n",
       " 'UnicodeTranslateError',\n",
       " 'UnicodeWarning',\n",
       " 'UserWarning',\n",
       " 'ValueError',\n",
       " 'Warning',\n",
       " 'WindowsError',\n",
       " 'ZeroDivisionError',\n",
       " '__IPYTHON__',\n",
       " '__build_class__',\n",
       " '__debug__',\n",
       " '__doc__',\n",
       " '__import__',\n",
       " '__loader__',\n",
       " '__name__',\n",
       " '__package__',\n",
       " '__spec__',\n",
       " 'abs',\n",
       " 'aiter',\n",
       " 'all',\n",
       " 'anext',\n",
       " 'any',\n",
       " 'ascii',\n",
       " 'bin',\n",
       " 'bool',\n",
       " 'breakpoint',\n",
       " 'bytearray',\n",
       " 'bytes',\n",
       " 'callable',\n",
       " 'chr',\n",
       " 'classmethod',\n",
       " 'compile',\n",
       " 'complex',\n",
       " 'copyright',\n",
       " 'credits',\n",
       " 'delattr',\n",
       " 'dict',\n",
       " 'dir',\n",
       " 'display',\n",
       " 'divmod',\n",
       " 'enumerate',\n",
       " 'eval',\n",
       " 'exec',\n",
       " 'execfile',\n",
       " 'filter',\n",
       " 'float',\n",
       " 'format',\n",
       " 'frozenset',\n",
       " 'get_ipython',\n",
       " 'getattr',\n",
       " 'globals',\n",
       " 'hasattr',\n",
       " 'hash',\n",
       " 'help',\n",
       " 'hex',\n",
       " 'id',\n",
       " 'input',\n",
       " 'int',\n",
       " 'isinstance',\n",
       " 'issubclass',\n",
       " 'iter',\n",
       " 'len',\n",
       " 'license',\n",
       " 'list',\n",
       " 'locals',\n",
       " 'map',\n",
       " 'max',\n",
       " 'memoryview',\n",
       " 'min',\n",
       " 'next',\n",
       " 'object',\n",
       " 'oct',\n",
       " 'open',\n",
       " 'ord',\n",
       " 'pow',\n",
       " 'print',\n",
       " 'property',\n",
       " 'range',\n",
       " 'repr',\n",
       " 'reversed',\n",
       " 'round',\n",
       " 'runfile',\n",
       " 'set',\n",
       " 'setattr',\n",
       " 'slice',\n",
       " 'sorted',\n",
       " 'staticmethod',\n",
       " 'str',\n",
       " 'sum',\n",
       " 'super',\n",
       " 'tuple',\n",
       " 'type',\n",
       " 'vars',\n",
       " 'zip']"
      ]
     },
     "execution_count": 196,
     "metadata": {},
     "output_type": "execute_result"
    }
   ],
   "source": [
    "dir(__builtins__)"
   ]
  },
  {
   "cell_type": "code",
   "execution_count": 197,
   "id": "a87a2dcb",
   "metadata": {},
   "outputs": [
    {
     "name": "stdout",
     "output_type": "stream",
     "text": [
      "내가 만든 함수\n",
      "내가 만든 함수\n",
      "내가 만든 함수\n"
     ]
    }
   ],
   "source": [
    "def my_func():\n",
    "    print(\"내가 만든 함수\")\n",
    "\n",
    "my_func()\n",
    "my_func()\n",
    "my_func()"
   ]
  },
  {
   "cell_type": "code",
   "execution_count": 206,
   "id": "6bce30d3",
   "metadata": {},
   "outputs": [],
   "source": [
    "def my_func(a):    \n",
    "    print(f\"{a}, 내가 만든 함수\")"
   ]
  },
  {
   "cell_type": "code",
   "execution_count": 207,
   "id": "a665b131",
   "metadata": {},
   "outputs": [
    {
     "name": "stdout",
     "output_type": "stream",
     "text": [
      "Hey, 내가 만든 함수\n",
      "Hello, 내가 만든 함수\n",
      "Hi, 내가 만든 함수\n"
     ]
    }
   ],
   "source": [
    "my_func('Hey')\n",
    "my_func('Hello')\n",
    "my_func('Hi')"
   ]
  },
  {
   "cell_type": "code",
   "execution_count": 208,
   "id": "b8c5b98e",
   "metadata": {},
   "outputs": [],
   "source": [
    "def my_sum(a, b):\n",
    "    result = a+b\n",
    "    return result"
   ]
  },
  {
   "cell_type": "code",
   "execution_count": 209,
   "id": "435e0d81",
   "metadata": {},
   "outputs": [
    {
     "data": {
      "text/plain": [
       "7"
      ]
     },
     "execution_count": 209,
     "metadata": {},
     "output_type": "execute_result"
    }
   ],
   "source": [
    "my_sum(3, 4)"
   ]
  },
  {
   "cell_type": "code",
   "execution_count": 210,
   "id": "b5f11317",
   "metadata": {},
   "outputs": [
    {
     "data": {
      "text/plain": [
       "12"
      ]
     },
     "execution_count": 210,
     "metadata": {},
     "output_type": "execute_result"
    }
   ],
   "source": [
    "def num_max(a,b,c):\n",
    "    if a > b:\n",
    "        if a > c:\n",
    "            return a\n",
    "        else:\n",
    "            return c\n",
    "    else:\n",
    "        if c > b:\n",
    "            return c\n",
    "        else:\n",
    "            return b\n",
    "\n",
    "num = num_max(10, 12, 7)\n",
    "num"
   ]
  },
  {
   "cell_type": "code",
   "execution_count": 214,
   "id": "289b2815",
   "metadata": {},
   "outputs": [
    {
     "data": {
      "text/plain": [
       "-1"
      ]
     },
     "execution_count": 214,
     "metadata": {},
     "output_type": "execute_result"
    }
   ],
   "source": [
    "def num_max(a,b,c):\n",
    "    list = [a,b,c]\n",
    "    comp = list[0]\n",
    "    for i in list:\n",
    "        if i > comp:\n",
    "            comp = i\n",
    "    return comp\n",
    "\n",
    "num = num_max(-3, -5,-1)\n",
    "num"
   ]
  },
  {
   "cell_type": "code",
   "execution_count": 215,
   "id": "270059d5",
   "metadata": {},
   "outputs": [
    {
     "data": {
      "text/plain": [
       "24"
      ]
     },
     "execution_count": 215,
     "metadata": {},
     "output_type": "execute_result"
    }
   ],
   "source": [
    "def num_min(list):\n",
    "     \n",
    "    comp = list[0]\n",
    "    for i in list:\n",
    "        if i < comp:\n",
    "            comp = i\n",
    "    return comp\n",
    "\n",
    "testArray = [52, 273, 32, 103, 275, 24, 57]\n",
    "num_min(testArray)"
   ]
  },
  {
   "cell_type": "code",
   "execution_count": 218,
   "id": "fe3c200f",
   "metadata": {},
   "outputs": [
    {
     "name": "stdout",
     "output_type": "stream",
     "text": [
      "hello\n",
      ".... . .-.. .-.. --- \n"
     ]
    }
   ],
   "source": [
    "def morse_to_string(letter):\n",
    "    morse = { \n",
    "\n",
    "    '.-':'a','-...':'b','-.-.':'c','-..':'d','.':'e','..-.':'f', \n",
    "    '--.':'g','....':'h','..':'i','.---':'j','-.-':'k','.-..':'l', \n",
    "    '--':'m','-.':'n','---':'o','.--.':'p','--.-':'q','.-.':'r', \n",
    "    '...':'s','-':'t','..-':'u','...-':'v','.--':'w','-..-':'x', \n",
    "    '-.--':'y','--..':'z' \n",
    "    \n",
    "    }\n",
    "\n",
    "    letter = letter.split()\n",
    "    answer = ''\n",
    "\n",
    "    for i in letter:\n",
    "        if i in morse:\n",
    "            answer += morse[i]\n",
    "\n",
    "    return answer\n",
    "\n",
    "def string_to_morse(letter):\n",
    "    morse = { \n",
    "\n",
    "    '.-':'a','-...':'b','-.-.':'c','-..':'d','.':'e','..-.':'f', \n",
    "    '--.':'g','....':'h','..':'i','.---':'j','-.-':'k','.-..':'l', \n",
    "    '--':'m','-.':'n','---':'o','.--.':'p','--.-':'q','.-.':'r', \n",
    "    '...':'s','-':'t','..-':'u','...-':'v','.--':'w','-..-':'x', \n",
    "    '-.--':'y','--..':'z' \n",
    "\n",
    "    } \n",
    "\n",
    "    answer = ''\n",
    "\n",
    "    for i in letter:\n",
    "        for j, k in morse.items():\n",
    "            if k == i:\n",
    "                answer += j + ' '\n",
    "                break\n",
    "    \n",
    "    return answer\n",
    "\n",
    "\n",
    "letter = \".... . .-.. .-.. ---\" \n",
    "\n",
    "\n",
    "print(morse_to_string(letter))\n",
    "\n",
    "letter = \"hello\"\n",
    "\n",
    "print(string_to_morse(letter))"
   ]
  },
  {
   "cell_type": "markdown",
   "id": "8fde166d",
   "metadata": {},
   "source": [
    "*args\n",
    "\n",
    "함수 생성 시 매개변수를 tuple로 만들어주는 기능. 매개변수가 얼마나 많아도 상관없음."
   ]
  },
  {
   "cell_type": "code",
   "execution_count": 227,
   "id": "9347767b",
   "metadata": {},
   "outputs": [],
   "source": [
    "def add_many(*args):\n",
    "    print(args)\n",
    "    sum = 0\n",
    "    for i in args:\n",
    "        sum += i\n",
    "    return sum"
   ]
  },
  {
   "cell_type": "code",
   "execution_count": 228,
   "id": "e70c3d72",
   "metadata": {},
   "outputs": [
    {
     "name": "stdout",
     "output_type": "stream",
     "text": [
      "(1, 2)\n"
     ]
    },
    {
     "data": {
      "text/plain": [
       "3"
      ]
     },
     "execution_count": 228,
     "metadata": {},
     "output_type": "execute_result"
    }
   ],
   "source": [
    "add_many(1,2)"
   ]
  },
  {
   "cell_type": "code",
   "execution_count": 229,
   "id": "b9a2420d",
   "metadata": {},
   "outputs": [
    {
     "name": "stdout",
     "output_type": "stream",
     "text": [
      "(1, 2, 3, 4, 5, 6, 7)\n"
     ]
    },
    {
     "data": {
      "text/plain": [
       "28"
      ]
     },
     "execution_count": 229,
     "metadata": {},
     "output_type": "execute_result"
    }
   ],
   "source": [
    "add_many(1,2,3,4,5,6,7)"
   ]
  },
  {
   "cell_type": "code",
   "execution_count": 239,
   "id": "96b10e53",
   "metadata": {},
   "outputs": [],
   "source": [
    "def add_mul(choice, *args):\n",
    "    #print(args)\n",
    "    \n",
    "    if choice.lower() == \"add\":\n",
    "        sum = 0\n",
    "        for i in args:\n",
    "            sum += i\n",
    "    elif choice.lower() == \"mul\":\n",
    "        sum = 1\n",
    "        for i in args:\n",
    "            sum *= i\n",
    "    else:\n",
    "        print(\"연산자 확인 필요\")\n",
    "        return\n",
    "\n",
    "    return sum"
   ]
  },
  {
   "cell_type": "code",
   "execution_count": 240,
   "id": "e0b5e6b1",
   "metadata": {},
   "outputs": [
    {
     "name": "stdout",
     "output_type": "stream",
     "text": [
      "연산자 확인 필요\n"
     ]
    }
   ],
   "source": [
    "add_mul('addd', 1,2,3,4,5)"
   ]
  },
  {
   "cell_type": "code",
   "execution_count": 233,
   "id": "4b5a742b",
   "metadata": {},
   "outputs": [
    {
     "data": {
      "text/plain": [
       "15"
      ]
     },
     "execution_count": 233,
     "metadata": {},
     "output_type": "execute_result"
    }
   ],
   "source": [
    "add_mul('add', 1,2,3,4,5)"
   ]
  },
  {
   "cell_type": "code",
   "execution_count": 234,
   "id": "9d81595f",
   "metadata": {},
   "outputs": [
    {
     "data": {
      "text/plain": [
       "120"
      ]
     },
     "execution_count": 234,
     "metadata": {},
     "output_type": "execute_result"
    }
   ],
   "source": [
    "add_mul('mul', 1,2,3,4,5)"
   ]
  },
  {
   "cell_type": "code",
   "execution_count": null,
   "id": "933bf12a",
   "metadata": {},
   "outputs": [],
   "source": [
    "def add_and_mul(a,b):\n",
    "    return a+b, a*b"
   ]
  },
  {
   "cell_type": "code",
   "execution_count": null,
   "id": "6eb95196",
   "metadata": {},
   "outputs": [
    {
     "name": "stdout",
     "output_type": "stream",
     "text": [
      "(7, 12)\n"
     ]
    }
   ],
   "source": [
    "print(add_and_mul(3,4)) #1개의 값 반환됨. tuple 1개"
   ]
  },
  {
   "cell_type": "code",
   "execution_count": 251,
   "id": "0ea65ee2",
   "metadata": {},
   "outputs": [],
   "source": [
    "result1, result2 = add_and_mul(3,4)"
   ]
  },
  {
   "cell_type": "code",
   "execution_count": 252,
   "id": "a0f9647a",
   "metadata": {},
   "outputs": [
    {
     "data": {
      "text/plain": [
       "7"
      ]
     },
     "execution_count": 252,
     "metadata": {},
     "output_type": "execute_result"
    }
   ],
   "source": [
    "result1"
   ]
  },
  {
   "cell_type": "code",
   "execution_count": 253,
   "id": "aed6b0e6",
   "metadata": {},
   "outputs": [
    {
     "data": {
      "text/plain": [
       "12"
      ]
     },
     "execution_count": 253,
     "metadata": {},
     "output_type": "execute_result"
    }
   ],
   "source": [
    "result2"
   ]
  },
  {
   "cell_type": "code",
   "execution_count": 260,
   "id": "4dcd89b9",
   "metadata": {},
   "outputs": [],
   "source": [
    "def say_myself(name, age, man=True):    #default값 True로 설정\n",
    "    print(name, age)\n",
    "    if man == True:\n",
    "        print(\"남자\")\n",
    "    else:\n",
    "        print(\"여자\")"
   ]
  },
  {
   "cell_type": "code",
   "execution_count": 261,
   "id": "6dd525b2",
   "metadata": {},
   "outputs": [
    {
     "name": "stdout",
     "output_type": "stream",
     "text": [
      "chris 31\n",
      "남자\n"
     ]
    }
   ],
   "source": [
    "say_myself('chris', 31, True)"
   ]
  },
  {
   "cell_type": "code",
   "execution_count": 262,
   "id": "5d15513a",
   "metadata": {},
   "outputs": [
    {
     "name": "stdout",
     "output_type": "stream",
     "text": [
      "chris 31\n",
      "여자\n"
     ]
    }
   ],
   "source": [
    "say_myself('chris', man=False, age=31)"
   ]
  },
  {
   "cell_type": "code",
   "execution_count": 263,
   "id": "292ced06",
   "metadata": {},
   "outputs": [
    {
     "name": "stdout",
     "output_type": "stream",
     "text": [
      "john 31\n",
      "남자\n"
     ]
    }
   ],
   "source": [
    "say_myself('john', 31)"
   ]
  }
 ],
 "metadata": {
  "kernelspec": {
   "display_name": "Python 3",
   "language": "python",
   "name": "python3"
  },
  "language_info": {
   "codemirror_mode": {
    "name": "ipython",
    "version": 3
   },
   "file_extension": ".py",
   "mimetype": "text/x-python",
   "name": "python",
   "nbconvert_exporter": "python",
   "pygments_lexer": "ipython3",
   "version": "3.11.8"
  }
 },
 "nbformat": 4,
 "nbformat_minor": 5
}
