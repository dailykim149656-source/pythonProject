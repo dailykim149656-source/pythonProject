{
 "cells": [
  {
   "cell_type": "markdown",
   "id": "9da00b97",
   "metadata": {},
   "source": [
    "## 업그레이드미션 도전"
   ]
  },
  {
   "cell_type": "markdown",
   "id": "6806d498",
   "metadata": {},
   "source": []
  },
  {
   "cell_type": "code",
   "execution_count": 3,
   "id": "6470d451",
   "metadata": {},
   "outputs": [
    {
     "name": "stdout",
     "output_type": "stream",
     "text": [
      "12345600\n"
     ]
    }
   ],
   "source": [
    "#업그레이드미션 1 \n",
    "\n",
    "pay = 12345678  # 12345678원 \n",
    "\n",
    "pay = (pay // 100)*100\n",
    "print(pay)\n",
    "\n",
    "#TODO: 100 미만 절사 처리해주세요 "
   ]
  },
  {
   "cell_type": "code",
   "execution_count": 13,
   "id": "e658eb34",
   "metadata": {},
   "outputs": [
    {
     "name": "stdout",
     "output_type": "stream",
     "text": [
      "1\n"
     ]
    }
   ],
   "source": [
    "# 업그레이드미션 2  \n",
    "\n",
    "# Todo: 변수 a에 저장된 값의 b자리 값을 계산하여\t 변수 c에 저장하는 코드를 설계하라  \n",
    "\n",
    "#예를 들어 a에 1234가 저장되어 있고 b가 1일 경우 첫 번째 자리값인 4가 c에 저장된다.  \n",
    "\n",
    "#a가 1234일때 b가 4일 경우는 4번째 자리값인 1이 c에 저장되어야 한다.  \n",
    "\n",
    "a = 1234 \n",
    "\n",
    "b = 1\n",
    "\n",
    "c = (a // 10**(4-b)) % 10\n",
    "\n",
    "print(c)"
   ]
  },
  {
   "cell_type": "code",
   "execution_count": 16,
   "id": "e44ee9b7",
   "metadata": {},
   "outputs": [
    {
     "name": "stdout",
     "output_type": "stream",
     "text": [
      "6.0\n"
     ]
    }
   ],
   "source": [
    "# 업그레이드미션 3 \n",
    "\n",
    "# 삼각형의 넓이 구하기 \n",
    "\n",
    "# 사용자에게 삼각형의 밑변과 높이를 입력 받아  \n",
    "\n",
    "# 삼각형의 넓이를 출력하는 코드를 작성하세요.\n",
    "\n",
    "length = int(input(\"밑변을 입력하세요: \")) \n",
    "height = int(input(\"높이를 입력하세요: \"))\n",
    "\n",
    "area = length * height / 2\n",
    "\n",
    "print(area)"
   ]
  },
  {
   "cell_type": "markdown",
   "id": "9c3f6884",
   "metadata": {},
   "source": []
  },
  {
   "cell_type": "code",
   "execution_count": 26,
   "id": "0ebb3f12",
   "metadata": {},
   "outputs": [
    {
     "name": "stdout",
     "output_type": "stream",
     "text": [
      "10\n"
     ]
    }
   ],
   "source": [
    "# 업그레이드미션 4 \n",
    "\n",
    " \n",
    "\n",
    "#다음 그림과 같이 바둑돌의 개수를 늘려가며 삼각형 모양을 만들려고 합니다. n이 입력으로 주어질 때, n단계에서 사용된 바둑돌의 개수를 출력하는 코드를 작성하세요. \n",
    "\n",
    "n = int(input(\"숫자 n을 입력하세요: \"))\n",
    "tot = 0\n",
    "\n",
    "for i in range(1, n + 1):\n",
    "    tot += i\n",
    "\n",
    "print(tot)"
   ]
  },
  {
   "cell_type": "code",
   "execution_count": 20,
   "id": "c722b232",
   "metadata": {},
   "outputs": [
    {
     "name": "stdout",
     "output_type": "stream",
     "text": [
      "12\n",
      "3333\n"
     ]
    }
   ],
   "source": [
    "#정수 num1, num2가 입력으로 주어질 때, 첫 번째 줄에는 num1과 num2를 곱한 수를, 두 번째 줄에는 num1을 num2번 반복하여 출력하도록 코드를 작성해주세요 \n",
    "\n",
    "num1 = int(input(\"num1 입력해주세요: \")) \n",
    "num2 = int(input(\"num2 입력해주세요: \")) \n",
    "\n",
    "print(num1 * num2)\n",
    "print(str(num1) * num2)\n",
    "#입출력 예 #1 \n",
    "\n",
    "#num1이 4, num2가 3이므로 첫째 줄에 4와 3을 곱한 12를 출력하고, 둘째 줄에 4를 3번 반복한 \"444\"를 출력합니다. \n"
   ]
  },
  {
   "cell_type": "code",
   "execution_count": 21,
   "id": "fc52d20a",
   "metadata": {},
   "outputs": [
    {
     "name": "stdout",
     "output_type": "stream",
     "text": [
      "홀수\n"
     ]
    }
   ],
   "source": [
    "#number가 짝수라면 \"짝수\"를, number가 홀수라면 \"홀수\"를 출력하도록 조건문을 작성해주세요. \n",
    "\n",
    "number = int(input(\"number를 입력해주세요: \"))\n",
    "if number % 2 == 0:\n",
    "    print(\"짝수\")\n",
    "else:\n",
    "    print(\"홀수\")"
   ]
  },
  {
   "cell_type": "code",
   "execution_count": null,
   "id": "1cd29855",
   "metadata": {},
   "outputs": [],
   "source": [
    "# 입력된 학생의 점수 score에 따라 성적을 A, B, C, D, F로 구분하여 출력하는 코드를 작성해주세요 \n",
    "\n",
    "#A : 90 ≤ score \n",
    "\n",
    "#B : 80 ≤ score < 90 \n",
    "\n",
    "#C : 70 ≤ score < 80 \n",
    "\n",
    "#D : 60 ≤ score < 70 \n",
    "\n",
    "#F : score < 60 \n",
    "\n",
    "grade = int(input(\"점수를 입력하세요: \"))\n",
    "\n",
    "if grade >= 90:         # 점수가 90점 이상이면 A\n",
    "    print(\"A\")\n",
    "elif 80 <= grade:       # 점수가 80점 이상이면 B\n",
    "    print(\"B\")\n",
    "elif 70 <= grade:       # 점수가 70점 이상이면 C\n",
    "    print(\"C\")\n",
    "elif 60 <= grade:       # 점수가 60점 이상이면 D\n",
    "    print(\"D\")\n",
    "else:                   # 점수가 60점 미만이면 F\n",
    "    print(\"F\")"
   ]
  },
  {
   "cell_type": "code",
   "execution_count": null,
   "id": "4dbb64fe",
   "metadata": {},
   "outputs": [
    {
     "name": "stdout",
     "output_type": "stream",
     "text": [
      "***\n",
      "\n",
      "***\n",
      "\n",
      "***\n",
      "\n",
      "***\n",
      "\n"
     ]
    }
   ],
   "source": [
    "'''*을 가로로 a개, 세로로 b개 사용하여 직사각형을 만들려고 합니다. 정수 a, b가 매개변수로 주어질 때, a x b 직사각형을 출력하도록 코드를 작성하세요 \n",
    "\n",
    " \n",
    "\n",
    "입력 #1 \n",
    "\n",
    "3, 4 \n",
    "\n",
    "출력 #1 \n",
    "\n",
    "*** \n",
    "\n",
    "*** \n",
    "\n",
    "*** \n",
    "\n",
    "*** '''\n",
    "\n",
    "a , b = map(int, input(\"숫자 a, b를 입력하세요: \").split(\",\"))\n",
    "\n",
    "for i in range(b):\n",
    "    print(\"*\" * a + \"\\n\")"
   ]
  },
  {
   "cell_type": "code",
   "execution_count": 4,
   "id": "70963094",
   "metadata": {},
   "outputs": [
    {
     "name": "stdout",
     "output_type": "stream",
     "text": [
      "2단\n",
      "2 * 1 = 2\n",
      "2 * 2 = 4\n",
      "2 * 3 = 6\n",
      "2 * 4 = 8\n",
      "2 * 5 = 10\n",
      "2 * 6 = 12\n",
      "2 * 7 = 14\n",
      "2 * 8 = 16\n",
      "2 * 9 = 18\n",
      "3단\n",
      "3 * 1 = 3\n",
      "3 * 2 = 6\n",
      "3 * 3 = 9\n",
      "3 * 4 = 12\n",
      "3 * 5 = 15\n",
      "3 * 6 = 18\n",
      "3 * 7 = 21\n",
      "3 * 8 = 24\n",
      "3 * 9 = 27\n",
      "4단\n",
      "4 * 1 = 4\n",
      "4 * 2 = 8\n",
      "4 * 3 = 12\n",
      "4 * 4 = 16\n",
      "4 * 5 = 20\n",
      "4 * 6 = 24\n",
      "4 * 7 = 28\n",
      "4 * 8 = 32\n",
      "4 * 9 = 36\n",
      "5단\n",
      "5 * 1 = 5\n",
      "5 * 2 = 10\n",
      "5 * 3 = 15\n",
      "5 * 4 = 20\n",
      "5 * 5 = 25\n",
      "5 * 6 = 30\n",
      "5 * 7 = 35\n",
      "5 * 8 = 40\n",
      "5 * 9 = 45\n",
      "6단\n",
      "6 * 1 = 6\n",
      "6 * 2 = 12\n",
      "6 * 3 = 18\n",
      "6 * 4 = 24\n",
      "6 * 5 = 30\n",
      "6 * 6 = 36\n",
      "6 * 7 = 42\n",
      "6 * 8 = 48\n",
      "6 * 9 = 54\n",
      "7단\n",
      "7 * 1 = 7\n",
      "7 * 2 = 14\n",
      "7 * 3 = 21\n",
      "7 * 4 = 28\n",
      "7 * 5 = 35\n",
      "7 * 6 = 42\n",
      "7 * 7 = 49\n",
      "7 * 8 = 56\n",
      "7 * 9 = 63\n",
      "8단\n",
      "8 * 1 = 8\n",
      "8 * 2 = 16\n",
      "8 * 3 = 24\n",
      "8 * 4 = 32\n",
      "8 * 5 = 40\n",
      "8 * 6 = 48\n",
      "8 * 7 = 56\n",
      "8 * 8 = 64\n",
      "8 * 9 = 72\n",
      "9단\n",
      "9 * 1 = 9\n",
      "9 * 2 = 18\n",
      "9 * 3 = 27\n",
      "9 * 4 = 36\n",
      "9 * 5 = 45\n",
      "9 * 6 = 54\n",
      "9 * 7 = 63\n",
      "9 * 8 = 72\n",
      "9 * 9 = 81\n"
     ]
    }
   ],
   "source": [
    "#구구단 전체(2단부터 9단까지)를 출력 \n",
    "\n",
    "for n in range(2, 9 + 1):\n",
    "    print(f\"{n}단\")\n",
    "    for i in range(1, 9 + 1):\n",
    "        print(f\"{n} * {i} = {n*i}\")"
   ]
  },
  {
   "cell_type": "code",
   "execution_count": null,
   "id": "885f6500",
   "metadata": {},
   "outputs": [
    {
     "name": "stdout",
     "output_type": "stream",
     "text": [
      "my_nic과 enemy_nic의 길이를 10자 내로 다시 입력하세요.\n",
      "my_nic과 enemy_nic의 길이를 10자 내로 다시 입력하세요.\n",
      "mana와 hp를 1~1000 범위 내의 값으로 다시 입력하세요.\n"
     ]
    }
   ],
   "source": [
    "'''지민이는 온라인 게임을 하던 도중 갑작스럽게 적을 만났습니다. 지민이의 캐릭터는 마나를 소모하며 공격하는 캐릭터이고 한 번 공격 시 마나 10을 소모하며 대미지는 20입니다. 지민이의 닉네임 my_nic과 적의 닉네임 enemy_nic이 문자열로 주어지고, 지민이의 마나량 mana, 적의 체력 hp가 정수로 주어질 때 지민이가 남은 마나로 적을 쓰러뜨릴 수 있다면 \"\"my_nic kill enemy_nic을 쓰러뜨릴 수 없다면 \"enemy_nic kill my_nic\"을 출력하도록 코드를 작성해보세요. \n",
    "\n",
    " \n",
    "\n",
    "제한사항 \n",
    "\n",
    "머쓱이의 캐릭터는 마나가 10보다 적으면 공격할 수 없습니다. \n",
    "\n",
    "1 ≤ my_nic의 길이, enemy_nic의 길이 ≤ 10 \n",
    "\n",
    "1 ≤ mana, hp ≤ 1,000 \n",
    "\n",
    " \n",
    "\n",
    "입출력 예 \n",
    "\n",
    "입력 #1 \n",
    "\n",
    "abc \n",
    "\n",
    "cba \n",
    "\n",
    "100 \n",
    "\n",
    "200 \n",
    "\n",
    " \n",
    "\n",
    "출력 #1 \n",
    "\n",
    "abc kill cba \n",
    "\n",
    " \n",
    "\n",
    "입력 #2 \n",
    "\n",
    "jimin \n",
    "\n",
    "enemy \n",
    "\n",
    "200 \n",
    "\n",
    "1000 \n",
    "\n",
    " \n",
    "\n",
    "출력 #2 \n",
    "\n",
    "enemy kill jimin \n",
    "\n",
    " \n",
    "\n",
    "입출력 예 설명 \n",
    "\n",
    "입출력 예 #1 \n",
    "\n",
    "마나 100으로 지민이가 입힐 수 있는 대미지는 총 200입니다. 적의 hp가 200이므로 적을 쓰러뜨릴 수 있습니다. 따라서 \"abc kill cba\"를 출력해야 합니다. \n",
    "\n",
    " \n",
    "\n",
    "입출력 예 #2 \n",
    "\n",
    "마나 200으로 지민이가 입힐 수 있는 대미지는 총 400입니다. 적의 hp가 1000이므로 적을 쓰러뜨릴 수 없습니다. 따라서 \"enemy kill jimin\"을 출력해야 합니다. '''\n",
    "\n",
    "\n",
    "\n",
    "\n",
    "\n",
    "while True:\n",
    "    my_nic = input(\"my_nic: \")\n",
    "    enemy_nic = input(\"enemy_nic: \")\n",
    "    mana = int(input(\"mana: \"))\n",
    "    hp =int(input(\"hp: \"))\n",
    "    \n",
    "    if 1<= len(my_nic) <=10 and 1<= len(enemy_nic) <=10 :\n",
    "        if 1<= mana <=1000 and 1<= hp <=1000 :\n",
    "            if mana >= 10:\n",
    "                while hp > 0:\n",
    "                    mana -= 10\n",
    "                    hp -= 20\n",
    "                if hp >= 0:\n",
    "                    print(f\"{my_nic} kill {enemy_nic}\")\n",
    "                    break\n",
    "                else:\n",
    "                    print(f\"{enemy_nic} kill {my_nic}\")\n",
    "                    break\n",
    "            else:\n",
    "                print(\"enemy_nic kill my_nic\")\n",
    "                break\n",
    "        else:\n",
    "            print(\"mana와 hp를 1~1000 범위 내의 값으로 다시 입력하세요.\")\n",
    "    else:\n",
    "        print(\"my_nic과 enemy_nic의 길이를 10자 내로 다시 입력하세요.\")"
   ]
  },
  {
   "cell_type": "code",
   "execution_count": 1,
   "id": "858661a3",
   "metadata": {},
   "outputs": [
    {
     "name": "stdout",
     "output_type": "stream",
     "text": [
      "jane kill alice\n"
     ]
    }
   ],
   "source": [
    "while True:\n",
    "    my_nic = input(\"my_nic: \")\n",
    "    enemy_nic = input(\"enemy_nic: \")\n",
    "    mana = int(input(\"mana: \"))\n",
    "    hp = int(input(\"hp: \"))\n",
    "\n",
    "    if not (1 <= len(my_nic) <= 10 and 1 <= len(enemy_nic) <= 10):\n",
    "        print(\"닉네임은 1~10자 사이여야 합니다.\")\n",
    "        continue\n",
    "\n",
    "    if not (1 <= mana <= 1000 and 1 <= hp <= 1000):\n",
    "        print(\"mana와 hp는 1~1000 사이여야 합니다.\")\n",
    "        continue\n",
    "\n",
    "    damage = (mana // 10) * 20  # 공격 가능 횟수 × 대미지\n",
    "\n",
    "    if damage >= hp:\n",
    "        print(f\"{my_nic} kill {enemy_nic}\")\n",
    "    else:\n",
    "        print(f\"{enemy_nic} kill {my_nic}\")\n",
    "    break"
   ]
  },
  {
   "cell_type": "code",
   "execution_count": 1,
   "id": "dad4c12c",
   "metadata": {},
   "outputs": [
    {
     "name": "stdout",
     "output_type": "stream",
     "text": [
      "역삼역 도어읽 로꾸거 역삼역 도어읽 로으앞 .다니입역삼역 ,역삼역 은역번이 \n"
     ]
    }
   ],
   "source": [
    "#떠올리기 업그레이드 미션1 -> 거꾸로 적어 내기 \n",
    "\n",
    " \n",
    "\n",
    "string = \" 이번역은 역삼역, 역삼역입니다. 앞으로 읽어도 역삼역 거꾸로 읽어도 역삼역\" \n",
    "\n",
    " \n",
    "\n",
    "# ToDo: YOUR_CODE_HERE \n",
    "\n",
    " \n",
    "\n",
    "#-> 역삼역 도어읽 로꾸거 역삼역 도어읽 로으앞 .다니입역삼역 ,역삼역 은역번이 \n",
    "\n",
    "print(string[::-1])\n",
    "\n"
   ]
  },
  {
   "cell_type": "code",
   "execution_count": 13,
   "id": "aa95557c",
   "metadata": {},
   "outputs": [
    {
     "name": "stdout",
     "output_type": "stream",
     "text": [
      "과일 가게에 오신 것을 환영합니다!\n",
      "오늘 판매하는 과일:['사과', '바나나', '오렌지', '포도', '수박']\n",
      "\n",
      "현재 재고: [3, 3, 3, 3, 3]\n",
      "\n",
      "현재 재고: [3, 3, 3, 3, 3]\n",
      "\n",
      "현재 재고: [3, 3, 3, 3, 3]\n",
      "\n",
      "현재 재고: [3, 3, 3, 3, 3]\n",
      "\n",
      "현재 재고: [3, 3, 3, 3, 3]\n",
      "\n",
      "현재 재고: [3, 3, 3, 3, 3]\n",
      "\n",
      "현재 재고: [3, 3, 3, 3, 3]\n",
      "\n",
      "현재 재고: [3, 3, 3, 3, 3]\n",
      "\n",
      "현재 재고: [3, 3, 3, 3, 3]\n",
      "\n",
      "현재 재고: [3, 3, 3, 3, 3]\n",
      "\n",
      "현재 재고: [3, 3, 3, 3, 3]\n",
      "\n",
      "현재 재고: [3, 3, 3, 3, 3]\n",
      "\n",
      "현재 재고: [3, 3, 3, 3, 3]\n",
      "\n",
      "현재 재고: [3, 3, 3, 3, 3]\n",
      "\n",
      "현재 재고: [3, 3, 3, 3, 3]\n"
     ]
    },
    {
     "ename": "KeyboardInterrupt",
     "evalue": "Interrupted by user",
     "output_type": "error",
     "traceback": [
      "\u001b[31m---------------------------------------------------------------------------\u001b[39m",
      "\u001b[31mKeyboardInterrupt\u001b[39m                         Traceback (most recent call last)",
      "\u001b[36mCell\u001b[39m\u001b[36m \u001b[39m\u001b[32mIn[13]\u001b[39m\u001b[32m, line 18\u001b[39m\n\u001b[32m     16\u001b[39m \u001b[38;5;28;01mwhile\u001b[39;00m \u001b[38;5;28;01mTrue\u001b[39;00m:\n\u001b[32m     17\u001b[39m       \u001b[38;5;28mprint\u001b[39m(\u001b[33mf\u001b[39m\u001b[33m\"\u001b[39m\u001b[38;5;130;01m\\n\u001b[39;00m\u001b[33m현재 재고: \u001b[39m\u001b[38;5;132;01m{\u001b[39;00mc\u001b[38;5;132;01m}\u001b[39;00m\u001b[33m\"\u001b[39m)\n\u001b[32m---> \u001b[39m\u001b[32m18\u001b[39m       buying = \u001b[38;5;28;43minput\u001b[39;49m\u001b[43m(\u001b[49m\u001b[33;43m\"\u001b[39;49m\u001b[33;43m어떤 과일을 구매하시겠습니까? (종료하시려면 \u001b[39;49m\u001b[33;43m'\u001b[39;49m\u001b[33;43m그만\u001b[39;49m\u001b[33;43m'\u001b[39;49m\u001b[33;43m을 입력하세요.): \u001b[39;49m\u001b[33;43m\"\u001b[39;49m\u001b[43m)\u001b[49m\n\u001b[32m     19\u001b[39m       \u001b[38;5;28;01mfor\u001b[39;00m i \u001b[38;5;129;01min\u001b[39;00m \u001b[38;5;28mrange\u001b[39m(\u001b[32m5\u001b[39m):\n\u001b[32m     20\u001b[39m             \u001b[38;5;28;01mif\u001b[39;00m f[i] == buying \u001b[38;5;129;01mand\u001b[39;00m c[i] > \u001b[32m0\u001b[39m:\n",
      "\u001b[36mFile \u001b[39m\u001b[32m~\\AppData\\Roaming\\Python\\Python311\\site-packages\\ipykernel\\kernelbase.py:1275\u001b[39m, in \u001b[36mKernel.raw_input\u001b[39m\u001b[34m(self, prompt)\u001b[39m\n\u001b[32m   1273\u001b[39m     msg = \u001b[33m\"\u001b[39m\u001b[33mraw_input was called, but this frontend does not support input requests.\u001b[39m\u001b[33m\"\u001b[39m\n\u001b[32m   1274\u001b[39m     \u001b[38;5;28;01mraise\u001b[39;00m StdinNotImplementedError(msg)\n\u001b[32m-> \u001b[39m\u001b[32m1275\u001b[39m \u001b[38;5;28;01mreturn\u001b[39;00m \u001b[38;5;28;43mself\u001b[39;49m\u001b[43m.\u001b[49m\u001b[43m_input_request\u001b[49m\u001b[43m(\u001b[49m\n\u001b[32m   1276\u001b[39m \u001b[43m    \u001b[49m\u001b[38;5;28;43mstr\u001b[39;49m\u001b[43m(\u001b[49m\u001b[43mprompt\u001b[49m\u001b[43m)\u001b[49m\u001b[43m,\u001b[49m\n\u001b[32m   1277\u001b[39m \u001b[43m    \u001b[49m\u001b[38;5;28;43mself\u001b[39;49m\u001b[43m.\u001b[49m\u001b[43m_parent_ident\u001b[49m\u001b[43m[\u001b[49m\u001b[33;43m\"\u001b[39;49m\u001b[33;43mshell\u001b[39;49m\u001b[33;43m\"\u001b[39;49m\u001b[43m]\u001b[49m\u001b[43m,\u001b[49m\n\u001b[32m   1278\u001b[39m \u001b[43m    \u001b[49m\u001b[38;5;28;43mself\u001b[39;49m\u001b[43m.\u001b[49m\u001b[43mget_parent\u001b[49m\u001b[43m(\u001b[49m\u001b[33;43m\"\u001b[39;49m\u001b[33;43mshell\u001b[39;49m\u001b[33;43m\"\u001b[39;49m\u001b[43m)\u001b[49m\u001b[43m,\u001b[49m\n\u001b[32m   1279\u001b[39m \u001b[43m    \u001b[49m\u001b[43mpassword\u001b[49m\u001b[43m=\u001b[49m\u001b[38;5;28;43;01mFalse\u001b[39;49;00m\u001b[43m,\u001b[49m\n\u001b[32m   1280\u001b[39m \u001b[43m\u001b[49m\u001b[43m)\u001b[49m\n",
      "\u001b[36mFile \u001b[39m\u001b[32m~\\AppData\\Roaming\\Python\\Python311\\site-packages\\ipykernel\\kernelbase.py:1320\u001b[39m, in \u001b[36mKernel._input_request\u001b[39m\u001b[34m(self, prompt, ident, parent, password)\u001b[39m\n\u001b[32m   1317\u001b[39m \u001b[38;5;28;01mexcept\u001b[39;00m \u001b[38;5;167;01mKeyboardInterrupt\u001b[39;00m:\n\u001b[32m   1318\u001b[39m     \u001b[38;5;66;03m# re-raise KeyboardInterrupt, to truncate traceback\u001b[39;00m\n\u001b[32m   1319\u001b[39m     msg = \u001b[33m\"\u001b[39m\u001b[33mInterrupted by user\u001b[39m\u001b[33m\"\u001b[39m\n\u001b[32m-> \u001b[39m\u001b[32m1320\u001b[39m     \u001b[38;5;28;01mraise\u001b[39;00m \u001b[38;5;167;01mKeyboardInterrupt\u001b[39;00m(msg) \u001b[38;5;28;01mfrom\u001b[39;00m\u001b[38;5;250m \u001b[39m\u001b[38;5;28;01mNone\u001b[39;00m\n\u001b[32m   1321\u001b[39m \u001b[38;5;28;01mexcept\u001b[39;00m \u001b[38;5;167;01mException\u001b[39;00m:\n\u001b[32m   1322\u001b[39m     \u001b[38;5;28mself\u001b[39m.log.warning(\u001b[33m\"\u001b[39m\u001b[33mInvalid Message:\u001b[39m\u001b[33m\"\u001b[39m, exc_info=\u001b[38;5;28;01mTrue\u001b[39;00m)\n",
      "\u001b[31mKeyboardInterrupt\u001b[39m: Interrupted by user"
     ]
    }
   ],
   "source": [
    "# 12번 \n",
    "\n",
    " \n",
    "#과일가게를 운영해 주세요 \n",
    "\n",
    " \n",
    "\n",
    "f = ['사과', '바나나', '오렌지', '포도', '수박'] \n",
    "c = [3, 3, 3, 3, 3]\n",
    "\n",
    "c_tot = 15\n",
    "\n",
    "print(\"과일 가게에 오신 것을 환영합니다!\\n\"\n",
    "      f\"오늘 판매하는 과일:{f}\")\n",
    "\n",
    "while True:\n",
    "      print(f\"\\n현재 재고: {c}\")\n",
    "      buying = input(\"어떤 과일을 구매하시겠습니까? (종료하시려면 '그만'을 입력하세요.): \")\n",
    "      for i in range(5):\n",
    "            if f[i] == buying and c[i] > 0:\n",
    "                  c[i] -= 1\n",
    "                  c_tot -= 1\n",
    "                  print(f\"{f[i]}을(를) 구매하셨습니다! 남은 {f[i]}의 갯수: {c[i]} \")\n",
    "      \n",
    "      if c_tot == 0:\n",
    "            print(\"\\n모든 과일이 다 팔렸습니다. 가게를 종료합니다.\")\n",
    "            break"
   ]
  },
  {
   "cell_type": "code",
   "execution_count": 4,
   "id": "e67d3aff",
   "metadata": {},
   "outputs": [
    {
     "name": "stdout",
     "output_type": "stream",
     "text": [
      "1 2 짝 4 5 짝 7 8 짝 10 11 12 짝 14 15 짝 17 18 짝 20 "
     ]
    }
   ],
   "source": [
    "# 3,6,9로 끝나는 숫자에 '짝'을 출력 하는 369게임을 만드세요\n",
    "\n",
    "num_max = int(input(\"어느 숫자까지 입력할까요?\"))\n",
    "\n",
    "for i in range(1, num_max + 1):\n",
    "    if i % 10 == 3 or i % 10 == 6 or i % 10 == 9:\n",
    "        print(\"짝\", end = \" \")\n",
    "    else:\n",
    "        print(i, end = \" \")"
   ]
  },
  {
   "cell_type": "code",
   "execution_count": 15,
   "id": "576dd1d9",
   "metadata": {},
   "outputs": [
    {
     "data": {
      "text/plain": [
       "24"
      ]
     },
     "execution_count": 15,
     "metadata": {},
     "output_type": "execute_result"
    }
   ],
   "source": [
    "def num_min(list):\n",
    "    n = list[0]\n",
    "    for i in range(len(list)):\n",
    "        if n >= list[i]:\n",
    "            n = list[i]\n",
    "    return n\n",
    "\n",
    "testArray = [52, 273, 32, 103, 275, 24, 57] \n",
    "num_min(testArray)\n"
   ]
  },
  {
   "cell_type": "code",
   "execution_count": null,
   "id": "15cabd20",
   "metadata": {},
   "outputs": [
    {
     "data": {
      "text/plain": [
       "[2, 10, 12]"
      ]
     },
     "execution_count": 18,
     "metadata": {},
     "output_type": "execute_result"
    }
   ],
   "source": [
    "def print_even(my_list):\n",
    "    return [x for x in my_list if x % 2 == 0]\n",
    "\n",
    "\n",
    "\n",
    "print_even([1, 3, 2, 10, 12, 11, 15] )"
   ]
  },
  {
   "cell_type": "code",
   "execution_count": 23,
   "id": "3fa047ee",
   "metadata": {},
   "outputs": [
    {
     "name": "stdout",
     "output_type": "stream",
     "text": [
      "비겼습니다! (컴퓨터: 가위)\n",
      "비겼습니다! (컴퓨터: 바위)\n",
      "졌습니다... (컴퓨터: 가위)\n",
      "이겼습니다! (컴퓨터: 보)\n"
     ]
    }
   ],
   "source": [
    "import random\n",
    "\n",
    "sel = ['가위', '바위', '보']\n",
    "\n",
    "def checkWin(a, b):\n",
    "    if a == b:\n",
    "        print(f\"비겼습니다! (컴퓨터: {b})\")\n",
    "        return False\n",
    "    elif (a == '가위' and b == '보') or \\\n",
    "         (a == '바위' and b == '가위') or \\\n",
    "         (a == '보' and b == '바위'):\n",
    "        print(f\"이겼습니다! (컴퓨터: {b})\")\n",
    "        return True\n",
    "    else:\n",
    "        print(f\"졌습니다... (컴퓨터: {b})\")\n",
    "        return False\n",
    "\n",
    "\n",
    "def continueConfirm():\n",
    "    answer = input(\"계속하시겠습니까? (y/n): \").strip().lower()\n",
    "    return answer == 'y'\n",
    "\n",
    "while True:\n",
    "    user = input(\"가위, 바위, 보 : \")\n",
    "    com = sel[random.randint(0,2)]\n",
    "    if checkWin(user, com):\n",
    "        if continueConfirm():\n",
    "            continue\n",
    "        else:\n",
    "            break"
   ]
  },
  {
   "cell_type": "code",
   "execution_count": null,
   "id": "9856b6b6",
   "metadata": {},
   "outputs": [
    {
     "data": {
      "text/plain": [
       "'지민이는 햄버거 가게에서 아르바이트를 합니다.  \\n\\n아래서부터, 빵 – 야채 – 고기 - 빵으로 쌓인 햄버거만 포장할수 있으면 재료는 순서대로 하나씩 들어와 쌓입니다.  \\n\\n재료의 순서가 [야채, 빵, 빵, 야채, 고기, 빵, 야채, 고기, 빵]일 때, 지민이는 여섯 번째 재료가 쌓였을 때, 세 번째 재료부터 여섯 번째 재료를 이용하여 햄버거를 포장하고, 아홉 번째 재료가 쌓였을 때, 두 번째 재료와 일곱 번째 재료부터 아홉 번째 재료를 이용하여 햄버거를 포장합니다. 즉, 2개의 햄버거를 포장하게 됩니다. \\n\\n\\n\\ningredient의 원소는 1, 2, 3 중 하나의 값이며, 순서대로 빵, 야채, 고기를 의미합니다. \\n\\n\\n\\n입출력 예 \\n\\ningredient                      result \\n\\n[2, 1, 1, 2, 3, 1, 2, 3, 1]     2 \\n\\n[1, 3, 2, 1, 2, 1, 3, 1, 2]     0 '"
      ]
     },
     "execution_count": 24,
     "metadata": {},
     "output_type": "execute_result"
    }
   ],
   "source": [
    "'''지민이는 햄버거 가게에서 아르바이트를 합니다.  \n",
    "\n",
    "아래서부터, 빵 – 야채 – 고기 - 빵으로 쌓인 햄버거만 포장할수 있으면 재료는 순서대로 하나씩 들어와 쌓입니다.  \n",
    "\n",
    "재료의 순서가 [야채, 빵, 빵, 야채, 고기, 빵, 야채, 고기, 빵]일 때, 지민이는 여섯 번째 재료가 쌓였을 때,\n",
    "세 번째 재료부터 여섯 번째 재료를 이용하여 햄버거를 포장하고, 아홉 번째 재료가 쌓였을 때,\n",
    "두 번째 재료와 일곱 번째 재료부터 아홉 번째 재료를 이용하여 햄버거를 포장합니다. 즉, 2개의 햄버거를 포장하게 됩니다. \n",
    "\n",
    "ingredient의 원소는 1, 2, 3 중 하나의 값이며, 순서대로 빵, 야채, 고기를 의미합니다. \n",
    "\n",
    "입출력 예 \n",
    "\n",
    "ingredient                      result \n",
    "\n",
    "[2, 1, 1, 2, 3, 1, 2, 3, 1]     2 \n",
    "\n",
    "[1, 3, 2, 1, 2, 1, 3, 1, 2]     0 '''\n",
    "\n",
    "\n",
    "def count_hamburgers(ingredient):\n",
    "    stack = []\n",
    "    count = 0\n",
    "    for item in ingredient:\n",
    "        stack.append(item)\n",
    "        if stack[-4:] == [1, 2, 3, 1]:\n",
    "            count += 1\n",
    "            del stack[-4:]\n",
    "    return count"
   ]
  },
  {
   "cell_type": "code",
   "execution_count": null,
   "id": "02459e02",
   "metadata": {},
   "outputs": [
    {
     "data": {
      "text/plain": [
       "[5, 4, 3, 2, 1]"
      ]
     },
     "execution_count": 33,
     "metadata": {},
     "output_type": "execute_result"
    }
   ],
   "source": [
    "#자연수 n을 뒤집어 각 자리 숫자를 원소로 가지는 리스트로 만들어주세요.  \n",
    "\n",
    "#예를들어 n이 12345이면 [5,4,3,2,1]을 출력해주세요 \n",
    "\n",
    "n=12345\n",
    "list = [int(i) for i in str(n)[::-1]]"
   ]
  },
  {
   "cell_type": "code",
   "execution_count": 48,
   "id": "7a3ec52b",
   "metadata": {},
   "outputs": [
    {
     "name": "stdout",
     "output_type": "stream",
     "text": [
      "Alice 평균: 89.0\n",
      "Bob 평균: 82.0\n",
      "Charlie 평균: 92.0\n",
      "\n",
      "전체 평균: 87.66666666666667\n",
      "90점 이상인 학생 명단: ['Charlie']\n"
     ]
    }
   ],
   "source": [
    "student = {'Alice' : [90, 85 ,92], 'Bob' : [78, 80, 88], 'Charlie' : [95, 92, 89]}\n",
    "\n",
    "avg_tot = 0\n",
    "high_achievers = []\n",
    "\n",
    "for name, scores in student.items():\n",
    "    avg = sum(scores)/len(scores)\n",
    "    print(f\"{name} 평균: {avg}\")\n",
    "    avg_tot += avg\n",
    "    if avg >= 90:\n",
    "        high_achievers.append(name)\n",
    "\n",
    "\n",
    "\n",
    "print(f\"\\n전체 평균: {avg_tot/len(student)}\"\n",
    "      f\"\\n90점 이상인 학생 명단: {high_achievers}\")"
   ]
  },
  {
   "cell_type": "code",
   "execution_count": 49,
   "id": "402d91b6",
   "metadata": {},
   "outputs": [
    {
     "name": "stdout",
     "output_type": "stream",
     "text": [
      "Alice 평균: 89.0\n",
      "Bob 평균: 82.0\n",
      "Charlie 평균: 92.0\n",
      "\n",
      "전체 평균: 87.66666666666667\n",
      "90점 이상인 학생 명단: ['Charlie']\n"
     ]
    }
   ],
   "source": [
    "student = {'Alice' : [90, 85 ,92], 'Bob' : [78, 80, 88], 'Charlie' : [95, 92, 89]}\n",
    "\n",
    "avg_tot = 0\n",
    "high_achievers = []\n",
    "\n",
    "for name, scores in student.items():\n",
    "    avg = sum(scores)/len(scores)\n",
    "    print(f\"{name} 평균: {avg}\")\n",
    "    avg_tot += avg\n",
    "    # 성적 중 하나라도 90점 이상이면 True\n",
    "    if any(score >= 90 for score in scores):\n",
    "        # 추가 확인: 평균도 90점 이상인지\n",
    "        avg = sum(scores) / len(scores)\n",
    "        if avg >= 90:\n",
    "            high_achievers.append(name)\n",
    "\n",
    "\n",
    "\n",
    "print(f\"\\n전체 평균: {avg_tot/len(student)}\"\n",
    "      f\"\\n90점 이상인 학생 명단: {high_achievers}\")"
   ]
  },
  {
   "cell_type": "code",
   "execution_count": 65,
   "id": "432a10d1",
   "metadata": {},
   "outputs": [
    {
     "name": "stdout",
     "output_type": "stream",
     "text": [
      "*********************\n",
      "1. 영어\n",
      "*********************\n",
      "*********************\n",
      "1. 영어\n",
      "2. 강아지\n",
      "*********************\n",
      "*********************\n",
      "1. 영어\n",
      "2. 강아지\n",
      "*********************\n",
      "메뉴 선택 오류입니다. 다시 선택하세요.\n",
      "프로그램을 종료합니다.\n"
     ]
    }
   ],
   "source": [
    "def print_task(a):\n",
    "    print(\"*********************\")\n",
    "    for i in range(len(a)):\n",
    "        print(f\"{i+1}. {a[i]}\")\n",
    "    print(\"*********************\")\n",
    "\n",
    "task_list = []\n",
    "\n",
    "while True:\n",
    "    select_menu = input(\"메뉴 선택(1:추가, 2:삭제, 0:종료)?\")\n",
    "    if select_menu == \"1\":\n",
    "        task = input(\"할일 내용 입력 >>\")\n",
    "        task_list.append(task)\n",
    "        print_task(task_list)\n",
    "    elif select_menu == \"2\":\n",
    "        task = input(\"완료한 내용 입력 >>\")\n",
    "        if task in task_list:\n",
    "            task_list.remove(task)\n",
    "        else:\n",
    "            print(\"리스트에 없는 일정입니다.\")\n",
    "        print_task(task_list)\n",
    "    elif select_menu == \"0\":\n",
    "        print(\"프로그램을 종료합니다.\")\n",
    "        break\n",
    "    else:\n",
    "        print(\"메뉴 선택 오류입니다. 다시 선택하세요.\")\n"
   ]
  },
  {
   "cell_type": "code",
   "execution_count": 77,
   "id": "867dc549",
   "metadata": {},
   "outputs": [
    {
     "name": "stdout",
     "output_type": "stream",
     "text": [
      "프로그램을 종료합니다.\n"
     ]
    }
   ],
   "source": [
    "friends_dict = {}\n",
    "\n",
    "while True:\n",
    "    select_menu = input(\"메뉴 선택(1:추가, 2:검색, 0:종료)?\")\n",
    "    \n",
    "    if select_menu == \"1\":\n",
    "        name = input(\"친구 이름 입력 >>\")\n",
    "        phone = input(\"전화번호 입력 >>\")\n",
    "        friends_dict[name]=phone\n",
    "\n",
    "    elif select_menu == \"2\":\n",
    "        print(f\"검색가능한 친구들: {list(friends_dict.keys())}\")\n",
    "        name = input(\"친구이름 입력:\")\n",
    "        if name in friends_dict:\n",
    "            print(f\"{name}의 연락처 : {phone}\")\n",
    "\n",
    "    elif select_menu == \"0\":\n",
    "        print(\"프로그램을 종료합니다.\")\n",
    "        break\n",
    "\n",
    "    else:\n",
    "        print(\"메뉴 선택 오류입니다. 다시 선택하세요.\")\n",
    "\n"
   ]
  },
  {
   "cell_type": "code",
   "execution_count": 79,
   "id": "e5d5c480",
   "metadata": {},
   "outputs": [
    {
     "data": {
      "text/plain": [
       "[2, 10, 12]"
      ]
     },
     "execution_count": 79,
     "metadata": {},
     "output_type": "execute_result"
    }
   ],
   "source": [
    "def print_even(my_list):\n",
    "    a = []\n",
    "    for i in my_list:\n",
    "        if i % 2 == 0:\n",
    "            a.append(i)\n",
    "    return a\n",
    "\n",
    "\n",
    "\n",
    "print_even([1, 3, 2, 10, 12, 11, 15]) "
   ]
  },
  {
   "cell_type": "code",
   "execution_count": 83,
   "id": "9e8bff63",
   "metadata": {},
   "outputs": [
    {
     "name": "stdout",
     "output_type": "stream",
     "text": [
      "35\n"
     ]
    }
   ],
   "source": [
    "a, b, c = map(int, input().split())\n",
    "s = a+b+c\n",
    "print(s)"
   ]
  },
  {
   "cell_type": "code",
   "execution_count": 90,
   "id": "8407d12f",
   "metadata": {},
   "outputs": [
    {
     "name": "stdout",
     "output_type": "stream",
     "text": [
      "2022년은 윤년일까? False\n",
      "2012년은 윤년일까? True\n",
      "2000년은 윤년일까? True\n",
      "1900년은 윤년일까? False\n"
     ]
    }
   ],
   "source": [
    "def isLeapYear(year):\n",
    "    if year % 400 == 0:\n",
    "        return True\n",
    "    elif year % 100 == 0:\n",
    "        return False\n",
    "    elif year % 4 == 0:\n",
    "        return True\n",
    "    else:\n",
    "        return False\n",
    "\n",
    "print(f'2022년은 윤년일까? {isLeapYear(2022)}')\n",
    "print(f'2012년은 윤년일까? {isLeapYear(2012)}')\n",
    "print(f'2000년은 윤년일까? {isLeapYear(2000)}')\n",
    "print(f'1900년은 윤년일까? {isLeapYear(1900)}')\n"
   ]
  },
  {
   "cell_type": "code",
   "execution_count": 91,
   "id": "46e1b827",
   "metadata": {},
   "outputs": [
    {
     "name": "stdout",
     "output_type": "stream",
     "text": [
      "(13, 7, 30, 3)\n"
     ]
    }
   ],
   "source": [
    "def func(a,b):\n",
    "    return a+b, a-b, a*b, a//b\n",
    "\n",
    "\n",
    "print(func(10,3))"
   ]
  },
  {
   "cell_type": "markdown",
   "id": "d093381d",
   "metadata": {},
   "source": [
    "애너그램 \n",
    "\n",
    " \n",
    "\n",
    "애너그램(Anagram) 이란 주어진 단어를 이루는 문자의 위치를 뒤바꾸어 새로운 단어를 만드는 것을 말합니다. 애너그램을 이용해 암호화, 복호화를 하려고합니다. \n",
    "\n",
    " \n",
    "\n",
    "암, 복호화할 단어와 애너그램 테이블이 주어집니다. 애너그램 테이블은 단어를 암호화한 후의 문자들의 위치가 저장되어 있습니다. \n",
    "\n",
    " \n",
    "\n",
    "예를들어 문자열 \"Hello\"를 암호화  할 때, 애너그램 테이블이 [4, 2, 0, 1, 3]이면, 문자열의 0번째 값인 'H'는 애너그램 테이블의 0번째 값에 해당하는 4에 의해 4번째로 이동하고 같은 방식으로 'e'는 2번째로, 'l'은 0번째로, 'l'은 1번째로, 'o'는 3번째로 이동하여 \"lleoH\"가 됩니다. \n",
    "\n",
    " \n",
    "\n",
    "위의 방법으로 만들어진 애너그램 암호문을 복호화하려면 애너그램 테이블의 인덱스와 값의 반대 방향으로 문자열의 순서를 바꿔주면 됩니다. \n",
    "\n",
    " \n",
    "\n",
    "예를들어 암호화된 문자열이 \"lleoH\"이고 애너그램 테이블이 [4, 2, 0, 1, 3]이면, 애너그램 테이블의 0번째 값인 4에 해당하는 문자인 'H'는 해당 인덱스인 0번째로 이동하고 같은 방식으로 'e'는 1번째로, 'l'은 2번째로, 'l'은 3번째로, 'o'는 4번째로 이동하여 \"Hello\"가 됩니다. \n",
    "\n",
    " \n",
    "\n",
    "암호화할 문자열 text와 애너그램 테이블 anagram, 암호화를 할지 복호화를 할지가 저장된 변수 sw가 주어질 때 암호화 또는 복호화된 문자열을 return하도록 solution함수를 작성해주세요 \n",
    "\n",
    " \n",
    "\n",
    "입출력 예 \n",
    "\n",
    "text    anagram         sw      result \n",
    "\n",
    "\"Hello\" [4, 2, 0, 1, 3] True    \"lleoH\" \n",
    "\n",
    "\"lleoH\" [4, 2, 0, 1, 3] False   \"Hello\" \n",
    "\n",
    " "
   ]
  },
  {
   "cell_type": "code",
   "execution_count": null,
   "id": "f8994440",
   "metadata": {},
   "outputs": [],
   "source": []
  }
 ],
 "metadata": {
  "kernelspec": {
   "display_name": "Python 3",
   "language": "python",
   "name": "python3"
  },
  "language_info": {
   "codemirror_mode": {
    "name": "ipython",
    "version": 3
   },
   "file_extension": ".py",
   "mimetype": "text/x-python",
   "name": "python",
   "nbconvert_exporter": "python",
   "pygments_lexer": "ipython3",
   "version": "3.11.8"
  }
 },
 "nbformat": 4,
 "nbformat_minor": 5
}
