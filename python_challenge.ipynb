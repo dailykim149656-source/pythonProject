{
 "cells": [
  {
   "cell_type": "markdown",
   "id": "9da00b97",
   "metadata": {},
   "source": [
    "## 업그레이드미션 도전"
   ]
  },
  {
   "cell_type": "markdown",
   "id": "6806d498",
   "metadata": {},
   "source": []
  },
  {
   "cell_type": "code",
   "execution_count": 3,
   "id": "6470d451",
   "metadata": {},
   "outputs": [
    {
     "name": "stdout",
     "output_type": "stream",
     "text": [
      "12345600\n"
     ]
    }
   ],
   "source": [
    "#업그레이드미션 1 \n",
    "\n",
    "pay = 12345678  # 12345678원 \n",
    "\n",
    "pay = (pay // 100)*100\n",
    "print(pay)\n",
    "\n",
    "#TODO: 100 미만 절사 처리해주세요 "
   ]
  },
  {
   "cell_type": "code",
   "execution_count": 13,
   "id": "e658eb34",
   "metadata": {},
   "outputs": [
    {
     "name": "stdout",
     "output_type": "stream",
     "text": [
      "1\n"
     ]
    }
   ],
   "source": [
    "# 업그레이드미션 2  \n",
    "\n",
    "# Todo: 변수 a에 저장된 값의 b자리 값을 계산하여\t 변수 c에 저장하는 코드를 설계하라  \n",
    "\n",
    "#예를 들어 a에 1234가 저장되어 있고 b가 1일 경우 첫 번째 자리값인 4가 c에 저장된다.  \n",
    "\n",
    "#a가 1234일때 b가 4일 경우는 4번째 자리값인 1이 c에 저장되어야 한다.  \n",
    "\n",
    "a = 1234 \n",
    "\n",
    "b = 1\n",
    "\n",
    "c = (a // 10**(4-b)) % 10\n",
    "\n",
    "print(c)"
   ]
  },
  {
   "cell_type": "code",
   "execution_count": 16,
   "id": "e44ee9b7",
   "metadata": {},
   "outputs": [
    {
     "name": "stdout",
     "output_type": "stream",
     "text": [
      "6.0\n"
     ]
    }
   ],
   "source": [
    "# 업그레이드미션 3 \n",
    "\n",
    "# 삼각형의 넓이 구하기 \n",
    "\n",
    "# 사용자에게 삼각형의 밑변과 높이를 입력 받아  \n",
    "\n",
    "# 삼각형의 넓이를 출력하는 코드를 작성하세요.\n",
    "\n",
    "length = int(input(\"밑변을 입력하세요: \")) \n",
    "height = int(input(\"높이를 입력하세요: \"))\n",
    "\n",
    "area = length * height / 2\n",
    "\n",
    "print(area)"
   ]
  },
  {
   "cell_type": "markdown",
   "id": "9c3f6884",
   "metadata": {},
   "source": []
  },
  {
   "cell_type": "code",
   "execution_count": 26,
   "id": "0ebb3f12",
   "metadata": {},
   "outputs": [
    {
     "name": "stdout",
     "output_type": "stream",
     "text": [
      "10\n"
     ]
    }
   ],
   "source": [
    "# 업그레이드미션 4 \n",
    "\n",
    " \n",
    "\n",
    "#다음 그림과 같이 바둑돌의 개수를 늘려가며 삼각형 모양을 만들려고 합니다. n이 입력으로 주어질 때, n단계에서 사용된 바둑돌의 개수를 출력하는 코드를 작성하세요. \n",
    "\n",
    "n = int(input(\"숫자 n을 입력하세요: \"))\n",
    "tot = 0\n",
    "\n",
    "for i in range(1, n + 1):\n",
    "    tot += i\n",
    "\n",
    "print(tot)"
   ]
  },
  {
   "cell_type": "code",
   "execution_count": 20,
   "id": "c722b232",
   "metadata": {},
   "outputs": [
    {
     "name": "stdout",
     "output_type": "stream",
     "text": [
      "12\n",
      "3333\n"
     ]
    }
   ],
   "source": [
    "#정수 num1, num2가 입력으로 주어질 때, 첫 번째 줄에는 num1과 num2를 곱한 수를, 두 번째 줄에는 num1을 num2번 반복하여 출력하도록 코드를 작성해주세요 \n",
    "\n",
    "num1 = int(input(\"num1 입력해주세요: \")) \n",
    "num2 = int(input(\"num2 입력해주세요: \")) \n",
    "\n",
    "print(num1 * num2)\n",
    "print(str(num1) * num2)\n",
    "#입출력 예 #1 \n",
    "\n",
    "#num1이 4, num2가 3이므로 첫째 줄에 4와 3을 곱한 12를 출력하고, 둘째 줄에 4를 3번 반복한 \"444\"를 출력합니다. \n"
   ]
  },
  {
   "cell_type": "code",
   "execution_count": 21,
   "id": "fc52d20a",
   "metadata": {},
   "outputs": [
    {
     "name": "stdout",
     "output_type": "stream",
     "text": [
      "홀수\n"
     ]
    }
   ],
   "source": [
    "#number가 짝수라면 \"짝수\"를, number가 홀수라면 \"홀수\"를 출력하도록 조건문을 작성해주세요. \n",
    "\n",
    "number = int(input(\"number를 입력해주세요: \"))\n",
    "if number % 2 == 0:\n",
    "    print(\"짝수\")\n",
    "else:\n",
    "    print(\"홀수\")"
   ]
  },
  {
   "cell_type": "code",
   "execution_count": null,
   "id": "1cd29855",
   "metadata": {},
   "outputs": [],
   "source": [
    "# 입력된 학생의 점수 score에 따라 성적을 A, B, C, D, F로 구분하여 출력하는 코드를 작성해주세요 \n",
    "\n",
    "#A : 90 ≤ score \n",
    "\n",
    "#B : 80 ≤ score < 90 \n",
    "\n",
    "#C : 70 ≤ score < 80 \n",
    "\n",
    "#D : 60 ≤ score < 70 \n",
    "\n",
    "#F : score < 60 \n",
    "\n",
    "grade = int(input(\"점수를 입력하세요: \"))\n",
    "\n",
    "if grade >= 90:         # 점수가 90점 이상이면 A\n",
    "    print(\"A\")\n",
    "elif 80 <= grade:       # 점수가 80점 이상이면 B\n",
    "    print(\"B\")\n",
    "elif 70 <= grade:       # 점수가 70점 이상이면 C\n",
    "    print(\"C\")\n",
    "elif 60 <= grade:       # 점수가 60점 이상이면 D\n",
    "    print(\"D\")\n",
    "else:                   # 점수가 60점 미만이면 F\n",
    "    print(\"F\")"
   ]
  },
  {
   "cell_type": "code",
   "execution_count": null,
   "id": "4dbb64fe",
   "metadata": {},
   "outputs": [
    {
     "name": "stdout",
     "output_type": "stream",
     "text": [
      "***\n",
      "\n",
      "***\n",
      "\n",
      "***\n",
      "\n",
      "***\n",
      "\n"
     ]
    }
   ],
   "source": [
    "'''*을 가로로 a개, 세로로 b개 사용하여 직사각형을 만들려고 합니다. 정수 a, b가 매개변수로 주어질 때, a x b 직사각형을 출력하도록 코드를 작성하세요 \n",
    "\n",
    " \n",
    "\n",
    "입력 #1 \n",
    "\n",
    "3, 4 \n",
    "\n",
    "출력 #1 \n",
    "\n",
    "*** \n",
    "\n",
    "*** \n",
    "\n",
    "*** \n",
    "\n",
    "*** '''\n",
    "\n",
    "a , b = map(int, input(\"숫자 a, b를 입력하세요: \").split(\",\"))\n",
    "\n",
    "for i in range(b):\n",
    "    print(\"*\" * a + \"\\n\")"
   ]
  },
  {
   "cell_type": "code",
   "execution_count": 4,
   "id": "70963094",
   "metadata": {},
   "outputs": [
    {
     "name": "stdout",
     "output_type": "stream",
     "text": [
      "2단\n",
      "2 * 1 = 2\n",
      "2 * 2 = 4\n",
      "2 * 3 = 6\n",
      "2 * 4 = 8\n",
      "2 * 5 = 10\n",
      "2 * 6 = 12\n",
      "2 * 7 = 14\n",
      "2 * 8 = 16\n",
      "2 * 9 = 18\n",
      "3단\n",
      "3 * 1 = 3\n",
      "3 * 2 = 6\n",
      "3 * 3 = 9\n",
      "3 * 4 = 12\n",
      "3 * 5 = 15\n",
      "3 * 6 = 18\n",
      "3 * 7 = 21\n",
      "3 * 8 = 24\n",
      "3 * 9 = 27\n",
      "4단\n",
      "4 * 1 = 4\n",
      "4 * 2 = 8\n",
      "4 * 3 = 12\n",
      "4 * 4 = 16\n",
      "4 * 5 = 20\n",
      "4 * 6 = 24\n",
      "4 * 7 = 28\n",
      "4 * 8 = 32\n",
      "4 * 9 = 36\n",
      "5단\n",
      "5 * 1 = 5\n",
      "5 * 2 = 10\n",
      "5 * 3 = 15\n",
      "5 * 4 = 20\n",
      "5 * 5 = 25\n",
      "5 * 6 = 30\n",
      "5 * 7 = 35\n",
      "5 * 8 = 40\n",
      "5 * 9 = 45\n",
      "6단\n",
      "6 * 1 = 6\n",
      "6 * 2 = 12\n",
      "6 * 3 = 18\n",
      "6 * 4 = 24\n",
      "6 * 5 = 30\n",
      "6 * 6 = 36\n",
      "6 * 7 = 42\n",
      "6 * 8 = 48\n",
      "6 * 9 = 54\n",
      "7단\n",
      "7 * 1 = 7\n",
      "7 * 2 = 14\n",
      "7 * 3 = 21\n",
      "7 * 4 = 28\n",
      "7 * 5 = 35\n",
      "7 * 6 = 42\n",
      "7 * 7 = 49\n",
      "7 * 8 = 56\n",
      "7 * 9 = 63\n",
      "8단\n",
      "8 * 1 = 8\n",
      "8 * 2 = 16\n",
      "8 * 3 = 24\n",
      "8 * 4 = 32\n",
      "8 * 5 = 40\n",
      "8 * 6 = 48\n",
      "8 * 7 = 56\n",
      "8 * 8 = 64\n",
      "8 * 9 = 72\n",
      "9단\n",
      "9 * 1 = 9\n",
      "9 * 2 = 18\n",
      "9 * 3 = 27\n",
      "9 * 4 = 36\n",
      "9 * 5 = 45\n",
      "9 * 6 = 54\n",
      "9 * 7 = 63\n",
      "9 * 8 = 72\n",
      "9 * 9 = 81\n"
     ]
    }
   ],
   "source": [
    "#구구단 전체(2단부터 9단까지)를 출력 \n",
    "\n",
    "for n in range(2, 9 + 1):\n",
    "    print(f\"{n}단\")\n",
    "    for i in range(1, 9 + 1):\n",
    "        print(f\"{n} * {i} = {n*i}\")"
   ]
  },
  {
   "cell_type": "code",
   "execution_count": null,
   "id": "885f6500",
   "metadata": {},
   "outputs": [
    {
     "name": "stdout",
     "output_type": "stream",
     "text": [
      "my_nic과 enemy_nic의 길이를 10자 내로 다시 입력하세요.\n",
      "my_nic과 enemy_nic의 길이를 10자 내로 다시 입력하세요.\n",
      "mana와 hp를 1~1000 범위 내의 값으로 다시 입력하세요.\n"
     ]
    }
   ],
   "source": [
    "'''지민이는 온라인 게임을 하던 도중 갑작스럽게 적을 만났습니다. 지민이의 캐릭터는 마나를 소모하며 공격하는 캐릭터이고 한 번 공격 시 마나 10을 소모하며 대미지는 20입니다. 지민이의 닉네임 my_nic과 적의 닉네임 enemy_nic이 문자열로 주어지고, 지민이의 마나량 mana, 적의 체력 hp가 정수로 주어질 때 지민이가 남은 마나로 적을 쓰러뜨릴 수 있다면 \"\"my_nic kill enemy_nic을 쓰러뜨릴 수 없다면 \"enemy_nic kill my_nic\"을 출력하도록 코드를 작성해보세요. \n",
    "\n",
    " \n",
    "\n",
    "제한사항 \n",
    "\n",
    "머쓱이의 캐릭터는 마나가 10보다 적으면 공격할 수 없습니다. \n",
    "\n",
    "1 ≤ my_nic의 길이, enemy_nic의 길이 ≤ 10 \n",
    "\n",
    "1 ≤ mana, hp ≤ 1,000 \n",
    "\n",
    " \n",
    "\n",
    "입출력 예 \n",
    "\n",
    "입력 #1 \n",
    "\n",
    "abc \n",
    "\n",
    "cba \n",
    "\n",
    "100 \n",
    "\n",
    "200 \n",
    "\n",
    " \n",
    "\n",
    "출력 #1 \n",
    "\n",
    "abc kill cba \n",
    "\n",
    " \n",
    "\n",
    "입력 #2 \n",
    "\n",
    "jimin \n",
    "\n",
    "enemy \n",
    "\n",
    "200 \n",
    "\n",
    "1000 \n",
    "\n",
    " \n",
    "\n",
    "출력 #2 \n",
    "\n",
    "enemy kill jimin \n",
    "\n",
    " \n",
    "\n",
    "입출력 예 설명 \n",
    "\n",
    "입출력 예 #1 \n",
    "\n",
    "마나 100으로 지민이가 입힐 수 있는 대미지는 총 200입니다. 적의 hp가 200이므로 적을 쓰러뜨릴 수 있습니다. 따라서 \"abc kill cba\"를 출력해야 합니다. \n",
    "\n",
    " \n",
    "\n",
    "입출력 예 #2 \n",
    "\n",
    "마나 200으로 지민이가 입힐 수 있는 대미지는 총 400입니다. 적의 hp가 1000이므로 적을 쓰러뜨릴 수 없습니다. 따라서 \"enemy kill jimin\"을 출력해야 합니다. '''\n",
    "\n",
    "\n",
    "\n",
    "\n",
    "\n",
    "while True:\n",
    "    my_nic = input(\"my_nic: \")\n",
    "    enemy_nic = input(\"enemy_nic: \")\n",
    "    mana = int(input(\"mana: \"))\n",
    "    hp =int(input(\"hp: \"))\n",
    "    \n",
    "    if 1<= len(my_nic) <=10 and 1<= len(enemy_nic) <=10 :\n",
    "        if 1<= mana <=1000 and 1<= hp <=1000 :\n",
    "            if mana >= 10:\n",
    "                while hp > 0:\n",
    "                    mana -= 10\n",
    "                    hp -= 20\n",
    "                if hp >= 0:\n",
    "                    print(f\"{my_nic} kill {enemy_nic}\")\n",
    "                    break\n",
    "                else:\n",
    "                    print(f\"{enemy_nic} kill {my_nic}\")\n",
    "                    break\n",
    "            else:\n",
    "                print(\"enemy_nic kill my_nic\")\n",
    "                break\n",
    "        else:\n",
    "            print(\"mana와 hp를 1~1000 범위 내의 값으로 다시 입력하세요.\")\n",
    "    else:\n",
    "        print(\"my_nic과 enemy_nic의 길이를 10자 내로 다시 입력하세요.\")"
   ]
  },
  {
   "cell_type": "code",
   "execution_count": 1,
   "id": "858661a3",
   "metadata": {},
   "outputs": [
    {
     "name": "stdout",
     "output_type": "stream",
     "text": [
      "jane kill alice\n"
     ]
    }
   ],
   "source": [
    "while True:\n",
    "    my_nic = input(\"my_nic: \")\n",
    "    enemy_nic = input(\"enemy_nic: \")\n",
    "    mana = int(input(\"mana: \"))\n",
    "    hp = int(input(\"hp: \"))\n",
    "\n",
    "    if not (1 <= len(my_nic) <= 10 and 1 <= len(enemy_nic) <= 10):\n",
    "        print(\"닉네임은 1~10자 사이여야 합니다.\")\n",
    "        continue\n",
    "\n",
    "    if not (1 <= mana <= 1000 and 1 <= hp <= 1000):\n",
    "        print(\"mana와 hp는 1~1000 사이여야 합니다.\")\n",
    "        continue\n",
    "\n",
    "    damage = (mana // 10) * 20  # 공격 가능 횟수 × 대미지\n",
    "\n",
    "    if damage >= hp:\n",
    "        print(f\"{my_nic} kill {enemy_nic}\")\n",
    "    else:\n",
    "        print(f\"{enemy_nic} kill {my_nic}\")\n",
    "    break"
   ]
  },
  {
   "cell_type": "code",
   "execution_count": null,
   "id": "dad4c12c",
   "metadata": {},
   "outputs": [],
   "source": [
    "'''떠올리기 업그레이드 미션1 -> 거꾸로 적어 내기 \n",
    "\n",
    " \n",
    "\n",
    "string = \" 이번역은 역삼역, 역삼역입니다. 앞으로 읽어도 역삼역 거꾸로 읽어도 역삼역\" \n",
    "\n",
    " \n",
    "\n",
    "# ToDo: YOUR_CODE_HERE \n",
    "\n",
    " \n",
    "\n",
    "-> 역삼역 도어읽 로꾸거 역삼역 도어읽 로으앞 .다니입역삼역 ,역삼역 은역번이 \n",
    "\n",
    "print(string[::-1]) '''\n",
    "\n"
   ]
  },
  {
   "cell_type": "code",
   "execution_count": null,
   "id": "aa95557c",
   "metadata": {},
   "outputs": [],
   "source": [
    "# 12번 \n",
    "\n",
    " \n",
    "#과일가게를 운영해 주세요 \n",
    "\n",
    " \n",
    "\n",
    "f = ['사과', '바나나', '오렌지', '포도', '수박'] \n",
    "c = [3, 3, 3, 3, 3]\n",
    "\n",
    "print(\"과일 가게에 오신 것을 환영합니다!\\n\"\n",
    "      f\"오늘 판매하는 과일:{f}\\n\\n\"\n",
    "      f\"현재 재고: {c}\")\n",
    "\n"
   ]
  }
 ],
 "metadata": {
  "kernelspec": {
   "display_name": "Python 3",
   "language": "python",
   "name": "python3"
  },
  "language_info": {
   "codemirror_mode": {
    "name": "ipython",
    "version": 3
   },
   "file_extension": ".py",
   "mimetype": "text/x-python",
   "name": "python",
   "nbconvert_exporter": "python",
   "pygments_lexer": "ipython3",
   "version": "3.11.8"
  }
 },
 "nbformat": 4,
 "nbformat_minor": 5
}
